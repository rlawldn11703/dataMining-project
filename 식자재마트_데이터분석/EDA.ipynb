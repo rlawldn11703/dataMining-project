{
 "cells": [
  {
   "cell_type": "code",
   "execution_count": 1,
   "metadata": {},
   "outputs": [],
   "source": [
    "#데이터 구성 패키지 : Series, DataFrame\n",
    "import datetime \n",
    "import pandas as pd\n",
    "#행렬 연산 패키지\n",
    "import numpy as np\n",
    "\n",
    "#데이터 시각화 패키지\n",
    "import matplotlib.pyplot as plt\n",
    "import matplotlib\n",
    "\n",
    "#데이터 시각화(추세 등) 패키지\n",
    "import seaborn as sns\n",
    "\n",
    "#통계분석 패키지\n",
    "from sklearn.preprocessing import scale,minmax_scale,robust_scale\n",
    "\n",
    "#경고메세지 무시\n",
    "import warnings\n",
    "warnings.filterwarnings(action='ignore')\n",
    "\n",
    "\n",
    "%matplotlib inline"
   ]
  },
  {
   "cell_type": "code",
   "execution_count": 2,
   "metadata": {},
   "outputs": [],
   "source": [
    "#한글 폰트 적용 \n",
    "matplotlib.rc('font',family='NanumGothic')\n",
    "plt.rc('font', family='NanumGothic')"
   ]
  },
  {
   "cell_type": "code",
   "execution_count": 3,
   "metadata": {},
   "outputs": [],
   "source": [
    "from scipy import stats\n",
    "import scipy.stats"
   ]
  },
  {
   "cell_type": "code",
   "execution_count": 4,
   "metadata": {},
   "outputs": [],
   "source": [
    "#seaborn에서 한글 깨짐 해결: unicode minus 사용하지 않겠다.\n",
    "plt.rcParams['axes.unicode_minus'] = False"
   ]
  },
  {
   "cell_type": "code",
   "execution_count": 5,
   "metadata": {},
   "outputs": [],
   "source": [
    "df_member=pd.read_csv('./1조_유통/jeju_member.csv')\n",
    "df_zipcode=pd.read_csv('./1조_유통/jeju_zipcode.csv',encoding='euc-kr')\n",
    "df_sales=pd.read_csv('./jeju_sales_processed.csv')"
   ]
  },
  {
   "cell_type": "code",
   "execution_count": 5,
   "metadata": {},
   "outputs": [
    {
     "data": {
      "text/html": [
       "<div>\n",
       "<style scoped>\n",
       "    .dataframe tbody tr th:only-of-type {\n",
       "        vertical-align: middle;\n",
       "    }\n",
       "\n",
       "    .dataframe tbody tr th {\n",
       "        vertical-align: top;\n",
       "    }\n",
       "\n",
       "    .dataframe thead th {\n",
       "        text-align: right;\n",
       "    }\n",
       "</style>\n",
       "<table border=\"1\" class=\"dataframe\">\n",
       "  <thead>\n",
       "    <tr style=\"text-align: right;\">\n",
       "      <th></th>\n",
       "      <th>customer_id</th>\n",
       "      <th>purchase_id</th>\n",
       "      <th>store_id</th>\n",
       "      <th>purchase_yearmonth</th>\n",
       "      <th>purchase_weekday</th>\n",
       "      <th>purchase_hour</th>\n",
       "      <th>purchase_date</th>\n",
       "      <th>purchase_time</th>\n",
       "      <th>supply_date</th>\n",
       "      <th>item_id</th>\n",
       "      <th>item_g_l</th>\n",
       "      <th>item_g_m</th>\n",
       "      <th>item_g_s</th>\n",
       "      <th>item_name</th>\n",
       "      <th>purchase_cnt</th>\n",
       "      <th>unit_cost</th>\n",
       "      <th>purchase_amt</th>\n",
       "    </tr>\n",
       "  </thead>\n",
       "  <tbody>\n",
       "    <tr>\n",
       "      <th>0</th>\n",
       "      <td>C118113</td>\n",
       "      <td>C118113_20180110_87</td>\n",
       "      <td>제주매장</td>\n",
       "      <td>2018M01</td>\n",
       "      <td>수요일</td>\n",
       "      <td>14</td>\n",
       "      <td>2018-01-10</td>\n",
       "      <td>14:47:04</td>\n",
       "      <td>2018-01-10</td>\n",
       "      <td>P08010117</td>\n",
       "      <td>간식</td>\n",
       "      <td>과자</td>\n",
       "      <td>스낵</td>\n",
       "      <td>꼬마찹쌀모나카(112g/8개)</td>\n",
       "      <td>1</td>\n",
       "      <td>3000</td>\n",
       "      <td>3000</td>\n",
       "    </tr>\n",
       "    <tr>\n",
       "      <th>1</th>\n",
       "      <td>C118113</td>\n",
       "      <td>C118113_20180110_87</td>\n",
       "      <td>제주매장</td>\n",
       "      <td>2018M01</td>\n",
       "      <td>수요일</td>\n",
       "      <td>14</td>\n",
       "      <td>2018-01-10</td>\n",
       "      <td>14:47:04</td>\n",
       "      <td>2018-01-10</td>\n",
       "      <td>P09040101</td>\n",
       "      <td>양념/가루</td>\n",
       "      <td>장</td>\n",
       "      <td>간장</td>\n",
       "      <td>제주전통어간장(500ml)</td>\n",
       "      <td>1</td>\n",
       "      <td>7900</td>\n",
       "      <td>7900</td>\n",
       "    </tr>\n",
       "    <tr>\n",
       "      <th>2</th>\n",
       "      <td>C118113</td>\n",
       "      <td>C118113_20180110_87</td>\n",
       "      <td>제주매장</td>\n",
       "      <td>2018M01</td>\n",
       "      <td>수요일</td>\n",
       "      <td>14</td>\n",
       "      <td>2018-01-10</td>\n",
       "      <td>14:47:04</td>\n",
       "      <td>2018-01-10</td>\n",
       "      <td>P09040100</td>\n",
       "      <td>양념/가루</td>\n",
       "      <td>장</td>\n",
       "      <td>간장</td>\n",
       "      <td>맛간장(900ml)</td>\n",
       "      <td>1</td>\n",
       "      <td>13600</td>\n",
       "      <td>13600</td>\n",
       "    </tr>\n",
       "    <tr>\n",
       "      <th>3</th>\n",
       "      <td>C118113</td>\n",
       "      <td>C118113_20181008_22</td>\n",
       "      <td>제주매장</td>\n",
       "      <td>2018M10</td>\n",
       "      <td>월요일</td>\n",
       "      <td>11</td>\n",
       "      <td>2018-10-08</td>\n",
       "      <td>11:59:24</td>\n",
       "      <td>2018-10-08</td>\n",
       "      <td>P09010305</td>\n",
       "      <td>양념/가루</td>\n",
       "      <td>가루</td>\n",
       "      <td>곡식가루</td>\n",
       "      <td>엿기름가루(무/500g)</td>\n",
       "      <td>2</td>\n",
       "      <td>3200</td>\n",
       "      <td>6400</td>\n",
       "    </tr>\n",
       "    <tr>\n",
       "      <th>4</th>\n",
       "      <td>C118113</td>\n",
       "      <td>C118113_20181008_22</td>\n",
       "      <td>제주매장</td>\n",
       "      <td>2018M10</td>\n",
       "      <td>월요일</td>\n",
       "      <td>11</td>\n",
       "      <td>2018-10-08</td>\n",
       "      <td>11:59:24</td>\n",
       "      <td>2018-10-08</td>\n",
       "      <td>P09010301</td>\n",
       "      <td>양념/가루</td>\n",
       "      <td>가루</td>\n",
       "      <td>곡식가루</td>\n",
       "      <td>메주가루(500g)</td>\n",
       "      <td>2</td>\n",
       "      <td>11000</td>\n",
       "      <td>22000</td>\n",
       "    </tr>\n",
       "  </tbody>\n",
       "</table>\n",
       "</div>"
      ],
      "text/plain": [
       "  customer_id          purchase_id store_id purchase_yearmonth  \\\n",
       "0     C118113  C118113_20180110_87     제주매장            2018M01   \n",
       "1     C118113  C118113_20180110_87     제주매장            2018M01   \n",
       "2     C118113  C118113_20180110_87     제주매장            2018M01   \n",
       "3     C118113  C118113_20181008_22     제주매장            2018M10   \n",
       "4     C118113  C118113_20181008_22     제주매장            2018M10   \n",
       "\n",
       "  purchase_weekday  purchase_hour purchase_date purchase_time supply_date  \\\n",
       "0              수요일             14    2018-01-10      14:47:04  2018-01-10   \n",
       "1              수요일             14    2018-01-10      14:47:04  2018-01-10   \n",
       "2              수요일             14    2018-01-10      14:47:04  2018-01-10   \n",
       "3              월요일             11    2018-10-08      11:59:24  2018-10-08   \n",
       "4              월요일             11    2018-10-08      11:59:24  2018-10-08   \n",
       "\n",
       "     item_id item_g_l item_g_m item_g_s         item_name  purchase_cnt  \\\n",
       "0  P08010117       간식       과자       스낵  꼬마찹쌀모나카(112g/8개)             1   \n",
       "1  P09040101    양념/가루        장       간장    제주전통어간장(500ml)             1   \n",
       "2  P09040100    양념/가루        장       간장        맛간장(900ml)             1   \n",
       "3  P09010305    양념/가루       가루     곡식가루     엿기름가루(무/500g)             2   \n",
       "4  P09010301    양념/가루       가루     곡식가루        메주가루(500g)             2   \n",
       "\n",
       "   unit_cost  purchase_amt  \n",
       "0       3000          3000  \n",
       "1       7900          7900  \n",
       "2      13600         13600  \n",
       "3       3200          6400  \n",
       "4      11000         22000  "
      ]
     },
     "execution_count": 5,
     "metadata": {},
     "output_type": "execute_result"
    }
   ],
   "source": [
    "df_sales.head()"
   ]
  },
  {
   "cell_type": "code",
   "execution_count": 6,
   "metadata": {},
   "outputs": [
    {
     "data": {
      "text/html": [
       "<div>\n",
       "<style scoped>\n",
       "    .dataframe tbody tr th:only-of-type {\n",
       "        vertical-align: middle;\n",
       "    }\n",
       "\n",
       "    .dataframe tbody tr th {\n",
       "        vertical-align: top;\n",
       "    }\n",
       "\n",
       "    .dataframe thead th {\n",
       "        text-align: right;\n",
       "    }\n",
       "</style>\n",
       "<table border=\"1\" class=\"dataframe\">\n",
       "  <thead>\n",
       "    <tr style=\"text-align: right;\">\n",
       "      <th></th>\n",
       "      <th>customer_id</th>\n",
       "      <th>birth_date</th>\n",
       "      <th>gender</th>\n",
       "      <th>age</th>\n",
       "      <th>agegroup</th>\n",
       "      <th>customer_type</th>\n",
       "      <th>customer_grade</th>\n",
       "      <th>gaip_date</th>\n",
       "      <th>taltoi_date</th>\n",
       "      <th>member_month</th>\n",
       "      <th>gaip_path</th>\n",
       "      <th>flag_member</th>\n",
       "      <th>flag_rcv_sms</th>\n",
       "      <th>flag_rcv_email</th>\n",
       "      <th>flag_rcv_post</th>\n",
       "      <th>zipcode</th>\n",
       "      <th>sigun</th>\n",
       "      <th>dong</th>\n",
       "      <th>ri</th>\n",
       "      <th>address</th>\n",
       "    </tr>\n",
       "  </thead>\n",
       "  <tbody>\n",
       "    <tr>\n",
       "      <th>0</th>\n",
       "      <td>C102666</td>\n",
       "      <td>1976-11-08</td>\n",
       "      <td>남</td>\n",
       "      <td>44</td>\n",
       "      <td>40대</td>\n",
       "      <td>일반</td>\n",
       "      <td>3Gold</td>\n",
       "      <td>2014-10-07</td>\n",
       "      <td>NaN</td>\n",
       "      <td>63</td>\n",
       "      <td>매장</td>\n",
       "      <td>Y</td>\n",
       "      <td>Y</td>\n",
       "      <td>Y</td>\n",
       "      <td>Y</td>\n",
       "      <td>690-170</td>\n",
       "      <td>제주시</td>\n",
       "      <td>연동</td>\n",
       "      <td>NaN</td>\n",
       "      <td>제주 제주시 연동</td>\n",
       "    </tr>\n",
       "    <tr>\n",
       "      <th>1</th>\n",
       "      <td>C118113</td>\n",
       "      <td>1975-08-18</td>\n",
       "      <td>여</td>\n",
       "      <td>45</td>\n",
       "      <td>40대</td>\n",
       "      <td>일반</td>\n",
       "      <td>3Gold</td>\n",
       "      <td>2011-12-06</td>\n",
       "      <td>NaN</td>\n",
       "      <td>97</td>\n",
       "      <td>기타</td>\n",
       "      <td>Y</td>\n",
       "      <td>Y</td>\n",
       "      <td>Y</td>\n",
       "      <td>Y</td>\n",
       "      <td>690-122</td>\n",
       "      <td>제주시</td>\n",
       "      <td>아라2동</td>\n",
       "      <td>NaN</td>\n",
       "      <td>제주 제주시 아라2동</td>\n",
       "    </tr>\n",
       "    <tr>\n",
       "      <th>2</th>\n",
       "      <td>C118133</td>\n",
       "      <td>1981-03-20</td>\n",
       "      <td>남</td>\n",
       "      <td>39</td>\n",
       "      <td>30대</td>\n",
       "      <td>일반</td>\n",
       "      <td>4Silver</td>\n",
       "      <td>2011-12-07</td>\n",
       "      <td>2014-04-02</td>\n",
       "      <td>28</td>\n",
       "      <td>매장</td>\n",
       "      <td>N</td>\n",
       "      <td>Y</td>\n",
       "      <td>Y</td>\n",
       "      <td>N</td>\n",
       "      <td>699-900</td>\n",
       "      <td>서귀포시</td>\n",
       "      <td>성산읍</td>\n",
       "      <td>NaN</td>\n",
       "      <td>제주 서귀포시 성산읍</td>\n",
       "    </tr>\n",
       "    <tr>\n",
       "      <th>3</th>\n",
       "      <td>C118278</td>\n",
       "      <td>1979-06-22</td>\n",
       "      <td>여</td>\n",
       "      <td>41</td>\n",
       "      <td>40대</td>\n",
       "      <td>일반</td>\n",
       "      <td>3Gold</td>\n",
       "      <td>2011-12-11</td>\n",
       "      <td>NaN</td>\n",
       "      <td>97</td>\n",
       "      <td>인터넷</td>\n",
       "      <td>Y</td>\n",
       "      <td>Y</td>\n",
       "      <td>Y</td>\n",
       "      <td>Y</td>\n",
       "      <td>695-791</td>\n",
       "      <td>제주시</td>\n",
       "      <td>애월읍</td>\n",
       "      <td>광령2리</td>\n",
       "      <td>제주 제주시 애월읍 광령2리 제주관광대학</td>\n",
       "    </tr>\n",
       "    <tr>\n",
       "      <th>4</th>\n",
       "      <td>C118280</td>\n",
       "      <td>1959-08-28</td>\n",
       "      <td>남</td>\n",
       "      <td>61</td>\n",
       "      <td>60대</td>\n",
       "      <td>일반</td>\n",
       "      <td>3Gold</td>\n",
       "      <td>2011-12-11</td>\n",
       "      <td>2016-05-02</td>\n",
       "      <td>53</td>\n",
       "      <td>기타</td>\n",
       "      <td>N</td>\n",
       "      <td>N</td>\n",
       "      <td>N</td>\n",
       "      <td>N</td>\n",
       "      <td>699-905</td>\n",
       "      <td>서귀포시</td>\n",
       "      <td>성산읍</td>\n",
       "      <td>삼달리</td>\n",
       "      <td>제주 서귀포시 성산읍 삼달리</td>\n",
       "    </tr>\n",
       "  </tbody>\n",
       "</table>\n",
       "</div>"
      ],
      "text/plain": [
       "  customer_id  birth_date gender  age agegroup customer_type customer_grade  \\\n",
       "0     C102666  1976-11-08      남   44      40대            일반          3Gold   \n",
       "1     C118113  1975-08-18      여   45      40대            일반          3Gold   \n",
       "2     C118133  1981-03-20      남   39      30대            일반        4Silver   \n",
       "3     C118278  1979-06-22      여   41      40대            일반          3Gold   \n",
       "4     C118280  1959-08-28      남   61      60대            일반          3Gold   \n",
       "\n",
       "    gaip_date taltoi_date  member_month gaip_path flag_member flag_rcv_sms  \\\n",
       "0  2014-10-07         NaN            63        매장           Y            Y   \n",
       "1  2011-12-06         NaN            97        기타           Y            Y   \n",
       "2  2011-12-07  2014-04-02            28        매장           N            Y   \n",
       "3  2011-12-11         NaN            97       인터넷           Y            Y   \n",
       "4  2011-12-11  2016-05-02            53        기타           N            N   \n",
       "\n",
       "  flag_rcv_email flag_rcv_post  zipcode sigun  dong    ri  \\\n",
       "0              Y             Y  690-170   제주시    연동   NaN   \n",
       "1              Y             Y  690-122   제주시  아라2동   NaN   \n",
       "2              Y             N  699-900  서귀포시   성산읍   NaN   \n",
       "3              Y             Y  695-791   제주시   애월읍  광령2리   \n",
       "4              N             N  699-905  서귀포시   성산읍   삼달리   \n",
       "\n",
       "                  address  \n",
       "0               제주 제주시 연동  \n",
       "1             제주 제주시 아라2동  \n",
       "2             제주 서귀포시 성산읍  \n",
       "3  제주 제주시 애월읍 광령2리 제주관광대학  \n",
       "4         제주 서귀포시 성산읍 삼달리  "
      ]
     },
     "execution_count": 6,
     "metadata": {},
     "output_type": "execute_result"
    }
   ],
   "source": [
    "df_member.head()"
   ]
  },
  {
   "cell_type": "code",
   "execution_count": 7,
   "metadata": {},
   "outputs": [
    {
     "data": {
      "text/plain": [
       "634"
      ]
     },
     "execution_count": 7,
     "metadata": {},
     "output_type": "execute_result"
    }
   ],
   "source": [
    "#탈퇴한 사람 634명\n",
    "(df_member['flag_member'] == 'N').sum()"
   ]
  },
  {
   "cell_type": "code",
   "execution_count": 8,
   "metadata": {},
   "outputs": [
    {
     "data": {
      "text/plain": [
       "Timedelta('183 days 00:00:00')"
      ]
     },
     "execution_count": 8,
     "metadata": {},
     "output_type": "execute_result"
    }
   ],
   "source": [
    "time_last = pd.to_datetime('2019-12-31')\n",
    "time_first = pd.to_datetime('2019-07-01')\n",
    "time_last-time_first"
   ]
  },
  {
   "cell_type": "code",
   "execution_count": 36,
   "metadata": {},
   "outputs": [],
   "source": [
    "#datetime 타입으로 변환\n",
    "df_sales['last_purchase'] = pd.to_datetime(df_sales['purchase_date'],infer_datetime_format=True)\n",
    "time_last = pd.to_datetime('2019-12-31')\n",
    "df_sales['recency'] = time_last-df_sales['last_purchase']\n",
    "df1 = df_sales.groupby(\"customer_id\").agg({'recency': 'min'}).reset_index()"
   ]
  },
  {
   "cell_type": "code",
   "execution_count": 10,
   "metadata": {},
   "outputs": [],
   "source": [
    "df_r = pd.merge(df_member,df1,how='inner',left_on='customer_id',right_on='customer_id')"
   ]
  },
  {
   "cell_type": "markdown",
   "metadata": {},
   "source": [
    "**df_member에 있는데, df_sales에 없음(약 3200개 정도) => 회원인데 구매는 안했다?**   \n",
    "최근 방문 일자 확인하기 위해,    \n",
    "일단 회원중에 가입하고 물건을 구매한 사람들 중에 12월31일 기준으로 몇일 전에 구매했는지 확인(recency)    \n",
    "**최근 구매일자 기준으로 cut**"
   ]
  },
  {
   "cell_type": "code",
   "execution_count": 11,
   "metadata": {},
   "outputs": [
    {
     "data": {
      "text/plain": [
       "(2755, 21)"
      ]
     },
     "execution_count": 11,
     "metadata": {},
     "output_type": "execute_result"
    }
   ],
   "source": [
    "df_r.shape"
   ]
  },
  {
   "cell_type": "code",
   "execution_count": 12,
   "metadata": {},
   "outputs": [
    {
     "data": {
      "text/plain": [
       "(273295, 19)"
      ]
     },
     "execution_count": 12,
     "metadata": {},
     "output_type": "execute_result"
    }
   ],
   "source": [
    "df_sales.shape"
   ]
  },
  {
   "cell_type": "code",
   "execution_count": 13,
   "metadata": {},
   "outputs": [
    {
     "data": {
      "image/png": "[encoded data removed]",
      "text/plain": [
       "<Figure size 432x288 with 1 Axes>"
      ]
     },
     "metadata": {
      "needs_background": "light"
     },
     "output_type": "display_data"
    }
   ],
   "source": [
    "#최근 방문 일자 분포도\n",
    "day_list = [t.days for t in df_r['recency']]\n",
    "plt.hist(day_list)\n",
    "plt.show()"
   ]
  },
  {
   "cell_type": "code",
   "execution_count": 14,
   "metadata": {},
   "outputs": [
    {
     "data": {
      "text/plain": [
       "count                           2755\n",
       "mean     144 days 20:23:36.479128856\n",
       "std      179 days 02:58:09.594158868\n",
       "min                  1 days 00:00:00\n",
       "25%                 15 days 00:00:00\n",
       "50%                 62 days 00:00:00\n",
       "75%                215 days 00:00:00\n",
       "max                728 days 00:00:00\n",
       "Name: recency, dtype: object"
      ]
     },
     "execution_count": 14,
     "metadata": {},
     "output_type": "execute_result"
    }
   ],
   "source": [
    "#최근구매일자 Q1,Median,Q3\n",
    "df_r['recency'].describe()"
   ]
  },
  {
   "cell_type": "code",
   "execution_count": 15,
   "metadata": {},
   "outputs": [
    {
     "data": {
      "text/plain": [
       "<AxesSubplot:ylabel='count'>"
      ]
     },
     "execution_count": 15,
     "metadata": {},
     "output_type": "execute_result"
    },
    {
     "data": {
      "image/png": "[encoded data removed]",
      "text/plain": [
       "<Figure size 720x216 with 1 Axes>"
      ]
     },
     "metadata": {
      "needs_background": "light"
     },
     "output_type": "display_data"
    }
   ],
   "source": [
    "def to_weeks(days):\n",
    "    if days<15:\n",
    "        week='15일 미만'\n",
    "    elif 15<=days<100:\n",
    "        week='15일 이상 100일 미만'\n",
    "    else:\n",
    "        week='100일 이상'\n",
    "    return week\n",
    "\n",
    "#최근 방문 일자 분포도\n",
    "day_list = [t.days for t in df_r['recency']]\n",
    "day_list = sorted(list(map(to_weeks,day_list)))\n",
    "plt.figure(figsize = (10, 3))\n",
    "sns.countplot(day_list)"
   ]
  },
  {
   "cell_type": "code",
   "execution_count": 16,
   "metadata": {},
   "outputs": [
    {
     "data": {
      "text/plain": [
       "24.972776769509984"
      ]
     },
     "execution_count": 16,
     "metadata": {},
     "output_type": "execute_result"
    }
   ],
   "source": [
    "day_list.count('15일 미만')/len(day_list)*100"
   ]
  },
  {
   "cell_type": "code",
   "execution_count": 17,
   "metadata": {},
   "outputs": [
    {
     "data": {
      "text/plain": [
       "2755"
      ]
     },
     "execution_count": 17,
     "metadata": {},
     "output_type": "execute_result"
    }
   ],
   "source": [
    "len(day_list)"
   ]
  },
  {
   "cell_type": "markdown",
   "metadata": {},
   "source": [
    "**회원가입을 했다가 탈퇴한 사람의 고객 유지 기간 확인**"
   ]
  },
  {
   "cell_type": "code",
   "execution_count": 37,
   "metadata": {},
   "outputs": [],
   "source": [
    "#회원가입했지만 구매하지 않은 사람들 포함한 데이터\n",
    "df_include = pd.merge(df_member,df1,how='outer',left_on='customer_id',right_on='customer_id')"
   ]
  },
  {
   "cell_type": "code",
   "execution_count": 45,
   "metadata": {},
   "outputs": [
    {
     "data": {
      "text/html": [
       "<div>\n",
       "<style scoped>\n",
       "    .dataframe tbody tr th:only-of-type {\n",
       "        vertical-align: middle;\n",
       "    }\n",
       "\n",
       "    .dataframe tbody tr th {\n",
       "        vertical-align: top;\n",
       "    }\n",
       "\n",
       "    .dataframe thead th {\n",
       "        text-align: right;\n",
       "    }\n",
       "</style>\n",
       "<table border=\"1\" class=\"dataframe\">\n",
       "  <thead>\n",
       "    <tr style=\"text-align: right;\">\n",
       "      <th></th>\n",
       "      <th>customer_id</th>\n",
       "      <th>birth_date</th>\n",
       "      <th>gender</th>\n",
       "      <th>age</th>\n",
       "      <th>agegroup</th>\n",
       "      <th>customer_type</th>\n",
       "      <th>customer_grade</th>\n",
       "      <th>gaip_date</th>\n",
       "      <th>taltoi_date</th>\n",
       "      <th>member_month</th>\n",
       "      <th>...</th>\n",
       "      <th>flag_member</th>\n",
       "      <th>flag_rcv_sms</th>\n",
       "      <th>flag_rcv_email</th>\n",
       "      <th>flag_rcv_post</th>\n",
       "      <th>zipcode</th>\n",
       "      <th>sigun</th>\n",
       "      <th>dong</th>\n",
       "      <th>ri</th>\n",
       "      <th>address</th>\n",
       "      <th>recency</th>\n",
       "    </tr>\n",
       "  </thead>\n",
       "  <tbody>\n",
       "    <tr>\n",
       "      <th>8</th>\n",
       "      <td>C118291</td>\n",
       "      <td>1962-07-19</td>\n",
       "      <td>여</td>\n",
       "      <td>58</td>\n",
       "      <td>50대</td>\n",
       "      <td>일반</td>\n",
       "      <td>1Royal</td>\n",
       "      <td>2011-12-11</td>\n",
       "      <td>NaN</td>\n",
       "      <td>97</td>\n",
       "      <td>...</td>\n",
       "      <td>Y</td>\n",
       "      <td>Y</td>\n",
       "      <td>N</td>\n",
       "      <td>Y</td>\n",
       "      <td>690-760</td>\n",
       "      <td>제주시</td>\n",
       "      <td>노형동</td>\n",
       "      <td>부영아파트</td>\n",
       "      <td>제주 제주시 노형동 부영아파트</td>\n",
       "      <td>1 days</td>\n",
       "    </tr>\n",
       "    <tr>\n",
       "      <th>10</th>\n",
       "      <td>C118294</td>\n",
       "      <td>1973-04-19</td>\n",
       "      <td>여</td>\n",
       "      <td>47</td>\n",
       "      <td>40대</td>\n",
       "      <td>일반</td>\n",
       "      <td>2Platinum</td>\n",
       "      <td>2011-12-11</td>\n",
       "      <td>NaN</td>\n",
       "      <td>97</td>\n",
       "      <td>...</td>\n",
       "      <td>Y</td>\n",
       "      <td>Y</td>\n",
       "      <td>Y</td>\n",
       "      <td>Y</td>\n",
       "      <td>697-835</td>\n",
       "      <td>서귀포시</td>\n",
       "      <td>동홍동</td>\n",
       "      <td>119~434</td>\n",
       "      <td>제주 서귀포시 동홍동 119~434</td>\n",
       "      <td>44 days</td>\n",
       "    </tr>\n",
       "    <tr>\n",
       "      <th>12</th>\n",
       "      <td>C118298</td>\n",
       "      <td>1952-01-12</td>\n",
       "      <td>여</td>\n",
       "      <td>68</td>\n",
       "      <td>60대</td>\n",
       "      <td>일반</td>\n",
       "      <td>2Platinum</td>\n",
       "      <td>2011-12-11</td>\n",
       "      <td>NaN</td>\n",
       "      <td>97</td>\n",
       "      <td>...</td>\n",
       "      <td>Y</td>\n",
       "      <td>N</td>\n",
       "      <td>Y</td>\n",
       "      <td>Y</td>\n",
       "      <td>699-930</td>\n",
       "      <td>서귀포시</td>\n",
       "      <td>대정읍</td>\n",
       "      <td>NaN</td>\n",
       "      <td>제주 서귀포시 대정읍</td>\n",
       "      <td>14 days</td>\n",
       "    </tr>\n",
       "    <tr>\n",
       "      <th>14</th>\n",
       "      <td>C118300</td>\n",
       "      <td>1966-08-25</td>\n",
       "      <td>남</td>\n",
       "      <td>54</td>\n",
       "      <td>50대</td>\n",
       "      <td>일반</td>\n",
       "      <td>1Royal</td>\n",
       "      <td>2011-12-11</td>\n",
       "      <td>NaN</td>\n",
       "      <td>97</td>\n",
       "      <td>...</td>\n",
       "      <td>Y</td>\n",
       "      <td>Y</td>\n",
       "      <td>Y</td>\n",
       "      <td>Y</td>\n",
       "      <td>695-924</td>\n",
       "      <td>제주시</td>\n",
       "      <td>한림읍</td>\n",
       "      <td>금악리</td>\n",
       "      <td>제주 제주시 한림읍 금악리</td>\n",
       "      <td>43 days</td>\n",
       "    </tr>\n",
       "    <tr>\n",
       "      <th>17</th>\n",
       "      <td>C118477</td>\n",
       "      <td>1974-11-11</td>\n",
       "      <td>여</td>\n",
       "      <td>46</td>\n",
       "      <td>40대</td>\n",
       "      <td>일반</td>\n",
       "      <td>2Platinum</td>\n",
       "      <td>2011-12-13</td>\n",
       "      <td>NaN</td>\n",
       "      <td>97</td>\n",
       "      <td>...</td>\n",
       "      <td>Y</td>\n",
       "      <td>Y</td>\n",
       "      <td>N</td>\n",
       "      <td>Y</td>\n",
       "      <td>690-170</td>\n",
       "      <td>제주시</td>\n",
       "      <td>연동</td>\n",
       "      <td>NaN</td>\n",
       "      <td>제주 제주시 연동</td>\n",
       "      <td>89 days</td>\n",
       "    </tr>\n",
       "    <tr>\n",
       "      <th>...</th>\n",
       "      <td>...</td>\n",
       "      <td>...</td>\n",
       "      <td>...</td>\n",
       "      <td>...</td>\n",
       "      <td>...</td>\n",
       "      <td>...</td>\n",
       "      <td>...</td>\n",
       "      <td>...</td>\n",
       "      <td>...</td>\n",
       "      <td>...</td>\n",
       "      <td>...</td>\n",
       "      <td>...</td>\n",
       "      <td>...</td>\n",
       "      <td>...</td>\n",
       "      <td>...</td>\n",
       "      <td>...</td>\n",
       "      <td>...</td>\n",
       "      <td>...</td>\n",
       "      <td>...</td>\n",
       "      <td>...</td>\n",
       "      <td>...</td>\n",
       "    </tr>\n",
       "    <tr>\n",
       "      <th>5994</th>\n",
       "      <td>C704198</td>\n",
       "      <td>1981-11-20</td>\n",
       "      <td>여</td>\n",
       "      <td>39</td>\n",
       "      <td>30대</td>\n",
       "      <td>일반</td>\n",
       "      <td>2Platinum</td>\n",
       "      <td>2019-12-02</td>\n",
       "      <td>NaN</td>\n",
       "      <td>1</td>\n",
       "      <td>...</td>\n",
       "      <td>Y</td>\n",
       "      <td>Y</td>\n",
       "      <td>Y</td>\n",
       "      <td>Y</td>\n",
       "      <td>690-830</td>\n",
       "      <td>제주시</td>\n",
       "      <td>일도2동</td>\n",
       "      <td>1~53</td>\n",
       "      <td>제주 제주시 일도2동 1~53</td>\n",
       "      <td>5 days</td>\n",
       "    </tr>\n",
       "    <tr>\n",
       "      <th>5997</th>\n",
       "      <td>C704271</td>\n",
       "      <td>1972-12-10</td>\n",
       "      <td>여</td>\n",
       "      <td>48</td>\n",
       "      <td>40대</td>\n",
       "      <td>일반</td>\n",
       "      <td>2Platinum</td>\n",
       "      <td>2019-12-01</td>\n",
       "      <td>NaN</td>\n",
       "      <td>1</td>\n",
       "      <td>...</td>\n",
       "      <td>Y</td>\n",
       "      <td>Y</td>\n",
       "      <td>N</td>\n",
       "      <td>N</td>\n",
       "      <td>690-808</td>\n",
       "      <td>제주시</td>\n",
       "      <td>삼도2동</td>\n",
       "      <td>1~56</td>\n",
       "      <td>제주 제주시 삼도2동 1~56</td>\n",
       "      <td>10 days</td>\n",
       "    </tr>\n",
       "    <tr>\n",
       "      <th>6001</th>\n",
       "      <td>C704425</td>\n",
       "      <td>1965-08-15</td>\n",
       "      <td>여</td>\n",
       "      <td>55</td>\n",
       "      <td>50대</td>\n",
       "      <td>일반</td>\n",
       "      <td>2Platinum</td>\n",
       "      <td>2019-12-01</td>\n",
       "      <td>NaN</td>\n",
       "      <td>1</td>\n",
       "      <td>...</td>\n",
       "      <td>Y</td>\n",
       "      <td>Y</td>\n",
       "      <td>N</td>\n",
       "      <td>N</td>\n",
       "      <td>697-834</td>\n",
       "      <td>서귀포시</td>\n",
       "      <td>동홍동</td>\n",
       "      <td>1~118</td>\n",
       "      <td>제주 서귀포시 동홍동 1~118</td>\n",
       "      <td>NaT</td>\n",
       "    </tr>\n",
       "    <tr>\n",
       "      <th>6007</th>\n",
       "      <td>C705016</td>\n",
       "      <td>1976-01-23</td>\n",
       "      <td>여</td>\n",
       "      <td>44</td>\n",
       "      <td>40대</td>\n",
       "      <td>일반</td>\n",
       "      <td>2Platinum</td>\n",
       "      <td>2019-12-04</td>\n",
       "      <td>NaN</td>\n",
       "      <td>1</td>\n",
       "      <td>...</td>\n",
       "      <td>Y</td>\n",
       "      <td>Y</td>\n",
       "      <td>N</td>\n",
       "      <td>Y</td>\n",
       "      <td>699-900</td>\n",
       "      <td>서귀포시</td>\n",
       "      <td>성산읍</td>\n",
       "      <td>NaN</td>\n",
       "      <td>제주 서귀포시 성산읍</td>\n",
       "      <td>2 days</td>\n",
       "    </tr>\n",
       "    <tr>\n",
       "      <th>6008</th>\n",
       "      <td>C705804</td>\n",
       "      <td>1962-08-13</td>\n",
       "      <td>여</td>\n",
       "      <td>58</td>\n",
       "      <td>50대</td>\n",
       "      <td>일반</td>\n",
       "      <td>2Platinum</td>\n",
       "      <td>2019-12-09</td>\n",
       "      <td>NaN</td>\n",
       "      <td>1</td>\n",
       "      <td>...</td>\n",
       "      <td>Y</td>\n",
       "      <td>Y</td>\n",
       "      <td>Y</td>\n",
       "      <td>Y</td>\n",
       "      <td>697-070</td>\n",
       "      <td>서귀포시</td>\n",
       "      <td>동홍동</td>\n",
       "      <td>NaN</td>\n",
       "      <td>제주 서귀포시 동홍동</td>\n",
       "      <td>NaT</td>\n",
       "    </tr>\n",
       "  </tbody>\n",
       "</table>\n",
       "<p>1085 rows × 21 columns</p>\n",
       "</div>"
      ],
      "text/plain": [
       "     customer_id  birth_date gender  age agegroup customer_type  \\\n",
       "8        C118291  1962-07-19      여   58      50대            일반   \n",
       "10       C118294  1973-04-19      여   47      40대            일반   \n",
       "12       C118298  1952-01-12      여   68      60대            일반   \n",
       "14       C118300  1966-08-25      남   54      50대            일반   \n",
       "17       C118477  1974-11-11      여   46      40대            일반   \n",
       "...          ...         ...    ...  ...      ...           ...   \n",
       "5994     C704198  1981-11-20      여   39      30대            일반   \n",
       "5997     C704271  1972-12-10      여   48      40대            일반   \n",
       "6001     C704425  1965-08-15      여   55      50대            일반   \n",
       "6007     C705016  1976-01-23      여   44      40대            일반   \n",
       "6008     C705804  1962-08-13      여   58      50대            일반   \n",
       "\n",
       "     customer_grade   gaip_date taltoi_date  member_month  ... flag_member  \\\n",
       "8            1Royal  2011-12-11         NaN            97  ...           Y   \n",
       "10        2Platinum  2011-12-11         NaN            97  ...           Y   \n",
       "12        2Platinum  2011-12-11         NaN            97  ...           Y   \n",
       "14           1Royal  2011-12-11         NaN            97  ...           Y   \n",
       "17        2Platinum  2011-12-13         NaN            97  ...           Y   \n",
       "...             ...         ...         ...           ...  ...         ...   \n",
       "5994      2Platinum  2019-12-02         NaN             1  ...           Y   \n",
       "5997      2Platinum  2019-12-01         NaN             1  ...           Y   \n",
       "6001      2Platinum  2019-12-01         NaN             1  ...           Y   \n",
       "6007      2Platinum  2019-12-04         NaN             1  ...           Y   \n",
       "6008      2Platinum  2019-12-09         NaN             1  ...           Y   \n",
       "\n",
       "     flag_rcv_sms flag_rcv_email flag_rcv_post  zipcode sigun  dong       ri  \\\n",
       "8               Y              N             Y  690-760   제주시   노형동    부영아파트   \n",
       "10              Y              Y             Y  697-835  서귀포시   동홍동  119~434   \n",
       "12              N              Y             Y  699-930  서귀포시   대정읍      NaN   \n",
       "14              Y              Y             Y  695-924   제주시   한림읍      금악리   \n",
       "17              Y              N             Y  690-170   제주시    연동      NaN   \n",
       "...           ...            ...           ...      ...   ...   ...      ...   \n",
       "5994            Y              Y             Y  690-830   제주시  일도2동     1~53   \n",
       "5997            Y              N             N  690-808   제주시  삼도2동     1~56   \n",
       "6001            Y              N             N  697-834  서귀포시   동홍동    1~118   \n",
       "6007            Y              N             Y  699-900  서귀포시   성산읍      NaN   \n",
       "6008            Y              Y             Y  697-070  서귀포시   동홍동      NaN   \n",
       "\n",
       "                  address recency  \n",
       "8        제주 제주시 노형동 부영아파트  1 days  \n",
       "10    제주 서귀포시 동홍동 119~434 44 days  \n",
       "12            제주 서귀포시 대정읍 14 days  \n",
       "14         제주 제주시 한림읍 금악리 43 days  \n",
       "17              제주 제주시 연동 89 days  \n",
       "...                   ...     ...  \n",
       "5994     제주 제주시 일도2동 1~53  5 days  \n",
       "5997     제주 제주시 삼도2동 1~56 10 days  \n",
       "6001    제주 서귀포시 동홍동 1~118     NaT  \n",
       "6007          제주 서귀포시 성산읍  2 days  \n",
       "6008          제주 서귀포시 동홍동     NaT  \n",
       "\n",
       "[1085 rows x 21 columns]"
      ]
     },
     "execution_count": 45,
     "metadata": {},
     "output_type": "execute_result"
    }
   ],
   "source": [
    "df_rp"
   ]
  },
  {
   "cell_type": "code",
   "execution_count": 54,
   "metadata": {},
   "outputs": [
    {
     "data": {
      "text/plain": [
       "<AxesSubplot:>"
      ]
     },
     "execution_count": 54,
     "metadata": {},
     "output_type": "execute_result"
    },
    {
     "data": {
      "image/png": "[encoded data removed]",
      "text/plain": [
       "<Figure size 432x288 with 1 Axes>"
      ]
     },
     "metadata": {
      "needs_background": "light"
     },
     "output_type": "display_data"
    }
   ],
   "source": [
    "df_rp = df_include.loc[(df_include['customer_grade'] == '1Royal') |(df_include['customer_grade'] == '2Platinum')]\n",
    "sns.barplot(x=['탈퇴 고객','현재 고객'],y=[(df_rp['taltoi_date'].isnull() == False).sum(),(df_rp['taltoi_date'].isnull() != False).sum()])\n",
    "plt.title('주요 고객층')"
   ]
  },
  {
   "cell_type": "code",
   "execution_count": 53,
   "metadata": {},
   "outputs": [
    {
     "data": {
      "text/plain": [
       "53"
      ]
     },
     "execution_count": 53,
     "metadata": {},
     "output_type": "execute_result"
    }
   ],
   "source": [
    "(df_rp['taltoi_date'].isnull() == False).sum()"
   ]
  },
  {
   "cell_type": "code",
   "execution_count": 50,
   "metadata": {},
   "outputs": [
    {
     "data": {
      "text/plain": [
       "8       True\n",
       "10      True\n",
       "12      True\n",
       "14      True\n",
       "17      True\n",
       "        ... \n",
       "5994    True\n",
       "5997    True\n",
       "6001    True\n",
       "6007    True\n",
       "6008    True\n",
       "Name: taltoi_date, Length: 1085, dtype: bool"
      ]
     },
     "execution_count": 50,
     "metadata": {},
     "output_type": "execute_result"
    }
   ],
   "source": [
    "df_rp['taltoi_date'].isnull()"
   ]
  },
  {
   "cell_type": "code",
   "execution_count": 19,
   "metadata": {},
   "outputs": [
    {
     "data": {
      "image/png": "[encoded data removed]",
      "text/plain": [
       "<Figure size 432x288 with 1 Axes>"
      ]
     },
     "metadata": {
      "needs_background": "light"
     },
     "output_type": "display_data"
    }
   ],
   "source": [
    "#회원가입했다가 탈퇴한 사람 => 가입했다가 탈퇴하면 구매 데이터 날아감\n",
    "df_taltoi=df_include.loc[(df_include['recency'].isnull()==True) &(df_include['taltoi_date'].isnull() != True)]\n",
    "#datetime 타입으로 변환\n",
    "df_taltoi['gaip_date'] = pd.to_datetime(df_taltoi['gaip_date'],infer_datetime_format=True)\n",
    "df_taltoi['taltoi_date'] = pd.to_datetime(df_taltoi['taltoi_date'],infer_datetime_format=True)\n",
    "#가입했다가 탈퇴하기까지 걸리는 시간\n",
    "df_taltoi['retention_date'] = df_taltoi['taltoi_date'] - df_taltoi['gaip_date']\n",
    "retention_list = [r.days for r in df_taltoi['retention_date']]\n",
    "\n",
    "#회원 유지 기간(탈퇴 회원) - 단위: 일\n",
    "plt.hist(retention_list)\n",
    "plt.show()"
   ]
  },
  {
   "cell_type": "code",
   "execution_count": 20,
   "metadata": {},
   "outputs": [
    {
     "data": {
      "image/png": "[encoded data removed]",
      "text/plain": [
       "<Figure size 432x288 with 1 Axes>"
      ]
     },
     "metadata": {
      "needs_background": "light"
     },
     "output_type": "display_data"
    }
   ],
   "source": [
    "#회원 유지 기간(전체 회원) - 단위: 월 \n",
    "plt.hist(df_member['member_month'])\n",
    "plt.show()"
   ]
  },
  {
   "cell_type": "code",
   "execution_count": 21,
   "metadata": {},
   "outputs": [],
   "source": [
    "retention_list = [r.days for r in df_taltoi['retention_date']]\n",
    "def to_years(days):\n",
    "    if days<365:\n",
    "        year='1년 미만'\n",
    "    elif 365<=days<365*2:\n",
    "        year='1년 이상 2년 미만'\n",
    "    elif 365*2<=days<365*3:\n",
    "        year='2년 이상 3년 미만'\n",
    "    elif 365*3<=days<365*4:\n",
    "        year='3년 이상 4년 미만'\n",
    "    elif 365*4<=days<365*5:\n",
    "        year='4년 이상 5년 미만'\n",
    "    else:\n",
    "        year='5년 이상'\n",
    "    return year\n",
    "retention_list = sorted(list(map(to_years,retention_list)))"
   ]
  },
  {
   "cell_type": "code",
   "execution_count": 22,
   "metadata": {},
   "outputs": [
    {
     "data": {
      "text/plain": [
       "<AxesSubplot:ylabel='count'>"
      ]
     },
     "execution_count": 22,
     "metadata": {},
     "output_type": "execute_result"
    },
    {
     "data": {
      "image/png": "[encoded data removed]",
      "text/plain": [
       "<Figure size 720x216 with 1 Axes>"
      ]
     },
     "metadata": {
      "needs_background": "light"
     },
     "output_type": "display_data"
    }
   ],
   "source": [
    "#가입했는데 1년 만에 탈퇴한 경우 매우 많음! \n",
    "plt.figure(figsize = (10, 3))\n",
    "sns.countplot(retention_list)"
   ]
  },
  {
   "cell_type": "markdown",
   "metadata": {},
   "source": [
    "**회원인데 구매는 안한 사람들의 특징**"
   ]
  },
  {
   "cell_type": "code",
   "execution_count": 23,
   "metadata": {},
   "outputs": [
    {
     "data": {
      "text/html": [
       "<div>\n",
       "<style scoped>\n",
       "    .dataframe tbody tr th:only-of-type {\n",
       "        vertical-align: middle;\n",
       "    }\n",
       "\n",
       "    .dataframe tbody tr th {\n",
       "        vertical-align: top;\n",
       "    }\n",
       "\n",
       "    .dataframe thead th {\n",
       "        text-align: right;\n",
       "    }\n",
       "</style>\n",
       "<table border=\"1\" class=\"dataframe\">\n",
       "  <thead>\n",
       "    <tr style=\"text-align: right;\">\n",
       "      <th></th>\n",
       "      <th>customer_id</th>\n",
       "      <th>birth_date</th>\n",
       "      <th>gender</th>\n",
       "      <th>age</th>\n",
       "      <th>agegroup</th>\n",
       "      <th>customer_type</th>\n",
       "      <th>customer_grade</th>\n",
       "      <th>gaip_date</th>\n",
       "      <th>taltoi_date</th>\n",
       "      <th>member_month</th>\n",
       "      <th>...</th>\n",
       "      <th>flag_member</th>\n",
       "      <th>flag_rcv_sms</th>\n",
       "      <th>flag_rcv_email</th>\n",
       "      <th>flag_rcv_post</th>\n",
       "      <th>zipcode</th>\n",
       "      <th>sigun</th>\n",
       "      <th>dong</th>\n",
       "      <th>ri</th>\n",
       "      <th>address</th>\n",
       "      <th>recency</th>\n",
       "    </tr>\n",
       "  </thead>\n",
       "  <tbody>\n",
       "    <tr>\n",
       "      <th>0</th>\n",
       "      <td>C102666</td>\n",
       "      <td>1976-11-08</td>\n",
       "      <td>남</td>\n",
       "      <td>44</td>\n",
       "      <td>40대</td>\n",
       "      <td>일반</td>\n",
       "      <td>3Gold</td>\n",
       "      <td>2014-10-07</td>\n",
       "      <td>NaN</td>\n",
       "      <td>63</td>\n",
       "      <td>...</td>\n",
       "      <td>Y</td>\n",
       "      <td>Y</td>\n",
       "      <td>Y</td>\n",
       "      <td>Y</td>\n",
       "      <td>690-170</td>\n",
       "      <td>제주시</td>\n",
       "      <td>연동</td>\n",
       "      <td>NaN</td>\n",
       "      <td>제주 제주시 연동</td>\n",
       "      <td>NaT</td>\n",
       "    </tr>\n",
       "    <tr>\n",
       "      <th>3</th>\n",
       "      <td>C118278</td>\n",
       "      <td>1979-06-22</td>\n",
       "      <td>여</td>\n",
       "      <td>41</td>\n",
       "      <td>40대</td>\n",
       "      <td>일반</td>\n",
       "      <td>3Gold</td>\n",
       "      <td>2011-12-11</td>\n",
       "      <td>NaN</td>\n",
       "      <td>97</td>\n",
       "      <td>...</td>\n",
       "      <td>Y</td>\n",
       "      <td>Y</td>\n",
       "      <td>Y</td>\n",
       "      <td>Y</td>\n",
       "      <td>695-791</td>\n",
       "      <td>제주시</td>\n",
       "      <td>애월읍</td>\n",
       "      <td>광령2리</td>\n",
       "      <td>제주 제주시 애월읍 광령2리 제주관광대학</td>\n",
       "      <td>NaT</td>\n",
       "    </tr>\n",
       "    <tr>\n",
       "      <th>7</th>\n",
       "      <td>C118290</td>\n",
       "      <td>1963-10-17</td>\n",
       "      <td>여</td>\n",
       "      <td>57</td>\n",
       "      <td>50대</td>\n",
       "      <td>일반</td>\n",
       "      <td>3Gold</td>\n",
       "      <td>2011-12-11</td>\n",
       "      <td>NaN</td>\n",
       "      <td>97</td>\n",
       "      <td>...</td>\n",
       "      <td>Y</td>\n",
       "      <td>Y</td>\n",
       "      <td>Y</td>\n",
       "      <td>Y</td>\n",
       "      <td>690-162</td>\n",
       "      <td>제주시</td>\n",
       "      <td>오라2동</td>\n",
       "      <td>NaN</td>\n",
       "      <td>제주 제주시 오라2동</td>\n",
       "      <td>NaT</td>\n",
       "    </tr>\n",
       "    <tr>\n",
       "      <th>9</th>\n",
       "      <td>C118292</td>\n",
       "      <td>1953-02-05</td>\n",
       "      <td>여</td>\n",
       "      <td>67</td>\n",
       "      <td>60대</td>\n",
       "      <td>일반</td>\n",
       "      <td>4Silver</td>\n",
       "      <td>2011-12-11</td>\n",
       "      <td>NaN</td>\n",
       "      <td>97</td>\n",
       "      <td>...</td>\n",
       "      <td>Y</td>\n",
       "      <td>Y</td>\n",
       "      <td>N</td>\n",
       "      <td>Y</td>\n",
       "      <td>697-835</td>\n",
       "      <td>서귀포시</td>\n",
       "      <td>동홍동</td>\n",
       "      <td>119~434</td>\n",
       "      <td>제주 서귀포시 동홍동 119~434</td>\n",
       "      <td>NaT</td>\n",
       "    </tr>\n",
       "    <tr>\n",
       "      <th>18</th>\n",
       "      <td>C118529</td>\n",
       "      <td>1973-10-12</td>\n",
       "      <td>남</td>\n",
       "      <td>47</td>\n",
       "      <td>40대</td>\n",
       "      <td>일반</td>\n",
       "      <td>4Silver</td>\n",
       "      <td>2011-12-14</td>\n",
       "      <td>NaN</td>\n",
       "      <td>97</td>\n",
       "      <td>...</td>\n",
       "      <td>Y</td>\n",
       "      <td>Y</td>\n",
       "      <td>Y</td>\n",
       "      <td>Y</td>\n",
       "      <td>690-817</td>\n",
       "      <td>제주시</td>\n",
       "      <td>연동</td>\n",
       "      <td>1111~1905</td>\n",
       "      <td>제주 제주시 연동 1111~1905</td>\n",
       "      <td>NaT</td>\n",
       "    </tr>\n",
       "  </tbody>\n",
       "</table>\n",
       "<p>5 rows × 21 columns</p>\n",
       "</div>"
      ],
      "text/plain": [
       "   customer_id  birth_date gender  age agegroup customer_type customer_grade  \\\n",
       "0      C102666  1976-11-08      남   44      40대            일반          3Gold   \n",
       "3      C118278  1979-06-22      여   41      40대            일반          3Gold   \n",
       "7      C118290  1963-10-17      여   57      50대            일반          3Gold   \n",
       "9      C118292  1953-02-05      여   67      60대            일반        4Silver   \n",
       "18     C118529  1973-10-12      남   47      40대            일반        4Silver   \n",
       "\n",
       "     gaip_date taltoi_date  member_month  ... flag_member flag_rcv_sms  \\\n",
       "0   2014-10-07         NaN            63  ...           Y            Y   \n",
       "3   2011-12-11         NaN            97  ...           Y            Y   \n",
       "7   2011-12-11         NaN            97  ...           Y            Y   \n",
       "9   2011-12-11         NaN            97  ...           Y            Y   \n",
       "18  2011-12-14         NaN            97  ...           Y            Y   \n",
       "\n",
       "   flag_rcv_email flag_rcv_post  zipcode sigun  dong         ri  \\\n",
       "0               Y             Y  690-170   제주시    연동        NaN   \n",
       "3               Y             Y  695-791   제주시   애월읍       광령2리   \n",
       "7               Y             Y  690-162   제주시  오라2동        NaN   \n",
       "9               N             Y  697-835  서귀포시   동홍동    119~434   \n",
       "18              Y             Y  690-817   제주시    연동  1111~1905   \n",
       "\n",
       "                   address recency  \n",
       "0                제주 제주시 연동     NaT  \n",
       "3   제주 제주시 애월읍 광령2리 제주관광대학     NaT  \n",
       "7              제주 제주시 오라2동     NaT  \n",
       "9      제주 서귀포시 동홍동 119~434     NaT  \n",
       "18     제주 제주시 연동 1111~1905     NaT  \n",
       "\n",
       "[5 rows x 21 columns]"
      ]
     },
     "execution_count": 23,
     "metadata": {},
     "output_type": "execute_result"
    }
   ],
   "source": [
    "#회원가입했다가 탈퇴하지 않았지만 (여전히 회원) 구매는 하지 않은 사람\n",
    "df_include.loc[(df_include['recency'].isnull()==True) &(df_include['taltoi_date'].isnull() == True)].head()"
   ]
  },
  {
   "cell_type": "code",
   "execution_count": 24,
   "metadata": {},
   "outputs": [
    {
     "data": {
      "text/plain": [
       "<AxesSubplot:xlabel='gaip_path', ylabel='count'>"
      ]
     },
     "execution_count": 24,
     "metadata": {},
     "output_type": "execute_result"
    },
    {
     "data": {
      "image/png": "[encoded data removed]",
      "text/plain": [
       "<Figure size 432x288 with 1 Axes>"
      ]
     },
     "metadata": {
      "needs_background": "light"
     },
     "output_type": "display_data"
    }
   ],
   "source": [
    "#회원가입했다가 탈퇴하지 않았지만 (여전히 회원) 구매는 하지 않은 사람의 가입경로 \n",
    "sns.countplot(df_include.loc[(df_include['recency'].isnull()==True) &(df_include['taltoi_date'].isnull() == True),'gaip_path'])"
   ]
  },
  {
   "cell_type": "code",
   "execution_count": 25,
   "metadata": {},
   "outputs": [
    {
     "data": {
      "image/png": "[encoded data removed]",
      "text/plain": [
       "<Figure size 432x288 with 1 Axes>"
      ]
     },
     "metadata": {
      "needs_background": "light"
     },
     "output_type": "display_data"
    }
   ],
   "source": [
    "df_sales['purchase_year']=list(map(lambda x:x[:4],df_sales['purchase_date']))\n",
    "df_2= df_sales.groupby('customer_id').sum()['purchase_amt'].sort_values()\n",
    "#구매 총액 산포도\n",
    "plt.hist(df_2.drop('C541748',axis=0),bins=100)\n",
    "plt.xlim(1,1e7)\n",
    "plt.show()\n",
    "#한번 방문하고 다시 방문하지 않은 사람들의 비율이 높은 것을 확인할 수 있음. "
   ]
  },
  {
   "cell_type": "code",
   "execution_count": 26,
   "metadata": {},
   "outputs": [
    {
     "data": {
      "text/plain": [
       "count    2.755000e+03\n",
       "mean     5.597786e+05\n",
       "std      1.593348e+06\n",
       "min      1.000000e+03\n",
       "25%      3.732500e+04\n",
       "50%      1.419500e+05\n",
       "75%      5.332500e+05\n",
       "max      6.166230e+07\n",
       "Name: purchase_amt, dtype: float64"
      ]
     },
     "execution_count": 26,
     "metadata": {},
     "output_type": "execute_result"
    }
   ],
   "source": [
    "df_2.sort_values().describe()"
   ]
  },
  {
   "cell_type": "code",
   "execution_count": 27,
   "metadata": {},
   "outputs": [
    {
     "name": "stdout",
     "output_type": "stream",
     "text": [
      "Q1:37325.0\n",
      "Q2:141950.0\n",
      "Q3:533250.0\n",
      "IQR:495925.0\n"
     ]
    }
   ],
   "source": [
    "print('Q1:{}'.format(3.732500*1e04))\n",
    "print('Q2:{}'.format(1.419500*1e05))\n",
    "print('Q3:{}'.format(5.332500*1e05))\n",
    "print('IQR:{}'.format(5.332500*1e05-3.732500*1e04))"
   ]
  },
  {
   "cell_type": "code",
   "execution_count": 28,
   "metadata": {},
   "outputs": [
    {
     "data": {
      "text/html": [
       "<div>\n",
       "<style scoped>\n",
       "    .dataframe tbody tr th:only-of-type {\n",
       "        vertical-align: middle;\n",
       "    }\n",
       "\n",
       "    .dataframe tbody tr th {\n",
       "        vertical-align: top;\n",
       "    }\n",
       "\n",
       "    .dataframe thead th {\n",
       "        text-align: right;\n",
       "    }\n",
       "</style>\n",
       "<table border=\"1\" class=\"dataframe\">\n",
       "  <thead>\n",
       "    <tr style=\"text-align: right;\">\n",
       "      <th></th>\n",
       "      <th>sum</th>\n",
       "      <th>percent</th>\n",
       "    </tr>\n",
       "    <tr>\n",
       "      <th>spent_group</th>\n",
       "      <th></th>\n",
       "      <th></th>\n",
       "    </tr>\n",
       "  </thead>\n",
       "  <tbody>\n",
       "    <tr>\n",
       "      <th>low</th>\n",
       "      <td>11007145</td>\n",
       "      <td>0.713735</td>\n",
       "    </tr>\n",
       "    <tr>\n",
       "      <th>middle</th>\n",
       "      <td>52444100</td>\n",
       "      <td>3.400625</td>\n",
       "    </tr>\n",
       "    <tr>\n",
       "      <th>high</th>\n",
       "      <td>202700220</td>\n",
       "      <td>13.143660</td>\n",
       "    </tr>\n",
       "    <tr>\n",
       "      <th>super_high</th>\n",
       "      <td>1276038615</td>\n",
       "      <td>82.741980</td>\n",
       "    </tr>\n",
       "  </tbody>\n",
       "</table>\n",
       "</div>"
      ],
      "text/plain": [
       "                    sum    percent\n",
       "spent_group                       \n",
       "low            11007145   0.713735\n",
       "middle         52444100   3.400625\n",
       "high          202700220  13.143660\n",
       "super_high   1276038615  82.741980"
      ]
     },
     "execution_count": 28,
     "metadata": {},
     "output_type": "execute_result"
    }
   ],
   "source": [
    "def how_much(x):\n",
    "    q1,q2,q3=3.732500*1e04,1.419500*1e05,5.332500*1e05\n",
    "    if x<q1:\n",
    "        group = 'low'\n",
    "    elif q1<=x<q2:\n",
    "        group = 'middle'\n",
    "    elif q2<=x<q3:\n",
    "        group = 'high'\n",
    "    else:\n",
    "        group = 'super_high'\n",
    "        \n",
    "    return group\n",
    "\n",
    "df_2=df_2.reset_index()\n",
    "df_2['spent_group'] = list(map(how_much,df_2['purchase_amt']))\n",
    "\n",
    "#Q3 이상의 사람들이 전체 매출의 약 80%를 차지한 것을 확인할 수 있음.\n",
    "count=df_2.groupby('spent_group').agg('sum')\n",
    "percent=count/np.sum(count)*100\n",
    "by1=pd.merge(count,percent,left_index=True,right_index=True,suffixes=['count','percent'])\n",
    "by1.columns=['sum','percent']\n",
    "by1.sort_values(by='sum')"
   ]
  },
  {
   "cell_type": "code",
   "execution_count": null,
   "metadata": {},
   "outputs": [],
   "source": []
  },
  {
   "cell_type": "code",
   "execution_count": 133,
   "metadata": {},
   "outputs": [
    {
     "data": {
      "text/plain": [
       "1000000000.0"
      ]
     },
     "execution_count": 133,
     "metadata": {},
     "output_type": "execute_result"
    }
   ],
   "source": [
    "1*1e09"
   ]
  },
  {
   "cell_type": "code",
   "execution_count": 107,
   "metadata": {},
   "outputs": [
    {
     "data": {
      "text/plain": [
       "Text(0, 0.5, '구매 총액(단위:십억원)')"
      ]
     },
     "execution_count": 107,
     "metadata": {},
     "output_type": "execute_result"
    },
    {
     "data": {
      "image/png": "[encoded data removed]",
      "text/plain": [
       "<Figure size 432x288 with 1 Axes>"
      ]
     },
     "metadata": {
      "needs_background": "light"
     },
     "output_type": "display_data"
    }
   ],
   "source": [
    "store_amt=df_sales.groupby('store_id').agg('sum')['purchase_amt'].reset_index()\n",
    "store_amt\n",
    "sns.barplot(x='store_id',y='purchase_amt',data=store_amt,palette='pastel')\n",
    "plt.title('구매 경로별 누적 총매출액 ')\n",
    "plt.text(4.6, 6.025,'출처: 데이터셋')\n",
    "plt.xlabel('구매 경로')\n",
    "plt.ylabel('구매 총액(단위:십억원)')"
   ]
  },
  {
   "cell_type": "code",
   "execution_count": 108,
   "metadata": {},
   "outputs": [
    {
     "data": {
      "text/html": [
       "<div>\n",
       "<style scoped>\n",
       "    .dataframe tbody tr th:only-of-type {\n",
       "        vertical-align: middle;\n",
       "    }\n",
       "\n",
       "    .dataframe tbody tr th {\n",
       "        vertical-align: top;\n",
       "    }\n",
       "\n",
       "    .dataframe thead th {\n",
       "        text-align: right;\n",
       "    }\n",
       "</style>\n",
       "<table border=\"1\" class=\"dataframe\">\n",
       "  <thead>\n",
       "    <tr style=\"text-align: right;\">\n",
       "      <th></th>\n",
       "      <th>store_id</th>\n",
       "      <th>purchase_amt</th>\n",
       "    </tr>\n",
       "  </thead>\n",
       "  <tbody>\n",
       "    <tr>\n",
       "      <th>0</th>\n",
       "      <td>모바일</td>\n",
       "      <td>42705810</td>\n",
       "    </tr>\n",
       "    <tr>\n",
       "      <th>1</th>\n",
       "      <td>서귀포매장</td>\n",
       "      <td>382104479</td>\n",
       "    </tr>\n",
       "    <tr>\n",
       "      <th>2</th>\n",
       "      <td>인터넷</td>\n",
       "      <td>80921370</td>\n",
       "    </tr>\n",
       "    <tr>\n",
       "      <th>3</th>\n",
       "      <td>전화</td>\n",
       "      <td>48197820</td>\n",
       "    </tr>\n",
       "    <tr>\n",
       "      <th>4</th>\n",
       "      <td>제주매장</td>\n",
       "      <td>988260601</td>\n",
       "    </tr>\n",
       "  </tbody>\n",
       "</table>\n",
       "</div>"
      ],
      "text/plain": [
       "  store_id  purchase_amt\n",
       "0      모바일      42705810\n",
       "1    서귀포매장     382104479\n",
       "2      인터넷      80921370\n",
       "3       전화      48197820\n",
       "4     제주매장     988260601"
      ]
     },
     "execution_count": 108,
     "metadata": {},
     "output_type": "execute_result"
    }
   ],
   "source": [
    "store_amt"
   ]
  },
  {
   "cell_type": "code",
   "execution_count": 30,
   "metadata": {},
   "outputs": [
    {
     "data": {
      "text/plain": [
       "store_id\n",
       "모바일       42705810\n",
       "서귀포매장    382104479\n",
       "인터넷       80921370\n",
       "전화        48197820\n",
       "제주매장     988260601\n",
       "Name: purchase_amt, dtype: int64"
      ]
     },
     "execution_count": 30,
     "metadata": {},
     "output_type": "execute_result"
    }
   ],
   "source": [
    "df_sales.groupby('store_id').agg('sum')['purchase_amt']"
   ]
  },
  {
   "cell_type": "code",
   "execution_count": 64,
   "metadata": {},
   "outputs": [
    {
     "data": {
      "image/png": "[encoded data removed]",
      "text/plain": [
       "<Figure size 432x288 with 1 Axes>"
      ]
     },
     "metadata": {
      "needs_background": "light"
     },
     "output_type": "display_data"
    }
   ],
   "source": [
    "#monetary가 super high인 사람이 얼마나 최근에 방문했는가?\n",
    "df_merge=pd.merge(df_r,df_2)\n",
    "df_merge.loc[df_merge['spent_group'] == 'super_high','recency']\n",
    "#최근 방문 일자 분포도\n",
    "day_list = [t.days for t in df_merge.loc[df_merge['spent_group'] == 'super_high','recency'] ]\n",
    "plt.hist(day_list,bins=20)\n",
    "plt.show()"
   ]
  },
  {
   "cell_type": "code",
   "execution_count": 65,
   "metadata": {},
   "outputs": [
    {
     "data": {
      "text/html": [
       "<div>\n",
       "<style scoped>\n",
       "    .dataframe tbody tr th:only-of-type {\n",
       "        vertical-align: middle;\n",
       "    }\n",
       "\n",
       "    .dataframe tbody tr th {\n",
       "        vertical-align: top;\n",
       "    }\n",
       "\n",
       "    .dataframe thead th {\n",
       "        text-align: right;\n",
       "    }\n",
       "</style>\n",
       "<table border=\"1\" class=\"dataframe\">\n",
       "  <thead>\n",
       "    <tr style=\"text-align: right;\">\n",
       "      <th></th>\n",
       "      <th>index</th>\n",
       "      <th>customer_id</th>\n",
       "    </tr>\n",
       "  </thead>\n",
       "  <tbody>\n",
       "    <tr>\n",
       "      <th>684</th>\n",
       "      <td>2678</td>\n",
       "      <td>C694221</td>\n",
       "    </tr>\n",
       "    <tr>\n",
       "      <th>685</th>\n",
       "      <td>2724</td>\n",
       "      <td>C701791</td>\n",
       "    </tr>\n",
       "    <tr>\n",
       "      <th>686</th>\n",
       "      <td>2725</td>\n",
       "      <td>C701806</td>\n",
       "    </tr>\n",
       "    <tr>\n",
       "      <th>687</th>\n",
       "      <td>2726</td>\n",
       "      <td>C701813</td>\n",
       "    </tr>\n",
       "    <tr>\n",
       "      <th>688</th>\n",
       "      <td>2741</td>\n",
       "      <td>C701957</td>\n",
       "    </tr>\n",
       "  </tbody>\n",
       "</table>\n",
       "</div>"
      ],
      "text/plain": [
       "     index customer_id\n",
       "684   2678     C694221\n",
       "685   2724     C701791\n",
       "686   2725     C701806\n",
       "687   2726     C701813\n",
       "688   2741     C701957"
      ]
     },
     "execution_count": 65,
     "metadata": {},
     "output_type": "execute_result"
    }
   ],
   "source": [
    "customer_id=df_merge.loc[df_merge['spent_group'] == 'super_high','customer_id'].reset_index()\n",
    "customer_id.tail()"
   ]
  },
  {
   "cell_type": "code",
   "execution_count": 72,
   "metadata": {},
   "outputs": [
    {
     "name": "stdout",
     "output_type": "stream",
     "text": [
      "81.9908889661355\n",
      "18.009111033864507\n"
     ]
    }
   ],
   "source": [
    "df_super=pd.merge(customer_id,df_sales,left_on='customer_id',right_on='customer_id',how='inner').drop('index',axis=1)\n",
    "df_super=df_super[df_super.isnull() == False]    \n",
    "\n",
    "#super_high 고객의 사람들의 구매수\n",
    "print(df_super.shape[0]/df_sales.shape[0]*100)\n",
    "#super_high 고객이 아닌 사람들의 구매수\n",
    "print((df_sales.shape[0]-df_super.shape[0])/df_sales.shape[0]*100)"
   ]
  },
  {
   "cell_type": "code",
   "execution_count": 69,
   "metadata": {},
   "outputs": [
    {
     "data": {
      "text/plain": [
       "224077"
      ]
     },
     "execution_count": 69,
     "metadata": {},
     "output_type": "execute_result"
    }
   ],
   "source": [
    "df_super.shape[0]"
   ]
  },
  {
   "cell_type": "code",
   "execution_count": 67,
   "metadata": {},
   "outputs": [
    {
     "data": {
      "text/plain": [
       "2755"
      ]
     },
     "execution_count": 67,
     "metadata": {},
     "output_type": "execute_result"
    }
   ],
   "source": [
    "df_r.shape[0]"
   ]
  },
  {
   "cell_type": "code",
   "execution_count": null,
   "metadata": {},
   "outputs": [],
   "source": [
    "df_super['item_g_s'].value_counts().sort_values(ascending=False).head(20)"
   ]
  },
  {
   "cell_type": "code",
   "execution_count": null,
   "metadata": {},
   "outputs": [],
   "source": [
    "df_super['item_name'].value_counts().sort_values(ascending=False).head(20)"
   ]
  },
  {
   "cell_type": "markdown",
   "metadata": {},
   "source": [
    "### 13시에 전화 주문한 50대 남자의 정체"
   ]
  },
  {
   "cell_type": "code",
   "execution_count": 28,
   "metadata": {},
   "outputs": [
    {
     "data": {
      "text/html": [
       "<div>\n",
       "<style scoped>\n",
       "    .dataframe tbody tr th:only-of-type {\n",
       "        vertical-align: middle;\n",
       "    }\n",
       "\n",
       "    .dataframe tbody tr th {\n",
       "        vertical-align: top;\n",
       "    }\n",
       "\n",
       "    .dataframe thead th {\n",
       "        text-align: right;\n",
       "    }\n",
       "</style>\n",
       "<table border=\"1\" class=\"dataframe\">\n",
       "  <thead>\n",
       "    <tr style=\"text-align: right;\">\n",
       "      <th></th>\n",
       "      <th>customer_id</th>\n",
       "      <th>purchase_id</th>\n",
       "      <th>store_id</th>\n",
       "      <th>purchase_yearmonth</th>\n",
       "      <th>purchase_weekday</th>\n",
       "      <th>purchase_hour</th>\n",
       "      <th>purchase_date</th>\n",
       "      <th>purchase_time</th>\n",
       "      <th>supply_date</th>\n",
       "      <th>item_id</th>\n",
       "      <th>item_g_l</th>\n",
       "      <th>item_g_m</th>\n",
       "      <th>item_g_s</th>\n",
       "      <th>item_name</th>\n",
       "      <th>purchase_cnt</th>\n",
       "      <th>unit_cost</th>\n",
       "      <th>purchase_amt</th>\n",
       "    </tr>\n",
       "  </thead>\n",
       "  <tbody>\n",
       "    <tr>\n",
       "      <th>0</th>\n",
       "      <td>C118113</td>\n",
       "      <td>C118113_20180110_87</td>\n",
       "      <td>제주매장</td>\n",
       "      <td>2018M01</td>\n",
       "      <td>수요일</td>\n",
       "      <td>14</td>\n",
       "      <td>2018-01-10</td>\n",
       "      <td>14:47:04</td>\n",
       "      <td>2018-01-10</td>\n",
       "      <td>P08010117</td>\n",
       "      <td>간식</td>\n",
       "      <td>과자</td>\n",
       "      <td>스낵</td>\n",
       "      <td>꼬마찹쌀모나카(112g/8개)</td>\n",
       "      <td>1</td>\n",
       "      <td>3000</td>\n",
       "      <td>3000</td>\n",
       "    </tr>\n",
       "    <tr>\n",
       "      <th>1</th>\n",
       "      <td>C118113</td>\n",
       "      <td>C118113_20180110_87</td>\n",
       "      <td>제주매장</td>\n",
       "      <td>2018M01</td>\n",
       "      <td>수요일</td>\n",
       "      <td>14</td>\n",
       "      <td>2018-01-10</td>\n",
       "      <td>14:47:04</td>\n",
       "      <td>2018-01-10</td>\n",
       "      <td>P09040101</td>\n",
       "      <td>양념/가루</td>\n",
       "      <td>장</td>\n",
       "      <td>간장</td>\n",
       "      <td>제주전통어간장(500ml)</td>\n",
       "      <td>1</td>\n",
       "      <td>7900</td>\n",
       "      <td>7900</td>\n",
       "    </tr>\n",
       "    <tr>\n",
       "      <th>2</th>\n",
       "      <td>C118113</td>\n",
       "      <td>C118113_20180110_87</td>\n",
       "      <td>제주매장</td>\n",
       "      <td>2018M01</td>\n",
       "      <td>수요일</td>\n",
       "      <td>14</td>\n",
       "      <td>2018-01-10</td>\n",
       "      <td>14:47:04</td>\n",
       "      <td>2018-01-10</td>\n",
       "      <td>P09040100</td>\n",
       "      <td>양념/가루</td>\n",
       "      <td>장</td>\n",
       "      <td>간장</td>\n",
       "      <td>맛간장(900ml)</td>\n",
       "      <td>1</td>\n",
       "      <td>13600</td>\n",
       "      <td>13600</td>\n",
       "    </tr>\n",
       "    <tr>\n",
       "      <th>3</th>\n",
       "      <td>C118113</td>\n",
       "      <td>C118113_20181008_22</td>\n",
       "      <td>제주매장</td>\n",
       "      <td>2018M10</td>\n",
       "      <td>월요일</td>\n",
       "      <td>11</td>\n",
       "      <td>2018-10-08</td>\n",
       "      <td>11:59:24</td>\n",
       "      <td>2018-10-08</td>\n",
       "      <td>P09010305</td>\n",
       "      <td>양념/가루</td>\n",
       "      <td>가루</td>\n",
       "      <td>곡식가루</td>\n",
       "      <td>엿기름가루(무/500g)</td>\n",
       "      <td>2</td>\n",
       "      <td>3200</td>\n",
       "      <td>6400</td>\n",
       "    </tr>\n",
       "    <tr>\n",
       "      <th>4</th>\n",
       "      <td>C118113</td>\n",
       "      <td>C118113_20181008_22</td>\n",
       "      <td>제주매장</td>\n",
       "      <td>2018M10</td>\n",
       "      <td>월요일</td>\n",
       "      <td>11</td>\n",
       "      <td>2018-10-08</td>\n",
       "      <td>11:59:24</td>\n",
       "      <td>2018-10-08</td>\n",
       "      <td>P09010301</td>\n",
       "      <td>양념/가루</td>\n",
       "      <td>가루</td>\n",
       "      <td>곡식가루</td>\n",
       "      <td>메주가루(500g)</td>\n",
       "      <td>2</td>\n",
       "      <td>11000</td>\n",
       "      <td>22000</td>\n",
       "    </tr>\n",
       "  </tbody>\n",
       "</table>\n",
       "</div>"
      ],
      "text/plain": [
       "  customer_id          purchase_id store_id purchase_yearmonth  \\\n",
       "0     C118113  C118113_20180110_87     제주매장            2018M01   \n",
       "1     C118113  C118113_20180110_87     제주매장            2018M01   \n",
       "2     C118113  C118113_20180110_87     제주매장            2018M01   \n",
       "3     C118113  C118113_20181008_22     제주매장            2018M10   \n",
       "4     C118113  C118113_20181008_22     제주매장            2018M10   \n",
       "\n",
       "  purchase_weekday  purchase_hour purchase_date purchase_time supply_date  \\\n",
       "0              수요일             14    2018-01-10      14:47:04  2018-01-10   \n",
       "1              수요일             14    2018-01-10      14:47:04  2018-01-10   \n",
       "2              수요일             14    2018-01-10      14:47:04  2018-01-10   \n",
       "3              월요일             11    2018-10-08      11:59:24  2018-10-08   \n",
       "4              월요일             11    2018-10-08      11:59:24  2018-10-08   \n",
       "\n",
       "     item_id item_g_l item_g_m item_g_s         item_name  purchase_cnt  \\\n",
       "0  P08010117       간식       과자       스낵  꼬마찹쌀모나카(112g/8개)             1   \n",
       "1  P09040101    양념/가루        장       간장    제주전통어간장(500ml)             1   \n",
       "2  P09040100    양념/가루        장       간장        맛간장(900ml)             1   \n",
       "3  P09010305    양념/가루       가루     곡식가루     엿기름가루(무/500g)             2   \n",
       "4  P09010301    양념/가루       가루     곡식가루        메주가루(500g)             2   \n",
       "\n",
       "   unit_cost  purchase_amt  \n",
       "0       3000          3000  \n",
       "1       7900          7900  \n",
       "2      13600         13600  \n",
       "3       3200          6400  \n",
       "4      11000         22000  "
      ]
     },
     "execution_count": 28,
     "metadata": {},
     "output_type": "execute_result"
    }
   ],
   "source": [
    "df_salesp=pd.read_csv('jeju_sales_processed.csv')\n",
    "df_salesp.head()"
   ]
  },
  {
   "cell_type": "code",
   "execution_count": null,
   "metadata": {},
   "outputs": [],
   "source": [
    "df_member"
   ]
  },
  {
   "cell_type": "code",
   "execution_count": null,
   "metadata": {},
   "outputs": [],
   "source": [
    "cust_id=df_member.loc[(df_member['gender']=='남') & (df_member['agegroup'] == '50대') ,'customer_id'].reset_index()\n",
    "df_fiftyman=pd.merge(cust_id,df_salesp,left_on='customer_id',right_on='customer_id',how='inner').drop('index',axis=1)\n",
    "df_fiftyman=df_fiftyman[df_fiftyman.isnull() == False]\n",
    "df_fiftyman=df_fiftyman[df_fiftyman['store_id'] == '전화']"
   ]
  },
  {
   "cell_type": "code",
   "execution_count": null,
   "metadata": {},
   "outputs": [],
   "source": [
    "fiftyman_bought=df_fiftyman.groupby('item_g_s').agg('sum').sort_values(by='purchase_cnt',ascending=False).reset_index()\n",
    "plt.figure(figsize = (30, 3))\n",
    "sns.barplot(x='item_g_s',y='purchase_cnt',data=fiftyman_bought[0:20])"
   ]
  },
  {
   "cell_type": "code",
   "execution_count": null,
   "metadata": {},
   "outputs": [],
   "source": [
    "fiftyman_bought=df_fiftyman.groupby('item_g_s').agg('sum').sort_values(by='purchase_amt',ascending=False).reset_index()\n",
    "plt.figure(figsize = (30, 3))\n",
    "sns.barplot(x='item_g_s',y='purchase_amt',data=fiftyman_bought[0:20])"
   ]
  },
  {
   "cell_type": "code",
   "execution_count": null,
   "metadata": {},
   "outputs": [],
   "source": [
    "df_fiftyman.groupby('customer_id').agg('count')"
   ]
  },
  {
   "cell_type": "code",
   "execution_count": null,
   "metadata": {},
   "outputs": [],
   "source": [
    "fiftyman_bought_max=df_fiftyman.loc[df_fiftyman['customer_id']=='C536929'].groupby('item_g_s').agg('sum').sort_values(by='purchase_cnt',ascending=False).reset_index()\n",
    "plt.figure(figsize = (30, 3))\n",
    "sns.barplot(x='item_g_s',y='purchase_cnt',data=fiftyman_bought[0:20])"
   ]
  },
  {
   "cell_type": "code",
   "execution_count": 43,
   "metadata": {},
   "outputs": [],
   "source": [
    "df_final = pd.read_csv('sales_member_join_processed.csv')\n",
    "# df_4050 = df_final.loc[(df_final['agegroup'] == '40대') | (df_final['agegroup'] == '50대')]"
   ]
  },
  {
   "cell_type": "code",
   "execution_count": 44,
   "metadata": {},
   "outputs": [],
   "source": [
    "df_final['purchase_year'] = list(map(lambda x: x[:4], df_final['purchase_yearmonth']))\n",
    "# df_4050['purchase_year'] = list(map(lambda x: x[:4], df_4050['purchase_yearmonth']))"
   ]
  },
  {
   "cell_type": "code",
   "execution_count": 155,
   "metadata": {},
   "outputs": [
    {
     "data": {
      "image/png": "[encoded data removed]",
      "text/plain": [
       "<Figure size 432x288 with 1 Axes>"
      ]
     },
     "metadata": {
      "needs_background": "light"
     },
     "output_type": "display_data"
    },
    {
     "data": {
      "text/html": [
       "<div>\n",
       "<style scoped>\n",
       "    .dataframe tbody tr th:only-of-type {\n",
       "        vertical-align: middle;\n",
       "    }\n",
       "\n",
       "    .dataframe tbody tr th {\n",
       "        vertical-align: top;\n",
       "    }\n",
       "\n",
       "    .dataframe thead th {\n",
       "        text-align: right;\n",
       "    }\n",
       "</style>\n",
       "<table border=\"1\" class=\"dataframe\">\n",
       "  <thead>\n",
       "    <tr style=\"text-align: right;\">\n",
       "      <th></th>\n",
       "      <th>purchase_year</th>\n",
       "      <th>purchase_amt</th>\n",
       "    </tr>\n",
       "  </thead>\n",
       "  <tbody>\n",
       "    <tr>\n",
       "      <th>0</th>\n",
       "      <td>2018</td>\n",
       "      <td>858704684</td>\n",
       "    </tr>\n",
       "    <tr>\n",
       "      <th>1</th>\n",
       "      <td>2019</td>\n",
       "      <td>683485396</td>\n",
       "    </tr>\n",
       "  </tbody>\n",
       "</table>\n",
       "</div>"
      ],
      "text/plain": [
       "  purchase_year  purchase_amt\n",
       "0          2018     858704684\n",
       "1          2019     683485396"
      ]
     },
     "execution_count": 155,
     "metadata": {},
     "output_type": "execute_result"
    }
   ],
   "source": [
    "df_amt=df_final.groupby('purchase_year').agg('sum')['purchase_amt'].reset_index()\n",
    "palette = sns.color_palette(\"pastel\")\n",
    "plt.bar(df_amt['purchase_year'], df_amt['purchase_amt'],color=palette[:len(df_amt)])\n",
    "plt.title('연도별 구매 총액', fontsize=13)\n",
    "plt.xlabel('연도', fontsize=12)\n",
    "plt.ylabel('구매총액(단위:십억원)', fontsize=12)\n",
    "plt.ylim(0,10*1e08)\n",
    "plt.show()\n",
    "df_amt"
   ]
  },
  {
   "cell_type": "code",
   "execution_count": 119,
   "metadata": {},
   "outputs": [
    {
     "data": {
      "text/plain": [
       "0.20405069550080618"
      ]
     },
     "execution_count": 119,
     "metadata": {},
     "output_type": "execute_result"
    }
   ],
   "source": [
    "(858704684-683485396)/858704684"
   ]
  },
  {
   "cell_type": "code",
   "execution_count": 151,
   "metadata": {},
   "outputs": [
    {
     "data": {
      "image/png": "[encoded data removed]",
      "text/plain": [
       "<Figure size 432x288 with 1 Axes>"
      ]
     },
     "metadata": {
      "needs_background": "light"
     },
     "output_type": "display_data"
    },
    {
     "data": {
      "text/plain": [
       "0.23138508502887092"
      ]
     },
     "execution_count": 151,
     "metadata": {},
     "output_type": "execute_result"
    }
   ],
   "source": [
    "df_cnt=df_final.groupby('purchase_year').agg('sum')['purchase_cnt'].reset_index()\n",
    "palette = sns.color_palette(\"pastel\")\n",
    "plt.bar(df_cnt['purchase_year'], df_cnt['purchase_cnt'],color=palette[:len(df_cnt)])\n",
    "plt.title('연도별 총 구매 건수', fontsize=13)\n",
    "plt.xlabel('연도', fontsize=12)\n",
    "plt.ylabel('총 구매 건수(건)', fontsize=12)\n",
    "plt.show()\n",
    "df_cnt\n",
    "(208341-160134)/208341"
   ]
  },
  {
   "cell_type": "code",
   "execution_count": 102,
   "metadata": {},
   "outputs": [],
   "source": [
    "def top10(year,agegroup):\n",
    "    df_group = df_final.groupby(['purchase_year','agegroup','item_g_s']).agg('count')[['customer_id']].reset_index()\n",
    "    df = df_group.loc[(df_group['purchase_year'] == year) & (df_group['agegroup'] == agegroup)]\n",
    "    df = df.sort_values(by='customer_id',ascending=False)[:30]\n",
    "    df.columns = ['구매년도','나이대','소분류','해당 아이템을 구매한 고객수']\n",
    "    return df\n",
    "    "
   ]
  },
  {
   "cell_type": "code",
   "execution_count": 104,
   "metadata": {},
   "outputs": [
    {
     "data": {
      "text/html": [
       "<div>\n",
       "<style scoped>\n",
       "    .dataframe tbody tr th:only-of-type {\n",
       "        vertical-align: middle;\n",
       "    }\n",
       "\n",
       "    .dataframe tbody tr th {\n",
       "        vertical-align: top;\n",
       "    }\n",
       "\n",
       "    .dataframe thead th {\n",
       "        text-align: right;\n",
       "    }\n",
       "</style>\n",
       "<table border=\"1\" class=\"dataframe\">\n",
       "  <thead>\n",
       "    <tr style=\"text-align: right;\">\n",
       "      <th></th>\n",
       "      <th>구매년도</th>\n",
       "      <th>나이대</th>\n",
       "      <th>소분류</th>\n",
       "      <th>해당 아이템을 구매한 고객수</th>\n",
       "    </tr>\n",
       "  </thead>\n",
       "  <tbody>\n",
       "    <tr>\n",
       "      <th>1852</th>\n",
       "      <td>2019</td>\n",
       "      <td>40대</td>\n",
       "      <td>스낵</td>\n",
       "      <td>3444</td>\n",
       "    </tr>\n",
       "    <tr>\n",
       "      <th>1767</th>\n",
       "      <td>2019</td>\n",
       "      <td>40대</td>\n",
       "      <td>두부</td>\n",
       "      <td>2531</td>\n",
       "    </tr>\n",
       "    <tr>\n",
       "      <th>1737</th>\n",
       "      <td>2019</td>\n",
       "      <td>40대</td>\n",
       "      <td>김가공</td>\n",
       "      <td>1546</td>\n",
       "    </tr>\n",
       "    <tr>\n",
       "      <th>1764</th>\n",
       "      <td>2019</td>\n",
       "      <td>40대</td>\n",
       "      <td>돼지가공</td>\n",
       "      <td>1471</td>\n",
       "    </tr>\n",
       "    <tr>\n",
       "      <th>1826</th>\n",
       "      <td>2019</td>\n",
       "      <td>40대</td>\n",
       "      <td>빵</td>\n",
       "      <td>1297</td>\n",
       "    </tr>\n",
       "    <tr>\n",
       "      <th>1900</th>\n",
       "      <td>2019</td>\n",
       "      <td>40대</td>\n",
       "      <td>우유/산양유</td>\n",
       "      <td>1087</td>\n",
       "    </tr>\n",
       "    <tr>\n",
       "      <th>1855</th>\n",
       "      <td>2019</td>\n",
       "      <td>40대</td>\n",
       "      <td>식사대용/기타</td>\n",
       "      <td>1002</td>\n",
       "    </tr>\n",
       "    <tr>\n",
       "      <th>1771</th>\n",
       "      <td>2019</td>\n",
       "      <td>40대</td>\n",
       "      <td>라면</td>\n",
       "      <td>937</td>\n",
       "    </tr>\n",
       "    <tr>\n",
       "      <th>1904</th>\n",
       "      <td>2019</td>\n",
       "      <td>40대</td>\n",
       "      <td>유정란</td>\n",
       "      <td>850</td>\n",
       "    </tr>\n",
       "    <tr>\n",
       "      <th>1883</th>\n",
       "      <td>2019</td>\n",
       "      <td>40대</td>\n",
       "      <td>어묵</td>\n",
       "      <td>816</td>\n",
       "    </tr>\n",
       "    <tr>\n",
       "      <th>1944</th>\n",
       "      <td>2019</td>\n",
       "      <td>40대</td>\n",
       "      <td>콩나물</td>\n",
       "      <td>808</td>\n",
       "    </tr>\n",
       "    <tr>\n",
       "      <th>1754</th>\n",
       "      <td>2019</td>\n",
       "      <td>40대</td>\n",
       "      <td>닭가공</td>\n",
       "      <td>700</td>\n",
       "    </tr>\n",
       "    <tr>\n",
       "      <th>1811</th>\n",
       "      <td>2019</td>\n",
       "      <td>40대</td>\n",
       "      <td>백미</td>\n",
       "      <td>686</td>\n",
       "    </tr>\n",
       "    <tr>\n",
       "      <th>1881</th>\n",
       "      <td>2019</td>\n",
       "      <td>40대</td>\n",
       "      <td>양파</td>\n",
       "      <td>674</td>\n",
       "    </tr>\n",
       "    <tr>\n",
       "      <th>1735</th>\n",
       "      <td>2019</td>\n",
       "      <td>40대</td>\n",
       "      <td>기타양념</td>\n",
       "      <td>634</td>\n",
       "    </tr>\n",
       "    <tr>\n",
       "      <th>1732</th>\n",
       "      <td>2019</td>\n",
       "      <td>40대</td>\n",
       "      <td>기름</td>\n",
       "      <td>627</td>\n",
       "    </tr>\n",
       "    <tr>\n",
       "      <th>1779</th>\n",
       "      <td>2019</td>\n",
       "      <td>40대</td>\n",
       "      <td>만두</td>\n",
       "      <td>570</td>\n",
       "    </tr>\n",
       "    <tr>\n",
       "      <th>1897</th>\n",
       "      <td>2019</td>\n",
       "      <td>40대</td>\n",
       "      <td>요구르트</td>\n",
       "      <td>565</td>\n",
       "    </tr>\n",
       "    <tr>\n",
       "      <th>1917</th>\n",
       "      <td>2019</td>\n",
       "      <td>40대</td>\n",
       "      <td>절임</td>\n",
       "      <td>525</td>\n",
       "    </tr>\n",
       "    <tr>\n",
       "      <th>1868</th>\n",
       "      <td>2019</td>\n",
       "      <td>40대</td>\n",
       "      <td>아이스크림</td>\n",
       "      <td>521</td>\n",
       "    </tr>\n",
       "    <tr>\n",
       "      <th>1893</th>\n",
       "      <td>2019</td>\n",
       "      <td>40대</td>\n",
       "      <td>오이</td>\n",
       "      <td>506</td>\n",
       "    </tr>\n",
       "    <tr>\n",
       "      <th>1947</th>\n",
       "      <td>2019</td>\n",
       "      <td>40대</td>\n",
       "      <td>토종유정란</td>\n",
       "      <td>505</td>\n",
       "    </tr>\n",
       "    <tr>\n",
       "      <th>1847</th>\n",
       "      <td>2019</td>\n",
       "      <td>40대</td>\n",
       "      <td>소스</td>\n",
       "      <td>500</td>\n",
       "    </tr>\n",
       "    <tr>\n",
       "      <th>1962</th>\n",
       "      <td>2019</td>\n",
       "      <td>40대</td>\n",
       "      <td>한우가공</td>\n",
       "      <td>493</td>\n",
       "    </tr>\n",
       "    <tr>\n",
       "      <th>1759</th>\n",
       "      <td>2019</td>\n",
       "      <td>40대</td>\n",
       "      <td>대파</td>\n",
       "      <td>468</td>\n",
       "    </tr>\n",
       "    <tr>\n",
       "      <th>1755</th>\n",
       "      <td>2019</td>\n",
       "      <td>40대</td>\n",
       "      <td>당근</td>\n",
       "      <td>457</td>\n",
       "    </tr>\n",
       "    <tr>\n",
       "      <th>1801</th>\n",
       "      <td>2019</td>\n",
       "      <td>40대</td>\n",
       "      <td>묵</td>\n",
       "      <td>444</td>\n",
       "    </tr>\n",
       "    <tr>\n",
       "      <th>1770</th>\n",
       "      <td>2019</td>\n",
       "      <td>40대</td>\n",
       "      <td>떡</td>\n",
       "      <td>438</td>\n",
       "    </tr>\n",
       "    <tr>\n",
       "      <th>1889</th>\n",
       "      <td>2019</td>\n",
       "      <td>40대</td>\n",
       "      <td>엿/양갱/기타</td>\n",
       "      <td>412</td>\n",
       "    </tr>\n",
       "    <tr>\n",
       "      <th>1957</th>\n",
       "      <td>2019</td>\n",
       "      <td>40대</td>\n",
       "      <td>프리믹스</td>\n",
       "      <td>369</td>\n",
       "    </tr>\n",
       "  </tbody>\n",
       "</table>\n",
       "</div>"
      ],
      "text/plain": [
       "      구매년도  나이대      소분류  해당 아이템을 구매한 고객수\n",
       "1852  2019  40대       스낵             3444\n",
       "1767  2019  40대       두부             2531\n",
       "1737  2019  40대      김가공             1546\n",
       "1764  2019  40대     돼지가공             1471\n",
       "1826  2019  40대        빵             1297\n",
       "1900  2019  40대   우유/산양유             1087\n",
       "1855  2019  40대  식사대용/기타             1002\n",
       "1771  2019  40대       라면              937\n",
       "1904  2019  40대      유정란              850\n",
       "1883  2019  40대       어묵              816\n",
       "1944  2019  40대      콩나물              808\n",
       "1754  2019  40대      닭가공              700\n",
       "1811  2019  40대       백미              686\n",
       "1881  2019  40대       양파              674\n",
       "1735  2019  40대     기타양념              634\n",
       "1732  2019  40대       기름              627\n",
       "1779  2019  40대       만두              570\n",
       "1897  2019  40대     요구르트              565\n",
       "1917  2019  40대       절임              525\n",
       "1868  2019  40대    아이스크림              521\n",
       "1893  2019  40대       오이              506\n",
       "1947  2019  40대    토종유정란              505\n",
       "1847  2019  40대       소스              500\n",
       "1962  2019  40대     한우가공              493\n",
       "1759  2019  40대       대파              468\n",
       "1755  2019  40대       당근              457\n",
       "1801  2019  40대        묵              444\n",
       "1770  2019  40대        떡              438\n",
       "1889  2019  40대  엿/양갱/기타              412\n",
       "1957  2019  40대     프리믹스              369"
      ]
     },
     "execution_count": 104,
     "metadata": {},
     "output_type": "execute_result"
    }
   ],
   "source": [
    "top10('2019','40대')"
   ]
  },
  {
   "cell_type": "code",
   "execution_count": 171,
   "metadata": {},
   "outputs": [],
   "source": [
    "contrast = pd.merge(top10_nodubu('2018','50대'),top10_nodubu('2019','50대'),left_on='item_g_s',right_on='item_g_s',how='outer').drop('agegroup_y',axis=1)"
   ]
  },
  {
   "cell_type": "code",
   "execution_count": 172,
   "metadata": {},
   "outputs": [],
   "source": [
    "contrast.columns=['year2018','agegroup','item_g_s','count_2018','year2019','count_2019']\n",
    "contrast=contrast.drop(['year2018','year2019'],axis=1)\n",
    "contrast['sum'] = contrast['count_2018']+contrast['count_2019']\n"
   ]
  },
  {
   "cell_type": "code",
   "execution_count": 174,
   "metadata": {},
   "outputs": [
    {
     "data": {
      "text/plain": [
       "[<matplotlib.lines.Line2D at 0x7f7071653c70>]"
      ]
     },
     "execution_count": 174,
     "metadata": {},
     "output_type": "execute_result"
    },
    {
     "data": {
      "image/png": "[encoded data removed]",
      "text/plain": [
       "<Figure size 432x288 with 1 Axes>"
      ]
     },
     "metadata": {
      "needs_background": "light"
     },
     "output_type": "display_data"
    }
   ],
   "source": [
    "plt.plot(contrast['sum'])"
   ]
  },
  {
   "cell_type": "code",
   "execution_count": 163,
   "metadata": {},
   "outputs": [],
   "source": [
    "df_nodubu=pd.read_csv('nodu.csv')\n",
    "df_nodubu['purchase_year'] = list(map(lambda x: x[:4], df_nodubu['purchase_yearmonth']))\n",
    "# df_4050['purchase_year'] = list(map(lambda x: x[:4], df_4050['purchase_yearmonth']))"
   ]
  },
  {
   "cell_type": "code",
   "execution_count": 170,
   "metadata": {},
   "outputs": [],
   "source": [
    "def top10_nodubu(year,agegroup):\n",
    "    df_group = df_nodubu.groupby(['purchase_year','agegroup','item_g_s']).agg('count')[['customer_id']].reset_index()\n",
    "    df = df_group.loc[(df_group['purchase_year'] == year) & (df_group['agegroup'] == agegroup)]\n",
    "    df = df.sort_values(by='customer_id',ascending=False)[:30]\n",
    "    return df\n",
    "    "
   ]
  },
  {
   "cell_type": "code",
   "execution_count": 181,
   "metadata": {},
   "outputs": [],
   "source": [
    "df_50=contrast.sort_values(by='sum',ascending=False)"
   ]
  },
  {
   "cell_type": "code",
   "execution_count": 185,
   "metadata": {},
   "outputs": [],
   "source": [
    "contrast = pd.merge(top10_nodubu('2018','30대'),top10_nodubu('2019','30대'),left_on='item_g_s',right_on='item_g_s',how='outer').drop('agegroup_y',axis=1)"
   ]
  },
  {
   "cell_type": "code",
   "execution_count": 186,
   "metadata": {},
   "outputs": [],
   "source": [
    "contrast.columns=['year2018','agegroup','item_g_s','count_2018','year2019','count_2019']\n",
    "contrast=contrast.drop(['year2018','year2019'],axis=1)\n",
    "contrast['sum'] = contrast['count_2018']+contrast['count_2019']"
   ]
  },
  {
   "cell_type": "code",
   "execution_count": 187,
   "metadata": {},
   "outputs": [
    {
     "data": {
      "text/plain": [
       "[<matplotlib.lines.Line2D at 0x7f70524c0ac0>]"
      ]
     },
     "execution_count": 187,
     "metadata": {},
     "output_type": "execute_result"
    },
    {
     "data": {
      "image/png": "[encoded data removed]",
      "text/plain": [
       "<Figure size 432x288 with 1 Axes>"
      ]
     },
     "metadata": {
      "needs_background": "light"
     },
     "output_type": "display_data"
    }
   ],
   "source": [
    "plt.plot(contrast['sum'])"
   ]
  },
  {
   "cell_type": "code",
   "execution_count": 189,
   "metadata": {},
   "outputs": [
    {
     "data": {
      "text/html": [
       "<div>\n",
       "<style scoped>\n",
       "    .dataframe tbody tr th:only-of-type {\n",
       "        vertical-align: middle;\n",
       "    }\n",
       "\n",
       "    .dataframe tbody tr th {\n",
       "        vertical-align: top;\n",
       "    }\n",
       "\n",
       "    .dataframe thead th {\n",
       "        text-align: right;\n",
       "    }\n",
       "</style>\n",
       "<table border=\"1\" class=\"dataframe\">\n",
       "  <thead>\n",
       "    <tr style=\"text-align: right;\">\n",
       "      <th></th>\n",
       "      <th>agegroup</th>\n",
       "      <th>item_g_s</th>\n",
       "      <th>count_2018</th>\n",
       "      <th>count_2019</th>\n",
       "      <th>sum</th>\n",
       "    </tr>\n",
       "  </thead>\n",
       "  <tbody>\n",
       "    <tr>\n",
       "      <th>0</th>\n",
       "      <td>50대</td>\n",
       "      <td>두부</td>\n",
       "      <td>2618.0</td>\n",
       "      <td>2017.0</td>\n",
       "      <td>4635.0</td>\n",
       "    </tr>\n",
       "    <tr>\n",
       "      <th>1</th>\n",
       "      <td>50대</td>\n",
       "      <td>스낵</td>\n",
       "      <td>1564.0</td>\n",
       "      <td>1467.0</td>\n",
       "      <td>3031.0</td>\n",
       "    </tr>\n",
       "    <tr>\n",
       "      <th>2</th>\n",
       "      <td>50대</td>\n",
       "      <td>빵</td>\n",
       "      <td>1313.0</td>\n",
       "      <td>888.0</td>\n",
       "      <td>2201.0</td>\n",
       "    </tr>\n",
       "    <tr>\n",
       "      <th>4</th>\n",
       "      <td>50대</td>\n",
       "      <td>김가공</td>\n",
       "      <td>917.0</td>\n",
       "      <td>626.0</td>\n",
       "      <td>1543.0</td>\n",
       "    </tr>\n",
       "    <tr>\n",
       "      <th>5</th>\n",
       "      <td>50대</td>\n",
       "      <td>돼지가공</td>\n",
       "      <td>908.0</td>\n",
       "      <td>556.0</td>\n",
       "      <td>1464.0</td>\n",
       "    </tr>\n",
       "    <tr>\n",
       "      <th>3</th>\n",
       "      <td>50대</td>\n",
       "      <td>유정란</td>\n",
       "      <td>928.0</td>\n",
       "      <td>531.0</td>\n",
       "      <td>1459.0</td>\n",
       "    </tr>\n",
       "    <tr>\n",
       "      <th>6</th>\n",
       "      <td>50대</td>\n",
       "      <td>라면</td>\n",
       "      <td>852.0</td>\n",
       "      <td>531.0</td>\n",
       "      <td>1383.0</td>\n",
       "    </tr>\n",
       "    <tr>\n",
       "      <th>8</th>\n",
       "      <td>50대</td>\n",
       "      <td>우유/산양유</td>\n",
       "      <td>641.0</td>\n",
       "      <td>670.0</td>\n",
       "      <td>1311.0</td>\n",
       "    </tr>\n",
       "    <tr>\n",
       "      <th>9</th>\n",
       "      <td>50대</td>\n",
       "      <td>식사대용/기타</td>\n",
       "      <td>640.0</td>\n",
       "      <td>499.0</td>\n",
       "      <td>1139.0</td>\n",
       "    </tr>\n",
       "    <tr>\n",
       "      <th>10</th>\n",
       "      <td>50대</td>\n",
       "      <td>콩나물</td>\n",
       "      <td>594.0</td>\n",
       "      <td>518.0</td>\n",
       "      <td>1112.0</td>\n",
       "    </tr>\n",
       "    <tr>\n",
       "      <th>15</th>\n",
       "      <td>50대</td>\n",
       "      <td>백미</td>\n",
       "      <td>555.0</td>\n",
       "      <td>492.0</td>\n",
       "      <td>1047.0</td>\n",
       "    </tr>\n",
       "    <tr>\n",
       "      <th>16</th>\n",
       "      <td>50대</td>\n",
       "      <td>어묵</td>\n",
       "      <td>540.0</td>\n",
       "      <td>483.0</td>\n",
       "      <td>1023.0</td>\n",
       "    </tr>\n",
       "    <tr>\n",
       "      <th>13</th>\n",
       "      <td>50대</td>\n",
       "      <td>양파</td>\n",
       "      <td>568.0</td>\n",
       "      <td>448.0</td>\n",
       "      <td>1016.0</td>\n",
       "    </tr>\n",
       "    <tr>\n",
       "      <th>7</th>\n",
       "      <td>50대</td>\n",
       "      <td>토종유정란</td>\n",
       "      <td>648.0</td>\n",
       "      <td>349.0</td>\n",
       "      <td>997.0</td>\n",
       "    </tr>\n",
       "    <tr>\n",
       "      <th>11</th>\n",
       "      <td>50대</td>\n",
       "      <td>만두</td>\n",
       "      <td>577.0</td>\n",
       "      <td>409.0</td>\n",
       "      <td>986.0</td>\n",
       "    </tr>\n",
       "    <tr>\n",
       "      <th>17</th>\n",
       "      <td>50대</td>\n",
       "      <td>기름</td>\n",
       "      <td>534.0</td>\n",
       "      <td>437.0</td>\n",
       "      <td>971.0</td>\n",
       "    </tr>\n",
       "    <tr>\n",
       "      <th>14</th>\n",
       "      <td>50대</td>\n",
       "      <td>기타양념</td>\n",
       "      <td>564.0</td>\n",
       "      <td>363.0</td>\n",
       "      <td>927.0</td>\n",
       "    </tr>\n",
       "    <tr>\n",
       "      <th>18</th>\n",
       "      <td>50대</td>\n",
       "      <td>오이</td>\n",
       "      <td>495.0</td>\n",
       "      <td>373.0</td>\n",
       "      <td>868.0</td>\n",
       "    </tr>\n",
       "    <tr>\n",
       "      <th>12</th>\n",
       "      <td>50대</td>\n",
       "      <td>요구르트</td>\n",
       "      <td>570.0</td>\n",
       "      <td>296.0</td>\n",
       "      <td>866.0</td>\n",
       "    </tr>\n",
       "    <tr>\n",
       "      <th>21</th>\n",
       "      <td>50대</td>\n",
       "      <td>묵</td>\n",
       "      <td>438.0</td>\n",
       "      <td>350.0</td>\n",
       "      <td>788.0</td>\n",
       "    </tr>\n",
       "    <tr>\n",
       "      <th>20</th>\n",
       "      <td>50대</td>\n",
       "      <td>곡식가루</td>\n",
       "      <td>450.0</td>\n",
       "      <td>330.0</td>\n",
       "      <td>780.0</td>\n",
       "    </tr>\n",
       "    <tr>\n",
       "      <th>25</th>\n",
       "      <td>50대</td>\n",
       "      <td>대파</td>\n",
       "      <td>365.0</td>\n",
       "      <td>342.0</td>\n",
       "      <td>707.0</td>\n",
       "    </tr>\n",
       "    <tr>\n",
       "      <th>23</th>\n",
       "      <td>50대</td>\n",
       "      <td>떡</td>\n",
       "      <td>386.0</td>\n",
       "      <td>312.0</td>\n",
       "      <td>698.0</td>\n",
       "    </tr>\n",
       "    <tr>\n",
       "      <th>22</th>\n",
       "      <td>50대</td>\n",
       "      <td>장류/기타</td>\n",
       "      <td>392.0</td>\n",
       "      <td>300.0</td>\n",
       "      <td>692.0</td>\n",
       "    </tr>\n",
       "    <tr>\n",
       "      <th>26</th>\n",
       "      <td>50대</td>\n",
       "      <td>찹쌀</td>\n",
       "      <td>361.0</td>\n",
       "      <td>270.0</td>\n",
       "      <td>631.0</td>\n",
       "    </tr>\n",
       "    <tr>\n",
       "      <th>27</th>\n",
       "      <td>50대</td>\n",
       "      <td>당근</td>\n",
       "      <td>326.0</td>\n",
       "      <td>263.0</td>\n",
       "      <td>589.0</td>\n",
       "    </tr>\n",
       "    <tr>\n",
       "      <th>28</th>\n",
       "      <td>50대</td>\n",
       "      <td>아이스크림</td>\n",
       "      <td>316.0</td>\n",
       "      <td>246.0</td>\n",
       "      <td>562.0</td>\n",
       "    </tr>\n",
       "    <tr>\n",
       "      <th>19</th>\n",
       "      <td>50대</td>\n",
       "      <td>한우가공</td>\n",
       "      <td>453.0</td>\n",
       "      <td>NaN</td>\n",
       "      <td>NaN</td>\n",
       "    </tr>\n",
       "    <tr>\n",
       "      <th>24</th>\n",
       "      <td>50대</td>\n",
       "      <td>일반 돼지</td>\n",
       "      <td>365.0</td>\n",
       "      <td>NaN</td>\n",
       "      <td>NaN</td>\n",
       "    </tr>\n",
       "    <tr>\n",
       "      <th>29</th>\n",
       "      <td>50대</td>\n",
       "      <td>현미</td>\n",
       "      <td>306.0</td>\n",
       "      <td>NaN</td>\n",
       "      <td>NaN</td>\n",
       "    </tr>\n",
       "    <tr>\n",
       "      <th>30</th>\n",
       "      <td>NaN</td>\n",
       "      <td>쌈채소모음</td>\n",
       "      <td>NaN</td>\n",
       "      <td>260.0</td>\n",
       "      <td>NaN</td>\n",
       "    </tr>\n",
       "    <tr>\n",
       "      <th>31</th>\n",
       "      <td>NaN</td>\n",
       "      <td>깻잎</td>\n",
       "      <td>NaN</td>\n",
       "      <td>241.0</td>\n",
       "      <td>NaN</td>\n",
       "    </tr>\n",
       "    <tr>\n",
       "      <th>32</th>\n",
       "      <td>NaN</td>\n",
       "      <td>숙면</td>\n",
       "      <td>NaN</td>\n",
       "      <td>241.0</td>\n",
       "      <td>NaN</td>\n",
       "    </tr>\n",
       "  </tbody>\n",
       "</table>\n",
       "</div>"
      ],
      "text/plain": [
       "   agegroup item_g_s  count_2018  count_2019     sum\n",
       "0       50대       두부      2618.0      2017.0  4635.0\n",
       "1       50대       스낵      1564.0      1467.0  3031.0\n",
       "2       50대        빵      1313.0       888.0  2201.0\n",
       "4       50대      김가공       917.0       626.0  1543.0\n",
       "5       50대     돼지가공       908.0       556.0  1464.0\n",
       "3       50대      유정란       928.0       531.0  1459.0\n",
       "6       50대       라면       852.0       531.0  1383.0\n",
       "8       50대   우유/산양유       641.0       670.0  1311.0\n",
       "9       50대  식사대용/기타       640.0       499.0  1139.0\n",
       "10      50대      콩나물       594.0       518.0  1112.0\n",
       "15      50대       백미       555.0       492.0  1047.0\n",
       "16      50대       어묵       540.0       483.0  1023.0\n",
       "13      50대       양파       568.0       448.0  1016.0\n",
       "7       50대    토종유정란       648.0       349.0   997.0\n",
       "11      50대       만두       577.0       409.0   986.0\n",
       "17      50대       기름       534.0       437.0   971.0\n",
       "14      50대     기타양념       564.0       363.0   927.0\n",
       "18      50대       오이       495.0       373.0   868.0\n",
       "12      50대     요구르트       570.0       296.0   866.0\n",
       "21      50대        묵       438.0       350.0   788.0\n",
       "20      50대     곡식가루       450.0       330.0   780.0\n",
       "25      50대       대파       365.0       342.0   707.0\n",
       "23      50대        떡       386.0       312.0   698.0\n",
       "22      50대    장류/기타       392.0       300.0   692.0\n",
       "26      50대       찹쌀       361.0       270.0   631.0\n",
       "27      50대       당근       326.0       263.0   589.0\n",
       "28      50대    아이스크림       316.0       246.0   562.0\n",
       "19      50대     한우가공       453.0         NaN     NaN\n",
       "24      50대    일반 돼지       365.0         NaN     NaN\n",
       "29      50대       현미       306.0         NaN     NaN\n",
       "30      NaN    쌈채소모음         NaN       260.0     NaN\n",
       "31      NaN       깻잎         NaN       241.0     NaN\n",
       "32      NaN       숙면         NaN       241.0     NaN"
      ]
     },
     "execution_count": 189,
     "metadata": {},
     "output_type": "execute_result"
    }
   ],
   "source": [
    "df_50"
   ]
  },
  {
   "cell_type": "code",
   "execution_count": 188,
   "metadata": {},
   "outputs": [
    {
     "data": {
      "text/html": [
       "<div>\n",
       "<style scoped>\n",
       "    .dataframe tbody tr th:only-of-type {\n",
       "        vertical-align: middle;\n",
       "    }\n",
       "\n",
       "    .dataframe tbody tr th {\n",
       "        vertical-align: top;\n",
       "    }\n",
       "\n",
       "    .dataframe thead th {\n",
       "        text-align: right;\n",
       "    }\n",
       "</style>\n",
       "<table border=\"1\" class=\"dataframe\">\n",
       "  <thead>\n",
       "    <tr style=\"text-align: right;\">\n",
       "      <th></th>\n",
       "      <th>agegroup</th>\n",
       "      <th>item_g_s</th>\n",
       "      <th>count_2018</th>\n",
       "      <th>count_2019</th>\n",
       "      <th>sum</th>\n",
       "    </tr>\n",
       "  </thead>\n",
       "  <tbody>\n",
       "    <tr>\n",
       "      <th>0</th>\n",
       "      <td>30대</td>\n",
       "      <td>스낵</td>\n",
       "      <td>2969.0</td>\n",
       "      <td>2547.0</td>\n",
       "      <td>5516.0</td>\n",
       "    </tr>\n",
       "    <tr>\n",
       "      <th>1</th>\n",
       "      <td>30대</td>\n",
       "      <td>두부</td>\n",
       "      <td>1373.0</td>\n",
       "      <td>1117.0</td>\n",
       "      <td>2490.0</td>\n",
       "    </tr>\n",
       "    <tr>\n",
       "      <th>2</th>\n",
       "      <td>30대</td>\n",
       "      <td>빵</td>\n",
       "      <td>968.0</td>\n",
       "      <td>731.0</td>\n",
       "      <td>1699.0</td>\n",
       "    </tr>\n",
       "    <tr>\n",
       "      <th>3</th>\n",
       "      <td>30대</td>\n",
       "      <td>김가공</td>\n",
       "      <td>929.0</td>\n",
       "      <td>741.0</td>\n",
       "      <td>1670.0</td>\n",
       "    </tr>\n",
       "    <tr>\n",
       "      <th>4</th>\n",
       "      <td>30대</td>\n",
       "      <td>우유/산양유</td>\n",
       "      <td>776.0</td>\n",
       "      <td>582.0</td>\n",
       "      <td>1358.0</td>\n",
       "    </tr>\n",
       "    <tr>\n",
       "      <th>5</th>\n",
       "      <td>30대</td>\n",
       "      <td>돼지가공</td>\n",
       "      <td>735.0</td>\n",
       "      <td>622.0</td>\n",
       "      <td>1357.0</td>\n",
       "    </tr>\n",
       "    <tr>\n",
       "      <th>6</th>\n",
       "      <td>30대</td>\n",
       "      <td>라면</td>\n",
       "      <td>540.0</td>\n",
       "      <td>351.0</td>\n",
       "      <td>891.0</td>\n",
       "    </tr>\n",
       "    <tr>\n",
       "      <th>7</th>\n",
       "      <td>30대</td>\n",
       "      <td>유정란</td>\n",
       "      <td>511.0</td>\n",
       "      <td>361.0</td>\n",
       "      <td>872.0</td>\n",
       "    </tr>\n",
       "    <tr>\n",
       "      <th>8</th>\n",
       "      <td>30대</td>\n",
       "      <td>식사대용/기타</td>\n",
       "      <td>456.0</td>\n",
       "      <td>493.0</td>\n",
       "      <td>949.0</td>\n",
       "    </tr>\n",
       "    <tr>\n",
       "      <th>9</th>\n",
       "      <td>30대</td>\n",
       "      <td>콩나물</td>\n",
       "      <td>437.0</td>\n",
       "      <td>312.0</td>\n",
       "      <td>749.0</td>\n",
       "    </tr>\n",
       "    <tr>\n",
       "      <th>10</th>\n",
       "      <td>30대</td>\n",
       "      <td>요구르트</td>\n",
       "      <td>436.0</td>\n",
       "      <td>309.0</td>\n",
       "      <td>745.0</td>\n",
       "    </tr>\n",
       "    <tr>\n",
       "      <th>11</th>\n",
       "      <td>30대</td>\n",
       "      <td>어묵</td>\n",
       "      <td>411.0</td>\n",
       "      <td>287.0</td>\n",
       "      <td>698.0</td>\n",
       "    </tr>\n",
       "    <tr>\n",
       "      <th>12</th>\n",
       "      <td>30대</td>\n",
       "      <td>기름</td>\n",
       "      <td>409.0</td>\n",
       "      <td>345.0</td>\n",
       "      <td>754.0</td>\n",
       "    </tr>\n",
       "    <tr>\n",
       "      <th>13</th>\n",
       "      <td>30대</td>\n",
       "      <td>양파</td>\n",
       "      <td>382.0</td>\n",
       "      <td>305.0</td>\n",
       "      <td>687.0</td>\n",
       "    </tr>\n",
       "    <tr>\n",
       "      <th>14</th>\n",
       "      <td>30대</td>\n",
       "      <td>씨리얼</td>\n",
       "      <td>381.0</td>\n",
       "      <td>286.0</td>\n",
       "      <td>667.0</td>\n",
       "    </tr>\n",
       "    <tr>\n",
       "      <th>15</th>\n",
       "      <td>30대</td>\n",
       "      <td>아이스크림</td>\n",
       "      <td>366.0</td>\n",
       "      <td>289.0</td>\n",
       "      <td>655.0</td>\n",
       "    </tr>\n",
       "    <tr>\n",
       "      <th>16</th>\n",
       "      <td>30대</td>\n",
       "      <td>기타양념</td>\n",
       "      <td>341.0</td>\n",
       "      <td>354.0</td>\n",
       "      <td>695.0</td>\n",
       "    </tr>\n",
       "    <tr>\n",
       "      <th>17</th>\n",
       "      <td>30대</td>\n",
       "      <td>토종유정란</td>\n",
       "      <td>325.0</td>\n",
       "      <td>244.0</td>\n",
       "      <td>569.0</td>\n",
       "    </tr>\n",
       "    <tr>\n",
       "      <th>18</th>\n",
       "      <td>30대</td>\n",
       "      <td>만두</td>\n",
       "      <td>306.0</td>\n",
       "      <td>269.0</td>\n",
       "      <td>575.0</td>\n",
       "    </tr>\n",
       "    <tr>\n",
       "      <th>19</th>\n",
       "      <td>30대</td>\n",
       "      <td>백미</td>\n",
       "      <td>305.0</td>\n",
       "      <td>285.0</td>\n",
       "      <td>590.0</td>\n",
       "    </tr>\n",
       "    <tr>\n",
       "      <th>20</th>\n",
       "      <td>30대</td>\n",
       "      <td>당근</td>\n",
       "      <td>294.0</td>\n",
       "      <td>223.0</td>\n",
       "      <td>517.0</td>\n",
       "    </tr>\n",
       "    <tr>\n",
       "      <th>21</th>\n",
       "      <td>30대</td>\n",
       "      <td>절임</td>\n",
       "      <td>289.0</td>\n",
       "      <td>273.0</td>\n",
       "      <td>562.0</td>\n",
       "    </tr>\n",
       "    <tr>\n",
       "      <th>22</th>\n",
       "      <td>30대</td>\n",
       "      <td>브로컬리</td>\n",
       "      <td>274.0</td>\n",
       "      <td>NaN</td>\n",
       "      <td>NaN</td>\n",
       "    </tr>\n",
       "    <tr>\n",
       "      <th>23</th>\n",
       "      <td>30대</td>\n",
       "      <td>한우가공</td>\n",
       "      <td>265.0</td>\n",
       "      <td>238.0</td>\n",
       "      <td>503.0</td>\n",
       "    </tr>\n",
       "    <tr>\n",
       "      <th>24</th>\n",
       "      <td>30대</td>\n",
       "      <td>죽</td>\n",
       "      <td>253.0</td>\n",
       "      <td>250.0</td>\n",
       "      <td>503.0</td>\n",
       "    </tr>\n",
       "    <tr>\n",
       "      <th>25</th>\n",
       "      <td>30대</td>\n",
       "      <td>양념가루</td>\n",
       "      <td>247.0</td>\n",
       "      <td>NaN</td>\n",
       "      <td>NaN</td>\n",
       "    </tr>\n",
       "    <tr>\n",
       "      <th>26</th>\n",
       "      <td>30대</td>\n",
       "      <td>한과/유과</td>\n",
       "      <td>240.0</td>\n",
       "      <td>NaN</td>\n",
       "      <td>NaN</td>\n",
       "    </tr>\n",
       "    <tr>\n",
       "      <th>27</th>\n",
       "      <td>30대</td>\n",
       "      <td>소스</td>\n",
       "      <td>235.0</td>\n",
       "      <td>275.0</td>\n",
       "      <td>510.0</td>\n",
       "    </tr>\n",
       "    <tr>\n",
       "      <th>28</th>\n",
       "      <td>30대</td>\n",
       "      <td>곡식가루</td>\n",
       "      <td>210.0</td>\n",
       "      <td>NaN</td>\n",
       "      <td>NaN</td>\n",
       "    </tr>\n",
       "    <tr>\n",
       "      <th>29</th>\n",
       "      <td>30대</td>\n",
       "      <td>프리믹스</td>\n",
       "      <td>203.0</td>\n",
       "      <td>231.0</td>\n",
       "      <td>434.0</td>\n",
       "    </tr>\n",
       "    <tr>\n",
       "      <th>30</th>\n",
       "      <td>NaN</td>\n",
       "      <td>닭가공</td>\n",
       "      <td>NaN</td>\n",
       "      <td>233.0</td>\n",
       "      <td>NaN</td>\n",
       "    </tr>\n",
       "    <tr>\n",
       "      <th>31</th>\n",
       "      <td>NaN</td>\n",
       "      <td>오이</td>\n",
       "      <td>NaN</td>\n",
       "      <td>197.0</td>\n",
       "      <td>NaN</td>\n",
       "    </tr>\n",
       "    <tr>\n",
       "      <th>32</th>\n",
       "      <td>NaN</td>\n",
       "      <td>잼</td>\n",
       "      <td>NaN</td>\n",
       "      <td>193.0</td>\n",
       "      <td>NaN</td>\n",
       "    </tr>\n",
       "    <tr>\n",
       "      <th>33</th>\n",
       "      <td>NaN</td>\n",
       "      <td>단과자빵</td>\n",
       "      <td>NaN</td>\n",
       "      <td>192.0</td>\n",
       "      <td>NaN</td>\n",
       "    </tr>\n",
       "  </tbody>\n",
       "</table>\n",
       "</div>"
      ],
      "text/plain": [
       "   agegroup item_g_s  count_2018  count_2019     sum\n",
       "0       30대       스낵      2969.0      2547.0  5516.0\n",
       "1       30대       두부      1373.0      1117.0  2490.0\n",
       "2       30대        빵       968.0       731.0  1699.0\n",
       "3       30대      김가공       929.0       741.0  1670.0\n",
       "4       30대   우유/산양유       776.0       582.0  1358.0\n",
       "5       30대     돼지가공       735.0       622.0  1357.0\n",
       "6       30대       라면       540.0       351.0   891.0\n",
       "7       30대      유정란       511.0       361.0   872.0\n",
       "8       30대  식사대용/기타       456.0       493.0   949.0\n",
       "9       30대      콩나물       437.0       312.0   749.0\n",
       "10      30대     요구르트       436.0       309.0   745.0\n",
       "11      30대       어묵       411.0       287.0   698.0\n",
       "12      30대       기름       409.0       345.0   754.0\n",
       "13      30대       양파       382.0       305.0   687.0\n",
       "14      30대      씨리얼       381.0       286.0   667.0\n",
       "15      30대    아이스크림       366.0       289.0   655.0\n",
       "16      30대     기타양념       341.0       354.0   695.0\n",
       "17      30대    토종유정란       325.0       244.0   569.0\n",
       "18      30대       만두       306.0       269.0   575.0\n",
       "19      30대       백미       305.0       285.0   590.0\n",
       "20      30대       당근       294.0       223.0   517.0\n",
       "21      30대       절임       289.0       273.0   562.0\n",
       "22      30대     브로컬리       274.0         NaN     NaN\n",
       "23      30대     한우가공       265.0       238.0   503.0\n",
       "24      30대        죽       253.0       250.0   503.0\n",
       "25      30대     양념가루       247.0         NaN     NaN\n",
       "26      30대    한과/유과       240.0         NaN     NaN\n",
       "27      30대       소스       235.0       275.0   510.0\n",
       "28      30대     곡식가루       210.0         NaN     NaN\n",
       "29      30대     프리믹스       203.0       231.0   434.0\n",
       "30      NaN      닭가공         NaN       233.0     NaN\n",
       "31      NaN       오이         NaN       197.0     NaN\n",
       "32      NaN        잼         NaN       193.0     NaN\n",
       "33      NaN     단과자빵         NaN       192.0     NaN"
      ]
     },
     "execution_count": 188,
     "metadata": {},
     "output_type": "execute_result"
    }
   ],
   "source": [
    "contrast"
   ]
  },
  {
   "cell_type": "code",
   "execution_count": 206,
   "metadata": {},
   "outputs": [
    {
     "data": {
      "text/html": [
       "<div>\n",
       "<style scoped>\n",
       "    .dataframe tbody tr th:only-of-type {\n",
       "        vertical-align: middle;\n",
       "    }\n",
       "\n",
       "    .dataframe tbody tr th {\n",
       "        vertical-align: top;\n",
       "    }\n",
       "\n",
       "    .dataframe thead th {\n",
       "        text-align: right;\n",
       "    }\n",
       "</style>\n",
       "<table border=\"1\" class=\"dataframe\">\n",
       "  <thead>\n",
       "    <tr style=\"text-align: right;\">\n",
       "      <th></th>\n",
       "      <th>purchase_id</th>\n",
       "      <th>store_id</th>\n",
       "      <th>purchase_yearmonth</th>\n",
       "      <th>purchase_weekday</th>\n",
       "      <th>purchase_hour</th>\n",
       "      <th>purchase_date</th>\n",
       "      <th>purchase_time</th>\n",
       "      <th>supply_date</th>\n",
       "      <th>item_id</th>\n",
       "      <th>item_g_l</th>\n",
       "      <th>...</th>\n",
       "      <th>flag_member</th>\n",
       "      <th>flag_rcv_sms</th>\n",
       "      <th>flag_rcv_email</th>\n",
       "      <th>flag_rcv_post</th>\n",
       "      <th>zipcode</th>\n",
       "      <th>sigun</th>\n",
       "      <th>dong</th>\n",
       "      <th>ri</th>\n",
       "      <th>address</th>\n",
       "      <th>purchase_year</th>\n",
       "    </tr>\n",
       "    <tr>\n",
       "      <th>customer_id</th>\n",
       "      <th></th>\n",
       "      <th></th>\n",
       "      <th></th>\n",
       "      <th></th>\n",
       "      <th></th>\n",
       "      <th></th>\n",
       "      <th></th>\n",
       "      <th></th>\n",
       "      <th></th>\n",
       "      <th></th>\n",
       "      <th></th>\n",
       "      <th></th>\n",
       "      <th></th>\n",
       "      <th></th>\n",
       "      <th></th>\n",
       "      <th></th>\n",
       "      <th></th>\n",
       "      <th></th>\n",
       "      <th></th>\n",
       "      <th></th>\n",
       "      <th></th>\n",
       "    </tr>\n",
       "  </thead>\n",
       "  <tbody>\n",
       "    <tr>\n",
       "      <th>C118291</th>\n",
       "      <td>3</td>\n",
       "      <td>3</td>\n",
       "      <td>3</td>\n",
       "      <td>3</td>\n",
       "      <td>3</td>\n",
       "      <td>3</td>\n",
       "      <td>3</td>\n",
       "      <td>3</td>\n",
       "      <td>3</td>\n",
       "      <td>3</td>\n",
       "      <td>...</td>\n",
       "      <td>3</td>\n",
       "      <td>3</td>\n",
       "      <td>3</td>\n",
       "      <td>3</td>\n",
       "      <td>3</td>\n",
       "      <td>3</td>\n",
       "      <td>3</td>\n",
       "      <td>3</td>\n",
       "      <td>3</td>\n",
       "      <td>3</td>\n",
       "    </tr>\n",
       "    <tr>\n",
       "      <th>C118295</th>\n",
       "      <td>2</td>\n",
       "      <td>2</td>\n",
       "      <td>2</td>\n",
       "      <td>2</td>\n",
       "      <td>2</td>\n",
       "      <td>2</td>\n",
       "      <td>2</td>\n",
       "      <td>2</td>\n",
       "      <td>2</td>\n",
       "      <td>2</td>\n",
       "      <td>...</td>\n",
       "      <td>2</td>\n",
       "      <td>2</td>\n",
       "      <td>2</td>\n",
       "      <td>2</td>\n",
       "      <td>2</td>\n",
       "      <td>2</td>\n",
       "      <td>2</td>\n",
       "      <td>2</td>\n",
       "      <td>2</td>\n",
       "      <td>2</td>\n",
       "    </tr>\n",
       "    <tr>\n",
       "      <th>C118298</th>\n",
       "      <td>49</td>\n",
       "      <td>49</td>\n",
       "      <td>49</td>\n",
       "      <td>49</td>\n",
       "      <td>49</td>\n",
       "      <td>49</td>\n",
       "      <td>49</td>\n",
       "      <td>49</td>\n",
       "      <td>49</td>\n",
       "      <td>49</td>\n",
       "      <td>...</td>\n",
       "      <td>49</td>\n",
       "      <td>49</td>\n",
       "      <td>49</td>\n",
       "      <td>49</td>\n",
       "      <td>49</td>\n",
       "      <td>49</td>\n",
       "      <td>49</td>\n",
       "      <td>0</td>\n",
       "      <td>49</td>\n",
       "      <td>49</td>\n",
       "    </tr>\n",
       "    <tr>\n",
       "      <th>C118476</th>\n",
       "      <td>5</td>\n",
       "      <td>5</td>\n",
       "      <td>5</td>\n",
       "      <td>5</td>\n",
       "      <td>5</td>\n",
       "      <td>5</td>\n",
       "      <td>5</td>\n",
       "      <td>5</td>\n",
       "      <td>5</td>\n",
       "      <td>5</td>\n",
       "      <td>...</td>\n",
       "      <td>5</td>\n",
       "      <td>5</td>\n",
       "      <td>5</td>\n",
       "      <td>5</td>\n",
       "      <td>5</td>\n",
       "      <td>5</td>\n",
       "      <td>5</td>\n",
       "      <td>0</td>\n",
       "      <td>5</td>\n",
       "      <td>5</td>\n",
       "    </tr>\n",
       "    <tr>\n",
       "      <th>C118477</th>\n",
       "      <td>3</td>\n",
       "      <td>3</td>\n",
       "      <td>3</td>\n",
       "      <td>3</td>\n",
       "      <td>3</td>\n",
       "      <td>3</td>\n",
       "      <td>3</td>\n",
       "      <td>3</td>\n",
       "      <td>3</td>\n",
       "      <td>3</td>\n",
       "      <td>...</td>\n",
       "      <td>3</td>\n",
       "      <td>3</td>\n",
       "      <td>3</td>\n",
       "      <td>3</td>\n",
       "      <td>3</td>\n",
       "      <td>3</td>\n",
       "      <td>3</td>\n",
       "      <td>0</td>\n",
       "      <td>3</td>\n",
       "      <td>3</td>\n",
       "    </tr>\n",
       "    <tr>\n",
       "      <th>...</th>\n",
       "      <td>...</td>\n",
       "      <td>...</td>\n",
       "      <td>...</td>\n",
       "      <td>...</td>\n",
       "      <td>...</td>\n",
       "      <td>...</td>\n",
       "      <td>...</td>\n",
       "      <td>...</td>\n",
       "      <td>...</td>\n",
       "      <td>...</td>\n",
       "      <td>...</td>\n",
       "      <td>...</td>\n",
       "      <td>...</td>\n",
       "      <td>...</td>\n",
       "      <td>...</td>\n",
       "      <td>...</td>\n",
       "      <td>...</td>\n",
       "      <td>...</td>\n",
       "      <td>...</td>\n",
       "      <td>...</td>\n",
       "      <td>...</td>\n",
       "    </tr>\n",
       "    <tr>\n",
       "      <th>C699810</th>\n",
       "      <td>2</td>\n",
       "      <td>2</td>\n",
       "      <td>2</td>\n",
       "      <td>2</td>\n",
       "      <td>2</td>\n",
       "      <td>2</td>\n",
       "      <td>2</td>\n",
       "      <td>2</td>\n",
       "      <td>2</td>\n",
       "      <td>2</td>\n",
       "      <td>...</td>\n",
       "      <td>2</td>\n",
       "      <td>2</td>\n",
       "      <td>2</td>\n",
       "      <td>2</td>\n",
       "      <td>2</td>\n",
       "      <td>2</td>\n",
       "      <td>2</td>\n",
       "      <td>2</td>\n",
       "      <td>2</td>\n",
       "      <td>2</td>\n",
       "    </tr>\n",
       "    <tr>\n",
       "      <th>C700358</th>\n",
       "      <td>1</td>\n",
       "      <td>1</td>\n",
       "      <td>1</td>\n",
       "      <td>1</td>\n",
       "      <td>1</td>\n",
       "      <td>1</td>\n",
       "      <td>1</td>\n",
       "      <td>1</td>\n",
       "      <td>1</td>\n",
       "      <td>1</td>\n",
       "      <td>...</td>\n",
       "      <td>1</td>\n",
       "      <td>1</td>\n",
       "      <td>1</td>\n",
       "      <td>1</td>\n",
       "      <td>1</td>\n",
       "      <td>1</td>\n",
       "      <td>1</td>\n",
       "      <td>1</td>\n",
       "      <td>1</td>\n",
       "      <td>1</td>\n",
       "    </tr>\n",
       "    <tr>\n",
       "      <th>C701813</th>\n",
       "      <td>1</td>\n",
       "      <td>1</td>\n",
       "      <td>1</td>\n",
       "      <td>1</td>\n",
       "      <td>1</td>\n",
       "      <td>1</td>\n",
       "      <td>1</td>\n",
       "      <td>1</td>\n",
       "      <td>1</td>\n",
       "      <td>1</td>\n",
       "      <td>...</td>\n",
       "      <td>1</td>\n",
       "      <td>1</td>\n",
       "      <td>1</td>\n",
       "      <td>1</td>\n",
       "      <td>1</td>\n",
       "      <td>1</td>\n",
       "      <td>1</td>\n",
       "      <td>0</td>\n",
       "      <td>1</td>\n",
       "      <td>1</td>\n",
       "    </tr>\n",
       "    <tr>\n",
       "      <th>C701953</th>\n",
       "      <td>1</td>\n",
       "      <td>1</td>\n",
       "      <td>1</td>\n",
       "      <td>1</td>\n",
       "      <td>1</td>\n",
       "      <td>1</td>\n",
       "      <td>1</td>\n",
       "      <td>1</td>\n",
       "      <td>1</td>\n",
       "      <td>1</td>\n",
       "      <td>...</td>\n",
       "      <td>1</td>\n",
       "      <td>1</td>\n",
       "      <td>1</td>\n",
       "      <td>1</td>\n",
       "      <td>1</td>\n",
       "      <td>1</td>\n",
       "      <td>1</td>\n",
       "      <td>1</td>\n",
       "      <td>1</td>\n",
       "      <td>1</td>\n",
       "    </tr>\n",
       "    <tr>\n",
       "      <th>C701974</th>\n",
       "      <td>1</td>\n",
       "      <td>1</td>\n",
       "      <td>1</td>\n",
       "      <td>1</td>\n",
       "      <td>1</td>\n",
       "      <td>1</td>\n",
       "      <td>1</td>\n",
       "      <td>1</td>\n",
       "      <td>1</td>\n",
       "      <td>1</td>\n",
       "      <td>...</td>\n",
       "      <td>1</td>\n",
       "      <td>1</td>\n",
       "      <td>1</td>\n",
       "      <td>1</td>\n",
       "      <td>1</td>\n",
       "      <td>1</td>\n",
       "      <td>1</td>\n",
       "      <td>0</td>\n",
       "      <td>1</td>\n",
       "      <td>1</td>\n",
       "    </tr>\n",
       "  </tbody>\n",
       "</table>\n",
       "<p>1540 rows × 36 columns</p>\n",
       "</div>"
      ],
      "text/plain": [
       "             purchase_id  store_id  purchase_yearmonth  purchase_weekday  \\\n",
       "customer_id                                                                \n",
       "C118291                3         3                   3                 3   \n",
       "C118295                2         2                   2                 2   \n",
       "C118298               49        49                  49                49   \n",
       "C118476                5         5                   5                 5   \n",
       "C118477                3         3                   3                 3   \n",
       "...                  ...       ...                 ...               ...   \n",
       "C699810                2         2                   2                 2   \n",
       "C700358                1         1                   1                 1   \n",
       "C701813                1         1                   1                 1   \n",
       "C701953                1         1                   1                 1   \n",
       "C701974                1         1                   1                 1   \n",
       "\n",
       "             purchase_hour  purchase_date  purchase_time  supply_date  \\\n",
       "customer_id                                                             \n",
       "C118291                  3              3              3            3   \n",
       "C118295                  2              2              2            2   \n",
       "C118298                 49             49             49           49   \n",
       "C118476                  5              5              5            5   \n",
       "C118477                  3              3              3            3   \n",
       "...                    ...            ...            ...          ...   \n",
       "C699810                  2              2              2            2   \n",
       "C700358                  1              1              1            1   \n",
       "C701813                  1              1              1            1   \n",
       "C701953                  1              1              1            1   \n",
       "C701974                  1              1              1            1   \n",
       "\n",
       "             item_id  item_g_l  ...  flag_member  flag_rcv_sms  \\\n",
       "customer_id                     ...                              \n",
       "C118291            3         3  ...            3             3   \n",
       "C118295            2         2  ...            2             2   \n",
       "C118298           49        49  ...           49            49   \n",
       "C118476            5         5  ...            5             5   \n",
       "C118477            3         3  ...            3             3   \n",
       "...              ...       ...  ...          ...           ...   \n",
       "C699810            2         2  ...            2             2   \n",
       "C700358            1         1  ...            1             1   \n",
       "C701813            1         1  ...            1             1   \n",
       "C701953            1         1  ...            1             1   \n",
       "C701974            1         1  ...            1             1   \n",
       "\n",
       "             flag_rcv_email  flag_rcv_post  zipcode  sigun  dong  ri  address  \\\n",
       "customer_id                                                                     \n",
       "C118291                   3              3        3      3     3   3        3   \n",
       "C118295                   2              2        2      2     2   2        2   \n",
       "C118298                  49             49       49     49    49   0       49   \n",
       "C118476                   5              5        5      5     5   0        5   \n",
       "C118477                   3              3        3      3     3   0        3   \n",
       "...                     ...            ...      ...    ...   ...  ..      ...   \n",
       "C699810                   2              2        2      2     2   2        2   \n",
       "C700358                   1              1        1      1     1   1        1   \n",
       "C701813                   1              1        1      1     1   0        1   \n",
       "C701953                   1              1        1      1     1   1        1   \n",
       "C701974                   1              1        1      1     1   0        1   \n",
       "\n",
       "             purchase_year  \n",
       "customer_id                 \n",
       "C118291                  3  \n",
       "C118295                  2  \n",
       "C118298                 49  \n",
       "C118476                  5  \n",
       "C118477                  3  \n",
       "...                    ...  \n",
       "C699810                  2  \n",
       "C700358                  1  \n",
       "C701813                  1  \n",
       "C701953                  1  \n",
       "C701974                  1  \n",
       "\n",
       "[1540 rows x 36 columns]"
      ]
     },
     "execution_count": 206,
     "metadata": {},
     "output_type": "execute_result"
    }
   ],
   "source": [
    "df_final.loc[df_final['item_g_s']=='두부'].groupby('customer_id').agg('count')"
   ]
  },
  {
   "cell_type": "code",
   "execution_count": 8,
   "metadata": {},
   "outputs": [
    {
     "data": {
      "text/html": [
       "<div>\n",
       "<style scoped>\n",
       "    .dataframe tbody tr th:only-of-type {\n",
       "        vertical-align: middle;\n",
       "    }\n",
       "\n",
       "    .dataframe tbody tr th {\n",
       "        vertical-align: top;\n",
       "    }\n",
       "\n",
       "    .dataframe thead th {\n",
       "        text-align: right;\n",
       "    }\n",
       "</style>\n",
       "<table border=\"1\" class=\"dataframe\">\n",
       "  <thead>\n",
       "    <tr style=\"text-align: right;\">\n",
       "      <th></th>\n",
       "      <th>customer_id</th>\n",
       "      <th>purchase_id</th>\n",
       "      <th>store_id</th>\n",
       "      <th>purchase_yearmonth</th>\n",
       "      <th>purchase_weekday</th>\n",
       "      <th>purchase_hour</th>\n",
       "      <th>purchase_date</th>\n",
       "      <th>purchase_time</th>\n",
       "      <th>supply_date</th>\n",
       "      <th>item_id</th>\n",
       "      <th>item_g_l</th>\n",
       "      <th>item_g_m</th>\n",
       "      <th>item_g_s</th>\n",
       "      <th>item_name</th>\n",
       "      <th>purchase_cnt</th>\n",
       "      <th>unit_cost</th>\n",
       "      <th>purchase_amt</th>\n",
       "    </tr>\n",
       "  </thead>\n",
       "  <tbody>\n",
       "    <tr>\n",
       "      <th>0</th>\n",
       "      <td>C118113</td>\n",
       "      <td>C118113_20180110_87</td>\n",
       "      <td>제주매장</td>\n",
       "      <td>2018M01</td>\n",
       "      <td>수요일</td>\n",
       "      <td>14</td>\n",
       "      <td>2018-01-10</td>\n",
       "      <td>14:47:04</td>\n",
       "      <td>2018-01-10</td>\n",
       "      <td>P08010117</td>\n",
       "      <td>간식</td>\n",
       "      <td>과자</td>\n",
       "      <td>스낵</td>\n",
       "      <td>꼬마찹쌀모나카(112g/8개)</td>\n",
       "      <td>1</td>\n",
       "      <td>3000</td>\n",
       "      <td>3000</td>\n",
       "    </tr>\n",
       "    <tr>\n",
       "      <th>1</th>\n",
       "      <td>C118113</td>\n",
       "      <td>C118113_20180110_87</td>\n",
       "      <td>제주매장</td>\n",
       "      <td>2018M01</td>\n",
       "      <td>수요일</td>\n",
       "      <td>14</td>\n",
       "      <td>2018-01-10</td>\n",
       "      <td>14:47:04</td>\n",
       "      <td>2018-01-10</td>\n",
       "      <td>P09040101</td>\n",
       "      <td>양념/가루</td>\n",
       "      <td>장</td>\n",
       "      <td>간장</td>\n",
       "      <td>제주전통어간장(500ml)</td>\n",
       "      <td>1</td>\n",
       "      <td>7900</td>\n",
       "      <td>7900</td>\n",
       "    </tr>\n",
       "    <tr>\n",
       "      <th>2</th>\n",
       "      <td>C118113</td>\n",
       "      <td>C118113_20180110_87</td>\n",
       "      <td>제주매장</td>\n",
       "      <td>2018M01</td>\n",
       "      <td>수요일</td>\n",
       "      <td>14</td>\n",
       "      <td>2018-01-10</td>\n",
       "      <td>14:47:04</td>\n",
       "      <td>2018-01-10</td>\n",
       "      <td>P09040100</td>\n",
       "      <td>양념/가루</td>\n",
       "      <td>장</td>\n",
       "      <td>간장</td>\n",
       "      <td>맛간장(900ml)</td>\n",
       "      <td>1</td>\n",
       "      <td>13600</td>\n",
       "      <td>13600</td>\n",
       "    </tr>\n",
       "    <tr>\n",
       "      <th>3</th>\n",
       "      <td>C118113</td>\n",
       "      <td>C118113_20181008_22</td>\n",
       "      <td>제주매장</td>\n",
       "      <td>2018M10</td>\n",
       "      <td>월요일</td>\n",
       "      <td>11</td>\n",
       "      <td>2018-10-08</td>\n",
       "      <td>11:59:24</td>\n",
       "      <td>2018-10-08</td>\n",
       "      <td>P09010305</td>\n",
       "      <td>양념/가루</td>\n",
       "      <td>가루</td>\n",
       "      <td>곡식가루</td>\n",
       "      <td>엿기름가루(무/500g)</td>\n",
       "      <td>2</td>\n",
       "      <td>3200</td>\n",
       "      <td>6400</td>\n",
       "    </tr>\n",
       "    <tr>\n",
       "      <th>4</th>\n",
       "      <td>C118113</td>\n",
       "      <td>C118113_20181008_22</td>\n",
       "      <td>제주매장</td>\n",
       "      <td>2018M10</td>\n",
       "      <td>월요일</td>\n",
       "      <td>11</td>\n",
       "      <td>2018-10-08</td>\n",
       "      <td>11:59:24</td>\n",
       "      <td>2018-10-08</td>\n",
       "      <td>P09010301</td>\n",
       "      <td>양념/가루</td>\n",
       "      <td>가루</td>\n",
       "      <td>곡식가루</td>\n",
       "      <td>메주가루(500g)</td>\n",
       "      <td>2</td>\n",
       "      <td>11000</td>\n",
       "      <td>22000</td>\n",
       "    </tr>\n",
       "  </tbody>\n",
       "</table>\n",
       "</div>"
      ],
      "text/plain": [
       "  customer_id          purchase_id store_id purchase_yearmonth  \\\n",
       "0     C118113  C118113_20180110_87     제주매장            2018M01   \n",
       "1     C118113  C118113_20180110_87     제주매장            2018M01   \n",
       "2     C118113  C118113_20180110_87     제주매장            2018M01   \n",
       "3     C118113  C118113_20181008_22     제주매장            2018M10   \n",
       "4     C118113  C118113_20181008_22     제주매장            2018M10   \n",
       "\n",
       "  purchase_weekday  purchase_hour purchase_date purchase_time supply_date  \\\n",
       "0              수요일             14    2018-01-10      14:47:04  2018-01-10   \n",
       "1              수요일             14    2018-01-10      14:47:04  2018-01-10   \n",
       "2              수요일             14    2018-01-10      14:47:04  2018-01-10   \n",
       "3              월요일             11    2018-10-08      11:59:24  2018-10-08   \n",
       "4              월요일             11    2018-10-08      11:59:24  2018-10-08   \n",
       "\n",
       "     item_id item_g_l item_g_m item_g_s         item_name  purchase_cnt  \\\n",
       "0  P08010117       간식       과자       스낵  꼬마찹쌀모나카(112g/8개)             1   \n",
       "1  P09040101    양념/가루        장       간장    제주전통어간장(500ml)             1   \n",
       "2  P09040100    양념/가루        장       간장        맛간장(900ml)             1   \n",
       "3  P09010305    양념/가루       가루     곡식가루     엿기름가루(무/500g)             2   \n",
       "4  P09010301    양념/가루       가루     곡식가루        메주가루(500g)             2   \n",
       "\n",
       "   unit_cost  purchase_amt  \n",
       "0       3000          3000  \n",
       "1       7900          7900  \n",
       "2      13600         13600  \n",
       "3       3200          6400  \n",
       "4      11000         22000  "
      ]
     },
     "execution_count": 8,
     "metadata": {},
     "output_type": "execute_result"
    }
   ],
   "source": [
    "df_p = pd.read_csv('jeju_sales_processed.csv')\n",
    "df_p.head()"
   ]
  },
  {
   "cell_type": "code",
   "execution_count": 80,
   "metadata": {},
   "outputs": [
    {
     "data": {
      "text/plain": [
       "(273295, 19)"
      ]
     },
     "execution_count": 80,
     "metadata": {},
     "output_type": "execute_result"
    }
   ],
   "source": [
    "df_sales.shape"
   ]
  },
  {
   "cell_type": "code",
   "execution_count": 4,
   "metadata": {},
   "outputs": [
    {
     "data": {
      "text/html": [
       "<div>\n",
       "<style scoped>\n",
       "    .dataframe tbody tr th:only-of-type {\n",
       "        vertical-align: middle;\n",
       "    }\n",
       "\n",
       "    .dataframe tbody tr th {\n",
       "        vertical-align: top;\n",
       "    }\n",
       "\n",
       "    .dataframe thead th {\n",
       "        text-align: right;\n",
       "    }\n",
       "</style>\n",
       "<table border=\"1\" class=\"dataframe\">\n",
       "  <thead>\n",
       "    <tr style=\"text-align: right;\">\n",
       "      <th></th>\n",
       "      <th>customer_id</th>\n",
       "      <th>purchase_id</th>\n",
       "      <th>store_id</th>\n",
       "      <th>purchase_yearmonth</th>\n",
       "      <th>purchase_weekday</th>\n",
       "      <th>purchase_hour</th>\n",
       "      <th>purchase_date</th>\n",
       "      <th>purchase_time</th>\n",
       "      <th>supply_date</th>\n",
       "      <th>item_id</th>\n",
       "      <th>...</th>\n",
       "      <th>gaip_path</th>\n",
       "      <th>flag_member</th>\n",
       "      <th>flag_rcv_sms</th>\n",
       "      <th>flag_rcv_email</th>\n",
       "      <th>flag_rcv_post</th>\n",
       "      <th>zipcode</th>\n",
       "      <th>sigun</th>\n",
       "      <th>dong</th>\n",
       "      <th>ri</th>\n",
       "      <th>address</th>\n",
       "    </tr>\n",
       "  </thead>\n",
       "  <tbody>\n",
       "    <tr>\n",
       "      <th>0</th>\n",
       "      <td>C118113</td>\n",
       "      <td>C118113_20180110_87</td>\n",
       "      <td>제주매장</td>\n",
       "      <td>2018M01</td>\n",
       "      <td>수요일</td>\n",
       "      <td>14</td>\n",
       "      <td>2018-01-10</td>\n",
       "      <td>14:47:04</td>\n",
       "      <td>2018-01-10</td>\n",
       "      <td>P08010117</td>\n",
       "      <td>...</td>\n",
       "      <td>기타</td>\n",
       "      <td>Y</td>\n",
       "      <td>Y</td>\n",
       "      <td>Y</td>\n",
       "      <td>Y</td>\n",
       "      <td>690-122</td>\n",
       "      <td>제주시</td>\n",
       "      <td>아라2동</td>\n",
       "      <td>NaN</td>\n",
       "      <td>제주 제주시 아라2동</td>\n",
       "    </tr>\n",
       "    <tr>\n",
       "      <th>1</th>\n",
       "      <td>C118113</td>\n",
       "      <td>C118113_20180110_87</td>\n",
       "      <td>제주매장</td>\n",
       "      <td>2018M01</td>\n",
       "      <td>수요일</td>\n",
       "      <td>14</td>\n",
       "      <td>2018-01-10</td>\n",
       "      <td>14:47:04</td>\n",
       "      <td>2018-01-10</td>\n",
       "      <td>P09040101</td>\n",
       "      <td>...</td>\n",
       "      <td>기타</td>\n",
       "      <td>Y</td>\n",
       "      <td>Y</td>\n",
       "      <td>Y</td>\n",
       "      <td>Y</td>\n",
       "      <td>690-122</td>\n",
       "      <td>제주시</td>\n",
       "      <td>아라2동</td>\n",
       "      <td>NaN</td>\n",
       "      <td>제주 제주시 아라2동</td>\n",
       "    </tr>\n",
       "    <tr>\n",
       "      <th>2</th>\n",
       "      <td>C118113</td>\n",
       "      <td>C118113_20180110_87</td>\n",
       "      <td>제주매장</td>\n",
       "      <td>2018M01</td>\n",
       "      <td>수요일</td>\n",
       "      <td>14</td>\n",
       "      <td>2018-01-10</td>\n",
       "      <td>14:47:04</td>\n",
       "      <td>2018-01-10</td>\n",
       "      <td>P09040100</td>\n",
       "      <td>...</td>\n",
       "      <td>기타</td>\n",
       "      <td>Y</td>\n",
       "      <td>Y</td>\n",
       "      <td>Y</td>\n",
       "      <td>Y</td>\n",
       "      <td>690-122</td>\n",
       "      <td>제주시</td>\n",
       "      <td>아라2동</td>\n",
       "      <td>NaN</td>\n",
       "      <td>제주 제주시 아라2동</td>\n",
       "    </tr>\n",
       "    <tr>\n",
       "      <th>3</th>\n",
       "      <td>C118113</td>\n",
       "      <td>C118113_20181008_22</td>\n",
       "      <td>제주매장</td>\n",
       "      <td>2018M10</td>\n",
       "      <td>월요일</td>\n",
       "      <td>11</td>\n",
       "      <td>2018-10-08</td>\n",
       "      <td>11:59:24</td>\n",
       "      <td>2018-10-08</td>\n",
       "      <td>P09010305</td>\n",
       "      <td>...</td>\n",
       "      <td>기타</td>\n",
       "      <td>Y</td>\n",
       "      <td>Y</td>\n",
       "      <td>Y</td>\n",
       "      <td>Y</td>\n",
       "      <td>690-122</td>\n",
       "      <td>제주시</td>\n",
       "      <td>아라2동</td>\n",
       "      <td>NaN</td>\n",
       "      <td>제주 제주시 아라2동</td>\n",
       "    </tr>\n",
       "    <tr>\n",
       "      <th>4</th>\n",
       "      <td>C118113</td>\n",
       "      <td>C118113_20181008_22</td>\n",
       "      <td>제주매장</td>\n",
       "      <td>2018M10</td>\n",
       "      <td>월요일</td>\n",
       "      <td>11</td>\n",
       "      <td>2018-10-08</td>\n",
       "      <td>11:59:24</td>\n",
       "      <td>2018-10-08</td>\n",
       "      <td>P09010301</td>\n",
       "      <td>...</td>\n",
       "      <td>기타</td>\n",
       "      <td>Y</td>\n",
       "      <td>Y</td>\n",
       "      <td>Y</td>\n",
       "      <td>Y</td>\n",
       "      <td>690-122</td>\n",
       "      <td>제주시</td>\n",
       "      <td>아라2동</td>\n",
       "      <td>NaN</td>\n",
       "      <td>제주 제주시 아라2동</td>\n",
       "    </tr>\n",
       "  </tbody>\n",
       "</table>\n",
       "<p>5 rows × 36 columns</p>\n",
       "</div>"
      ],
      "text/plain": [
       "  customer_id          purchase_id store_id purchase_yearmonth  \\\n",
       "0     C118113  C118113_20180110_87     제주매장            2018M01   \n",
       "1     C118113  C118113_20180110_87     제주매장            2018M01   \n",
       "2     C118113  C118113_20180110_87     제주매장            2018M01   \n",
       "3     C118113  C118113_20181008_22     제주매장            2018M10   \n",
       "4     C118113  C118113_20181008_22     제주매장            2018M10   \n",
       "\n",
       "  purchase_weekday  purchase_hour purchase_date purchase_time supply_date  \\\n",
       "0              수요일             14    2018-01-10      14:47:04  2018-01-10   \n",
       "1              수요일             14    2018-01-10      14:47:04  2018-01-10   \n",
       "2              수요일             14    2018-01-10      14:47:04  2018-01-10   \n",
       "3              월요일             11    2018-10-08      11:59:24  2018-10-08   \n",
       "4              월요일             11    2018-10-08      11:59:24  2018-10-08   \n",
       "\n",
       "     item_id  ... gaip_path flag_member flag_rcv_sms flag_rcv_email  \\\n",
       "0  P08010117  ...        기타           Y            Y              Y   \n",
       "1  P09040101  ...        기타           Y            Y              Y   \n",
       "2  P09040100  ...        기타           Y            Y              Y   \n",
       "3  P09010305  ...        기타           Y            Y              Y   \n",
       "4  P09010301  ...        기타           Y            Y              Y   \n",
       "\n",
       "   flag_rcv_post  zipcode  sigun  dong   ri      address  \n",
       "0              Y  690-122    제주시  아라2동  NaN  제주 제주시 아라2동  \n",
       "1              Y  690-122    제주시  아라2동  NaN  제주 제주시 아라2동  \n",
       "2              Y  690-122    제주시  아라2동  NaN  제주 제주시 아라2동  \n",
       "3              Y  690-122    제주시  아라2동  NaN  제주 제주시 아라2동  \n",
       "4              Y  690-122    제주시  아라2동  NaN  제주 제주시 아라2동  \n",
       "\n",
       "[5 rows x 36 columns]"
      ]
     },
     "execution_count": 4,
     "metadata": {},
     "output_type": "execute_result"
    }
   ],
   "source": [
    "df_p_j= pd.read_csv('sales_member_join_processed.csv')\n",
    "df_p_j.head()"
   ]
  },
  {
   "cell_type": "code",
   "execution_count": 96,
   "metadata": {},
   "outputs": [],
   "source": [
    "df_grade=df_p_j[['customer_id','customer_grade','agegroup']]"
   ]
  },
  {
   "cell_type": "code",
   "execution_count": 97,
   "metadata": {},
   "outputs": [],
   "source": [
    "df_grade=df_grade.drop_duplicates()"
   ]
  },
  {
   "cell_type": "code",
   "execution_count": 68,
   "metadata": {},
   "outputs": [],
   "source": [
    "df=df_p_j.groupby(['customer_grade']).agg('sum')\n",
    "df['객단가'] = df['purchase_amt']/[92,751,1541,371]"
   ]
  },
  {
   "cell_type": "code",
   "execution_count": 74,
   "metadata": {},
   "outputs": [],
   "source": [
    "df['평균구매건수'] = df['purchase_cnt']/[92,751,1541,371]\n",
    "df = df.reset_index()"
   ]
  },
  {
   "cell_type": "code",
   "execution_count": 122,
   "metadata": {},
   "outputs": [
    {
     "data": {
      "text/html": [
       "<div>\n",
       "<style scoped>\n",
       "    .dataframe tbody tr th:only-of-type {\n",
       "        vertical-align: middle;\n",
       "    }\n",
       "\n",
       "    .dataframe tbody tr th {\n",
       "        vertical-align: top;\n",
       "    }\n",
       "\n",
       "    .dataframe thead th {\n",
       "        text-align: right;\n",
       "    }\n",
       "</style>\n",
       "<table border=\"1\" class=\"dataframe\">\n",
       "  <thead>\n",
       "    <tr style=\"text-align: right;\">\n",
       "      <th></th>\n",
       "      <th>customer_grade</th>\n",
       "      <th>purchase_hour</th>\n",
       "      <th>purchase_cnt</th>\n",
       "      <th>unit_cost</th>\n",
       "      <th>purchase_amt</th>\n",
       "      <th>age</th>\n",
       "      <th>taltoi_date</th>\n",
       "      <th>member_month</th>\n",
       "      <th>객단가</th>\n",
       "      <th>평균구매건수</th>\n",
       "    </tr>\n",
       "  </thead>\n",
       "  <tbody>\n",
       "    <tr>\n",
       "      <th>0</th>\n",
       "      <td>1Royal</td>\n",
       "      <td>970956</td>\n",
       "      <td>104098</td>\n",
       "      <td>304757945</td>\n",
       "      <td>407342212</td>\n",
       "      <td>3453547</td>\n",
       "      <td>0.0</td>\n",
       "      <td>4365892</td>\n",
       "      <td>4.427633e+06</td>\n",
       "      <td>1131.500000</td>\n",
       "    </tr>\n",
       "    <tr>\n",
       "      <th>1</th>\n",
       "      <td>2Platinum</td>\n",
       "      <td>1791517</td>\n",
       "      <td>152868</td>\n",
       "      <td>551763737</td>\n",
       "      <td>653534348</td>\n",
       "      <td>5944338</td>\n",
       "      <td>0.0</td>\n",
       "      <td>5054412</td>\n",
       "      <td>8.702188e+05</td>\n",
       "      <td>203.552597</td>\n",
       "    </tr>\n",
       "    <tr>\n",
       "      <th>2</th>\n",
       "      <td>3Gold</td>\n",
       "      <td>1230745</td>\n",
       "      <td>106053</td>\n",
       "      <td>374069703</td>\n",
       "      <td>458031805</td>\n",
       "      <td>3988977</td>\n",
       "      <td>0.0</td>\n",
       "      <td>3254346</td>\n",
       "      <td>2.972302e+05</td>\n",
       "      <td>68.820896</td>\n",
       "    </tr>\n",
       "    <tr>\n",
       "      <th>3</th>\n",
       "      <td>4Silver</td>\n",
       "      <td>67057</td>\n",
       "      <td>5456</td>\n",
       "      <td>20337235</td>\n",
       "      <td>23281715</td>\n",
       "      <td>211719</td>\n",
       "      <td>0.0</td>\n",
       "      <td>161637</td>\n",
       "      <td>6.275395e+04</td>\n",
       "      <td>14.706199</td>\n",
       "    </tr>\n",
       "  </tbody>\n",
       "</table>\n",
       "</div>"
      ],
      "text/plain": [
       "  customer_grade  purchase_hour  purchase_cnt  unit_cost  purchase_amt  \\\n",
       "0         1Royal         970956        104098  304757945     407342212   \n",
       "1      2Platinum        1791517        152868  551763737     653534348   \n",
       "2          3Gold        1230745        106053  374069703     458031805   \n",
       "3        4Silver          67057          5456   20337235      23281715   \n",
       "\n",
       "       age  taltoi_date  member_month           객단가       평균구매건수  \n",
       "0  3453547          0.0       4365892  4.427633e+06  1131.500000  \n",
       "1  5944338          0.0       5054412  8.702188e+05   203.552597  \n",
       "2  3988977          0.0       3254346  2.972302e+05    68.820896  \n",
       "3   211719          0.0        161637  6.275395e+04    14.706199  "
      ]
     },
     "execution_count": 122,
     "metadata": {},
     "output_type": "execute_result"
    }
   ],
   "source": []
  },
  {
   "cell_type": "code",
   "execution_count": 75,
   "metadata": {},
   "outputs": [
    {
     "data": {
      "text/plain": [
       "<AxesSubplot:xlabel='customer_grade', ylabel='객단가'>"
      ]
     },
     "execution_count": 75,
     "metadata": {},
     "output_type": "execute_result"
    },
    {
     "data": {
      "image/png": "[encoded data removed]",
      "text/plain": [
       "<Figure size 432x288 with 1 Axes>"
      ]
     },
     "metadata": {
      "needs_background": "light"
     },
     "output_type": "display_data"
    }
   ],
   "source": [
    "sns.barplot(x='customer_grade',y='객단가',data=df)"
   ]
  },
  {
   "cell_type": "code",
   "execution_count": 76,
   "metadata": {},
   "outputs": [
    {
     "data": {
      "text/plain": [
       "<AxesSubplot:xlabel='customer_grade', ylabel='평균구매건수'>"
      ]
     },
     "execution_count": 76,
     "metadata": {},
     "output_type": "execute_result"
    },
    {
     "data": {
      "image/png": "[encoded data removed]",
      "text/plain": [
       "<Figure size 432x288 with 1 Axes>"
      ]
     },
     "metadata": {
      "needs_background": "light"
     },
     "output_type": "display_data"
    }
   ],
   "source": [
    "sns.barplot(x='customer_grade',y='평균구매건수',data=df)"
   ]
  },
  {
   "cell_type": "code",
   "execution_count": 100,
   "metadata": {},
   "outputs": [],
   "source": [
    "#royal 회원별로 purchase_amt 그림, purchase_amt 큰대로 sort\n",
    "a=df_p_j.loc[df_p_j['customer_grade'] =='1Royal',['customer_id','purchase_amt']].groupby('customer_id').agg('sum').sort_values('purchase_amt').reset_index()"
   ]
  },
  {
   "cell_type": "code",
   "execution_count": 101,
   "metadata": {},
   "outputs": [
    {
     "data": {
      "text/plain": [
       "<AxesSubplot:xlabel='customer_id', ylabel='purchase_amt'>"
      ]
     },
     "execution_count": 101,
     "metadata": {},
     "output_type": "execute_result"
    },
    {
     "data": {
      "image/png": "[encoded data removed]",
      "text/plain": [
       "<Figure size 1080x360 with 1 Axes>"
      ]
     },
     "metadata": {
      "needs_background": "light"
     },
     "output_type": "display_data"
    }
   ],
   "source": [
    "plt.rcParams['figure.figsize'] = [15,5]\n",
    "sns.barplot(x=a['customer_id'],y=a['purchase_amt'])"
   ]
  },
  {
   "cell_type": "code",
   "execution_count": 98,
   "metadata": {},
   "outputs": [
    {
     "data": {
      "text/plain": [
       "(2755, 8)"
      ]
     },
     "execution_count": 98,
     "metadata": {},
     "output_type": "execute_result"
    }
   ],
   "source": [
    "b=df_p_j.groupby('customer_id').agg('sum').sort_values('purchase_amt').reset_index()\n",
    "b.shape"
   ]
  },
  {
   "cell_type": "code",
   "execution_count": 99,
   "metadata": {},
   "outputs": [
    {
     "data": {
      "text/html": [
       "<div>\n",
       "<style scoped>\n",
       "    .dataframe tbody tr th:only-of-type {\n",
       "        vertical-align: middle;\n",
       "    }\n",
       "\n",
       "    .dataframe tbody tr th {\n",
       "        vertical-align: top;\n",
       "    }\n",
       "\n",
       "    .dataframe thead th {\n",
       "        text-align: right;\n",
       "    }\n",
       "</style>\n",
       "<table border=\"1\" class=\"dataframe\">\n",
       "  <thead>\n",
       "    <tr style=\"text-align: right;\">\n",
       "      <th></th>\n",
       "      <th>customer_id</th>\n",
       "      <th>purchase_hour</th>\n",
       "      <th>purchase_cnt</th>\n",
       "      <th>unit_cost</th>\n",
       "      <th>purchase_amt</th>\n",
       "      <th>age</th>\n",
       "      <th>taltoi_date</th>\n",
       "      <th>member_month</th>\n",
       "    </tr>\n",
       "  </thead>\n",
       "  <tbody>\n",
       "    <tr>\n",
       "      <th>0</th>\n",
       "      <td>C613594</td>\n",
       "      <td>14</td>\n",
       "      <td>1</td>\n",
       "      <td>1000</td>\n",
       "      <td>1000</td>\n",
       "      <td>57</td>\n",
       "      <td>0.0</td>\n",
       "      <td>17</td>\n",
       "    </tr>\n",
       "    <tr>\n",
       "      <th>1</th>\n",
       "      <td>C463879</td>\n",
       "      <td>16</td>\n",
       "      <td>1</td>\n",
       "      <td>1300</td>\n",
       "      <td>1300</td>\n",
       "      <td>69</td>\n",
       "      <td>0.0</td>\n",
       "      <td>38</td>\n",
       "    </tr>\n",
       "    <tr>\n",
       "      <th>2</th>\n",
       "      <td>C489663</td>\n",
       "      <td>14</td>\n",
       "      <td>1</td>\n",
       "      <td>1300</td>\n",
       "      <td>1300</td>\n",
       "      <td>63</td>\n",
       "      <td>0.0</td>\n",
       "      <td>34</td>\n",
       "    </tr>\n",
       "    <tr>\n",
       "      <th>3</th>\n",
       "      <td>C553056</td>\n",
       "      <td>18</td>\n",
       "      <td>1</td>\n",
       "      <td>1300</td>\n",
       "      <td>1300</td>\n",
       "      <td>36</td>\n",
       "      <td>0.0</td>\n",
       "      <td>27</td>\n",
       "    </tr>\n",
       "    <tr>\n",
       "      <th>4</th>\n",
       "      <td>C431361</td>\n",
       "      <td>19</td>\n",
       "      <td>1</td>\n",
       "      <td>1300</td>\n",
       "      <td>1300</td>\n",
       "      <td>48</td>\n",
       "      <td>0.0</td>\n",
       "      <td>43</td>\n",
       "    </tr>\n",
       "  </tbody>\n",
       "</table>\n",
       "</div>"
      ],
      "text/plain": [
       "  customer_id  purchase_hour  purchase_cnt  unit_cost  purchase_amt  age  \\\n",
       "0     C613594             14             1       1000          1000   57   \n",
       "1     C463879             16             1       1300          1300   69   \n",
       "2     C489663             14             1       1300          1300   63   \n",
       "3     C553056             18             1       1300          1300   36   \n",
       "4     C431361             19             1       1300          1300   48   \n",
       "\n",
       "   taltoi_date  member_month  \n",
       "0          0.0            17  \n",
       "1          0.0            38  \n",
       "2          0.0            34  \n",
       "3          0.0            27  \n",
       "4          0.0            43  "
      ]
     },
     "execution_count": 99,
     "metadata": {},
     "output_type": "execute_result"
    }
   ],
   "source": [
    "b.head()"
   ]
  },
  {
   "cell_type": "code",
   "execution_count": 118,
   "metadata": {},
   "outputs": [
    {
     "data": {
      "text/html": [
       "<div>\n",
       "<style scoped>\n",
       "    .dataframe tbody tr th:only-of-type {\n",
       "        vertical-align: middle;\n",
       "    }\n",
       "\n",
       "    .dataframe tbody tr th {\n",
       "        vertical-align: top;\n",
       "    }\n",
       "\n",
       "    .dataframe thead th {\n",
       "        text-align: right;\n",
       "    }\n",
       "</style>\n",
       "<table border=\"1\" class=\"dataframe\">\n",
       "  <thead>\n",
       "    <tr style=\"text-align: right;\">\n",
       "      <th></th>\n",
       "      <th>customer_id</th>\n",
       "      <th>purchase_hour</th>\n",
       "      <th>purchase_cnt</th>\n",
       "      <th>unit_cost</th>\n",
       "      <th>purchase_amt</th>\n",
       "      <th>age</th>\n",
       "      <th>taltoi_date</th>\n",
       "      <th>member_month</th>\n",
       "      <th>customer_grade</th>\n",
       "      <th>agegroup</th>\n",
       "    </tr>\n",
       "  </thead>\n",
       "  <tbody>\n",
       "    <tr>\n",
       "      <th>0</th>\n",
       "      <td>C613594</td>\n",
       "      <td>14</td>\n",
       "      <td>1</td>\n",
       "      <td>1000</td>\n",
       "      <td>1000</td>\n",
       "      <td>57</td>\n",
       "      <td>0.0</td>\n",
       "      <td>17</td>\n",
       "      <td>3Gold</td>\n",
       "      <td>50대</td>\n",
       "    </tr>\n",
       "    <tr>\n",
       "      <th>1</th>\n",
       "      <td>C463879</td>\n",
       "      <td>16</td>\n",
       "      <td>1</td>\n",
       "      <td>1300</td>\n",
       "      <td>1300</td>\n",
       "      <td>69</td>\n",
       "      <td>0.0</td>\n",
       "      <td>38</td>\n",
       "      <td>4Silver</td>\n",
       "      <td>60대</td>\n",
       "    </tr>\n",
       "    <tr>\n",
       "      <th>2</th>\n",
       "      <td>C489663</td>\n",
       "      <td>14</td>\n",
       "      <td>1</td>\n",
       "      <td>1300</td>\n",
       "      <td>1300</td>\n",
       "      <td>63</td>\n",
       "      <td>0.0</td>\n",
       "      <td>34</td>\n",
       "      <td>3Gold</td>\n",
       "      <td>60대</td>\n",
       "    </tr>\n",
       "    <tr>\n",
       "      <th>3</th>\n",
       "      <td>C553056</td>\n",
       "      <td>18</td>\n",
       "      <td>1</td>\n",
       "      <td>1300</td>\n",
       "      <td>1300</td>\n",
       "      <td>36</td>\n",
       "      <td>0.0</td>\n",
       "      <td>27</td>\n",
       "      <td>3Gold</td>\n",
       "      <td>30대</td>\n",
       "    </tr>\n",
       "    <tr>\n",
       "      <th>4</th>\n",
       "      <td>C431361</td>\n",
       "      <td>19</td>\n",
       "      <td>1</td>\n",
       "      <td>1300</td>\n",
       "      <td>1300</td>\n",
       "      <td>48</td>\n",
       "      <td>0.0</td>\n",
       "      <td>43</td>\n",
       "      <td>3Gold</td>\n",
       "      <td>40대</td>\n",
       "    </tr>\n",
       "  </tbody>\n",
       "</table>\n",
       "</div>"
      ],
      "text/plain": [
       "  customer_id  purchase_hour  purchase_cnt  unit_cost  purchase_amt  age  \\\n",
       "0     C613594             14             1       1000          1000   57   \n",
       "1     C463879             16             1       1300          1300   69   \n",
       "2     C489663             14             1       1300          1300   63   \n",
       "3     C553056             18             1       1300          1300   36   \n",
       "4     C431361             19             1       1300          1300   48   \n",
       "\n",
       "   taltoi_date  member_month customer_grade agegroup  \n",
       "0          0.0            17          3Gold      50대  \n",
       "1          0.0            38        4Silver      60대  \n",
       "2          0.0            34          3Gold      60대  \n",
       "3          0.0            27          3Gold      30대  \n",
       "4          0.0            43          3Gold      40대  "
      ]
     },
     "execution_count": 118,
     "metadata": {},
     "output_type": "execute_result"
    }
   ],
   "source": [
    "c=pd.merge(b,df_grade,left_on='customer_id',right_on='customer_id')"
   ]
  },
  {
   "cell_type": "code",
   "execution_count": 106,
   "metadata": {},
   "outputs": [],
   "source": [
    "age_4050=c.loc[(c['agegroup']=='40대')|(c['agegroup']=='50대'),'purchase_amt'] \n",
    "age_2030=c.loc[(c['agegroup']=='20대')|(c['agegroup']=='30대'),'purchase_amt'] "
   ]
  },
  {
   "cell_type": "code",
   "execution_count": 111,
   "metadata": {},
   "outputs": [
    {
     "name": "stdout",
     "output_type": "stream",
     "text": [
      "statistic=0.4834389090538025,p-value=1.0776797719559397e-36\n",
      "statistic=0.2341349720954895,p-value=0.0\n"
     ]
    }
   ],
   "source": [
    "#정규성 만족하지 않음. (데이터 양을 늘리거나 층별화, bias 없이 얻어진 데이터인지 확인)\n",
    "statistic,p=stats.shapiro(age_2030)\n",
    "print(\"statistic={},p-value={}\".format(statistic,p))\n",
    "statistic,p=stats.shapiro(age_4050)\n",
    "print(\"statistic={},p-value={}\".format(statistic,p))"
   ]
  },
  {
   "cell_type": "code",
   "execution_count": 113,
   "metadata": {},
   "outputs": [
    {
     "data": {
      "text/plain": [
       "LeveneResult(statistic=2.8085047931931233, pvalue=0.0938985311094409)"
      ]
     },
     "execution_count": 113,
     "metadata": {},
     "output_type": "execute_result"
    }
   ],
   "source": [
    "#등분산성 확인\n",
    "stats.levene(age_2030,age_4050) \n",
    "#등분산이다."
   ]
  },
  {
   "cell_type": "code",
   "execution_count": 115,
   "metadata": {},
   "outputs": [
    {
     "name": "stdout",
     "output_type": "stream",
     "text": [
      "2 sample t-test\n",
      "t 검정통계량:-1.865\n",
      "p-value:0.062\n"
     ]
    }
   ],
   "source": [
    "#2-sample t-test\n",
    "t_result=stats.ttest_ind(age_2030,age_4050,equal_var=True)\n",
    "\n",
    "#2-sample t-test의 t값, p값 저장\n",
    "t,p=t_result.statistic.round(3),t_result.pvalue.round(3)\n",
    "\n",
    "#2-sample t-test의 t값 p값 출력\n",
    "print(\"2 sample t-test\")\n",
    "print(\"t 검정통계량:{}\".format(t))\n",
    "print(\"p-value:{}\".format(p))"
   ]
  },
  {
   "cell_type": "code",
   "execution_count": 117,
   "metadata": {},
   "outputs": [
    {
     "name": "stdout",
     "output_type": "stream",
     "text": [
      "2 sample u-test\n",
      "u 검정통계량:433601.5\n",
      "p-value:0.0\n"
     ]
    }
   ],
   "source": [
    "#비모수 검정\n",
    "u_result=scipy.stats.mannwhitneyu(age_2030,age_4050, use_continuity=True)\n",
    "u,p=u_result.statistic.round(3),u_result.pvalue.round(3)\n",
    "#Mann–Whitney U test의 u값 p값 출력\n",
    "print(\"Mann–Whitney U test\")\n",
    "print(\"u 검정통계량:{}\".format(u))\n",
    "print(\"p-value:{}\".format(p))\n",
    "### 귀무가설 기각\n",
    "### 두 집단의 구매 규모 사이에는 유의미한 차이가 있다. "
   ]
  },
  {
   "cell_type": "code",
   "execution_count": 119,
   "metadata": {},
   "outputs": [
    {
     "data": {
      "text/html": [
       "<div>\n",
       "<style scoped>\n",
       "    .dataframe tbody tr th:only-of-type {\n",
       "        vertical-align: middle;\n",
       "    }\n",
       "\n",
       "    .dataframe tbody tr th {\n",
       "        vertical-align: top;\n",
       "    }\n",
       "\n",
       "    .dataframe thead th {\n",
       "        text-align: right;\n",
       "    }\n",
       "</style>\n",
       "<table border=\"1\" class=\"dataframe\">\n",
       "  <thead>\n",
       "    <tr style=\"text-align: right;\">\n",
       "      <th></th>\n",
       "      <th>customer_id</th>\n",
       "      <th>purchase_hour</th>\n",
       "      <th>purchase_cnt</th>\n",
       "      <th>unit_cost</th>\n",
       "      <th>purchase_amt</th>\n",
       "      <th>age</th>\n",
       "      <th>taltoi_date</th>\n",
       "      <th>member_month</th>\n",
       "      <th>customer_grade</th>\n",
       "      <th>agegroup</th>\n",
       "    </tr>\n",
       "  </thead>\n",
       "  <tbody>\n",
       "    <tr>\n",
       "      <th>0</th>\n",
       "      <td>C613594</td>\n",
       "      <td>14</td>\n",
       "      <td>1</td>\n",
       "      <td>1000</td>\n",
       "      <td>1000</td>\n",
       "      <td>57</td>\n",
       "      <td>0.0</td>\n",
       "      <td>17</td>\n",
       "      <td>3Gold</td>\n",
       "      <td>50대</td>\n",
       "    </tr>\n",
       "    <tr>\n",
       "      <th>1</th>\n",
       "      <td>C463879</td>\n",
       "      <td>16</td>\n",
       "      <td>1</td>\n",
       "      <td>1300</td>\n",
       "      <td>1300</td>\n",
       "      <td>69</td>\n",
       "      <td>0.0</td>\n",
       "      <td>38</td>\n",
       "      <td>4Silver</td>\n",
       "      <td>60대</td>\n",
       "    </tr>\n",
       "    <tr>\n",
       "      <th>2</th>\n",
       "      <td>C489663</td>\n",
       "      <td>14</td>\n",
       "      <td>1</td>\n",
       "      <td>1300</td>\n",
       "      <td>1300</td>\n",
       "      <td>63</td>\n",
       "      <td>0.0</td>\n",
       "      <td>34</td>\n",
       "      <td>3Gold</td>\n",
       "      <td>60대</td>\n",
       "    </tr>\n",
       "    <tr>\n",
       "      <th>3</th>\n",
       "      <td>C553056</td>\n",
       "      <td>18</td>\n",
       "      <td>1</td>\n",
       "      <td>1300</td>\n",
       "      <td>1300</td>\n",
       "      <td>36</td>\n",
       "      <td>0.0</td>\n",
       "      <td>27</td>\n",
       "      <td>3Gold</td>\n",
       "      <td>30대</td>\n",
       "    </tr>\n",
       "    <tr>\n",
       "      <th>4</th>\n",
       "      <td>C431361</td>\n",
       "      <td>19</td>\n",
       "      <td>1</td>\n",
       "      <td>1300</td>\n",
       "      <td>1300</td>\n",
       "      <td>48</td>\n",
       "      <td>0.0</td>\n",
       "      <td>43</td>\n",
       "      <td>3Gold</td>\n",
       "      <td>40대</td>\n",
       "    </tr>\n",
       "  </tbody>\n",
       "</table>\n",
       "</div>"
      ],
      "text/plain": [
       "  customer_id  purchase_hour  purchase_cnt  unit_cost  purchase_amt  age  \\\n",
       "0     C613594             14             1       1000          1000   57   \n",
       "1     C463879             16             1       1300          1300   69   \n",
       "2     C489663             14             1       1300          1300   63   \n",
       "3     C553056             18             1       1300          1300   36   \n",
       "4     C431361             19             1       1300          1300   48   \n",
       "\n",
       "   taltoi_date  member_month customer_grade agegroup  \n",
       "0          0.0            17          3Gold      50대  \n",
       "1          0.0            38        4Silver      60대  \n",
       "2          0.0            34          3Gold      60대  \n",
       "3          0.0            27          3Gold      30대  \n",
       "4          0.0            43          3Gold      40대  "
      ]
     },
     "execution_count": 119,
     "metadata": {},
     "output_type": "execute_result"
    }
   ],
   "source": [
    "c.head()"
   ]
  },
  {
   "cell_type": "code",
   "execution_count": 123,
   "metadata": {},
   "outputs": [],
   "source": [
    "age_4050=c.loc[(c['agegroup']=='40대')|(c['agegroup']=='50대'),'purchase_amt'] \n",
    "age_2030=c.loc[(c['agegroup']=='20대')|(c['agegroup']=='30대'),'purchase_amt'] "
   ]
  },
  {
   "cell_type": "code",
   "execution_count": 124,
   "metadata": {},
   "outputs": [
    {
     "data": {
      "text/plain": [
       "0           1000\n",
       "4           1300\n",
       "5           1300\n",
       "8           1350\n",
       "9           1400\n",
       "          ...   \n",
       "2746     8120225\n",
       "2750    10889410\n",
       "2752    11582765\n",
       "2753    14069960\n",
       "2754    61662297\n",
       "Name: purchase_amt, Length: 1818, dtype: int64"
      ]
     },
     "execution_count": 124,
     "metadata": {},
     "output_type": "execute_result"
    }
   ],
   "source": [
    "np.sum(age_4050)"
   ]
  },
  {
   "cell_type": "code",
   "execution_count": 125,
   "metadata": {},
   "outputs": [
    {
     "data": {
      "text/plain": [
       "222860517"
      ]
     },
     "execution_count": 125,
     "metadata": {},
     "output_type": "execute_result"
    }
   ],
   "source": [
    "np.sum(age_2030)"
   ]
  },
  {
   "cell_type": "code",
   "execution_count": 128,
   "metadata": {},
   "outputs": [
    {
     "data": {
      "text/plain": [
       "Text(0, 0.5, '구매 총 금액(십억원)')"
      ]
     },
     "execution_count": 128,
     "metadata": {},
     "output_type": "execute_result"
    },
    {
     "data": {
      "image/png": "[encoded data removed]",
      "text/plain": [
       "<Figure size 432x288 with 1 Axes>"
      ]
     },
     "metadata": {
      "needs_background": "light"
     },
     "output_type": "display_data"
    }
   ],
   "source": [
    "sns.barplot(x=['20-30대','40-50대'],y=[np.sum(age_2030),np.sum(age_4050)])\n",
    "plt.title('나이대에 따른 구매 규모')\n",
    "plt.ylabel('구매 총 금액(십억원)')"
   ]
  },
  {
   "cell_type": "code",
   "execution_count": null,
   "metadata": {},
   "outputs": [],
   "source": []
  },
  {
   "cell_type": "code",
   "execution_count": 121,
   "metadata": {},
   "outputs": [
    {
     "name": "stdout",
     "output_type": "stream",
     "text": [
      "                       df        sum_sq       mean_sq           F  \\\n",
      "C(customer_grade)     3.0  1.069998e+08  3.566659e+07  131.856014   \n",
      "Residual           2751.0  7.441359e+08  2.704965e+05         NaN   \n",
      "\n",
      "                         PR(>F)  \n",
      "C(customer_grade)  8.258996e-80  \n",
      "Residual                    NaN  \n"
     ]
    }
   ],
   "source": [
    "from statsmodels.stats.anova import anova_lm\n",
    "from statsmodels.formula.api import ols\n",
    "lm=ols('purchase_cnt~C(customer_grade)',c).fit()\n",
    "print(anova_lm(lm))"
   ]
  },
  {
   "cell_type": "code",
   "execution_count": null,
   "metadata": {},
   "outputs": [],
   "source": []
  },
  {
   "cell_type": "code",
   "execution_count": null,
   "metadata": {},
   "outputs": [],
   "source": []
  },
  {
   "cell_type": "code",
   "execution_count": 146,
   "metadata": {},
   "outputs": [
    {
     "data": {
      "text/plain": [
       "<AxesSubplot:xlabel='customer_id', ylabel='purchase_amt'>"
      ]
     },
     "execution_count": 146,
     "metadata": {},
     "output_type": "execute_result"
    },
    {
     "data": {
      "image/png": "[encoded data removed]",
      "text/plain": [
       "<Figure size 1080x360 with 1 Axes>"
      ]
     },
     "metadata": {
      "needs_background": "light"
     },
     "output_type": "display_data"
    }
   ],
   "source": [
    "plt.rcParams['figure.figsize'] = [15,5]\n",
    "sns.barplot(x='customer_id',y='purchase_amt',hue='customer_grade',data=c)"
   ]
  },
  {
   "cell_type": "code",
   "execution_count": 162,
   "metadata": {},
   "outputs": [],
   "source": [
    "#휴면고객 등급별 회원수 / 활성 고객 등급별 회원수\n",
    "#[3,38,228,130]/[92,751,1541,371]"
   ]
  },
  {
   "cell_type": "code",
   "execution_count": 94,
   "metadata": {},
   "outputs": [],
   "source": [
    "df_p_j['purchase_year'] = list(map(lambda x: x[:4], df_p_j['purchase_yearmonth']))\n",
    "df_p_j['purchase_date'] = pd.to_datetime(df_p_j['purchase_date'])"
   ]
  },
  {
   "cell_type": "code",
   "execution_count": 12,
   "metadata": {},
   "outputs": [
    {
     "data": {
      "text/plain": [
       "559778.613430127"
      ]
     },
     "execution_count": 12,
     "metadata": {},
     "output_type": "execute_result"
    }
   ],
   "source": [
    "#객단가\n",
    "np.sum(df_p_j['purchase_amt'])/len(df_p_j.drop_duplicates(['customer_id']))"
   ]
  },
  {
   "cell_type": "code",
   "execution_count": 13,
   "metadata": {},
   "outputs": [],
   "source": [
    "#연령별 회원 수\n",
    "df_2018=df_p_j.loc[df_p_j['purchase_year']=='2018']\n",
    "df_2019=df_p_j.loc[df_p_j['purchase_year']=='2019']"
   ]
  },
  {
   "cell_type": "code",
   "execution_count": 91,
   "metadata": {},
   "outputs": [
    {
     "data": {
      "text/plain": [
       "40대    857\n",
       "50대    521\n",
       "30대    352\n",
       "60대    244\n",
       "70대     59\n",
       "80대     16\n",
       "20대      3\n",
       "Name: agegroup, dtype: int64"
      ]
     },
     "execution_count": 91,
     "metadata": {},
     "output_type": "execute_result"
    }
   ],
   "source": [
    "(df_2018.drop_duplicates('customer_id')['agegroup']).value_counts()"
   ]
  },
  {
   "cell_type": "code",
   "execution_count": 92,
   "metadata": {},
   "outputs": [
    {
     "data": {
      "text/plain": [
       "40대    966\n",
       "50대    589\n",
       "30대    461\n",
       "60대    268\n",
       "70대     63\n",
       "80대     12\n",
       "20대      2\n",
       "Name: agegroup, dtype: int64"
      ]
     },
     "execution_count": 92,
     "metadata": {},
     "output_type": "execute_result"
    }
   ],
   "source": [
    "(df_2019.drop_duplicates('customer_id')['agegroup']).value_counts()"
   ]
  },
  {
   "cell_type": "code",
   "execution_count": 22,
   "metadata": {},
   "outputs": [
    {
     "data": {
      "text/html": [
       "<div>\n",
       "<style scoped>\n",
       "    .dataframe tbody tr th:only-of-type {\n",
       "        vertical-align: middle;\n",
       "    }\n",
       "\n",
       "    .dataframe tbody tr th {\n",
       "        vertical-align: top;\n",
       "    }\n",
       "\n",
       "    .dataframe thead th {\n",
       "        text-align: right;\n",
       "    }\n",
       "</style>\n",
       "<table border=\"1\" class=\"dataframe\">\n",
       "  <thead>\n",
       "    <tr style=\"text-align: right;\">\n",
       "      <th></th>\n",
       "      <th>2018</th>\n",
       "      <th>2019</th>\n",
       "      <th>growth</th>\n",
       "    </tr>\n",
       "  </thead>\n",
       "  <tbody>\n",
       "    <tr>\n",
       "      <th>20대</th>\n",
       "      <td>46</td>\n",
       "      <td>108</td>\n",
       "      <td>134.782609</td>\n",
       "    </tr>\n",
       "    <tr>\n",
       "      <th>30대</th>\n",
       "      <td>24722</td>\n",
       "      <td>21819</td>\n",
       "      <td>-11.742577</td>\n",
       "    </tr>\n",
       "    <tr>\n",
       "      <th>40대</th>\n",
       "      <td>63020</td>\n",
       "      <td>45526</td>\n",
       "      <td>-27.759441</td>\n",
       "    </tr>\n",
       "    <tr>\n",
       "      <th>50대</th>\n",
       "      <td>38064</td>\n",
       "      <td>30222</td>\n",
       "      <td>-20.602144</td>\n",
       "    </tr>\n",
       "    <tr>\n",
       "      <th>60대</th>\n",
       "      <td>22647</td>\n",
       "      <td>17357</td>\n",
       "      <td>-23.358502</td>\n",
       "    </tr>\n",
       "    <tr>\n",
       "      <th>70대</th>\n",
       "      <td>4127</td>\n",
       "      <td>3195</td>\n",
       "      <td>-22.582990</td>\n",
       "    </tr>\n",
       "    <tr>\n",
       "      <th>80대</th>\n",
       "      <td>1407</td>\n",
       "      <td>1035</td>\n",
       "      <td>-26.439232</td>\n",
       "    </tr>\n",
       "  </tbody>\n",
       "</table>\n",
       "</div>"
      ],
      "text/plain": [
       "      2018   2019      growth\n",
       "20대     46    108  134.782609\n",
       "30대  24722  21819  -11.742577\n",
       "40대  63020  45526  -27.759441\n",
       "50대  38064  30222  -20.602144\n",
       "60대  22647  17357  -23.358502\n",
       "70대   4127   3195  -22.582990\n",
       "80대   1407   1035  -26.439232"
      ]
     },
     "execution_count": 22,
     "metadata": {},
     "output_type": "execute_result"
    }
   ],
   "source": [
    "df_1819=pd.DataFrame({'2018':list(df_2018['agegroup'].value_counts().sort_index()),'2019':list(df_2019['agegroup'].value_counts().sort_index())})\n",
    "df_1819.index = ['20대','30대','40대','50대','60대','70대','80대']\n",
    "df_1819['growth'] = (df_1819['2019']-df_1819['2018'])/df_1819['2018']*100\n",
    "df_1819"
   ]
  },
  {
   "cell_type": "code",
   "execution_count": 27,
   "metadata": {},
   "outputs": [
    {
     "data": {
      "text/plain": [
       "-0.22573734199814324"
      ]
     },
     "execution_count": 27,
     "metadata": {},
     "output_type": "execute_result"
    }
   ],
   "source": [
    "#18년 대비 19년도의 전체 회원 수 감소율\n",
    "(np.sum(df_1819['2019']) - np.sum(df_1819['2018'])) / np.sum(df_1819['2018'])"
   ]
  },
  {
   "cell_type": "code",
   "execution_count": 21,
   "metadata": {},
   "outputs": [
    {
     "data": {
      "text/plain": [
       "2.379032258064516"
      ]
     },
     "execution_count": 21,
     "metadata": {},
     "output_type": "execute_result"
    }
   ],
   "source": [
    "#1인당 1달 간 결제 빈도 평균\n",
    "np.sum(df_p_j.loc[df_p_j['purchase_date']>'2019-12-01'].drop_duplicates(['customer_id','purchase_date'])['customer_id'].value_counts())/992"
   ]
  },
  {
   "cell_type": "code",
   "execution_count": 56,
   "metadata": {},
   "outputs": [
    {
     "data": {
      "text/plain": [
       "1542190080"
      ]
     },
     "execution_count": 56,
     "metadata": {},
     "output_type": "execute_result"
    }
   ],
   "source": [
    "np.sum(df_p_j['purchase_amt'])"
   ]
  },
  {
   "cell_type": "code",
   "execution_count": 55,
   "metadata": {},
   "outputs": [
    {
     "data": {
      "text/plain": [
       "1060876560"
      ]
     },
     "execution_count": 55,
     "metadata": {},
     "output_type": "execute_result"
    }
   ],
   "source": [
    "df_rp = df_p_j.loc[(df_p_j['customer_grade']== '1Royal') | (df_p_j['customer_grade']== '2Platinum')]\n",
    "np.sum(df_rp['purchase_amt'])"
   ]
  },
  {
   "cell_type": "code",
   "execution_count": 62,
   "metadata": {},
   "outputs": [
    {
     "data": {
      "text/plain": [
       "Text(0, 0.5, '구매 금액(십억원)')"
      ]
     },
     "execution_count": 62,
     "metadata": {},
     "output_type": "execute_result"
    },
    {
     "data": {
      "image/png": "[encoded data removed]",
      "text/plain": [
       "<Figure size 432x288 with 1 Axes>"
      ]
     },
     "metadata": {
      "needs_background": "light"
     },
     "output_type": "display_data"
    }
   ],
   "source": [
    "\n",
    "sns.barplot(x=['1Royal 고객의 매출','전체고객의 매출'],y=[np.sum(df_rp['purchase_amt']),np.sum(df_p_j['purchase_amt'])])\n",
    "plt.xlabel('고객 구분')\n",
    "plt.ylabel('구매 금액(십억원)')\n"
   ]
  },
  {
   "cell_type": "code",
   "execution_count": 83,
   "metadata": {},
   "outputs": [
    {
     "data": {
      "text/plain": [
       "35.04043126684636"
      ]
     },
     "execution_count": 83,
     "metadata": {},
     "output_type": "execute_result"
    }
   ],
   "source": [
    "130/371*100"
   ]
  },
  {
   "cell_type": "code",
   "execution_count": 106,
   "metadata": {},
   "outputs": [
    {
     "data": {
      "text/plain": [
       "1542190080"
      ]
     },
     "execution_count": 106,
     "metadata": {},
     "output_type": "execute_result"
    }
   ],
   "source": [
    "np.sum(df_sales['purchase_amt'])"
   ]
  },
  {
   "cell_type": "code",
   "execution_count": 11,
   "metadata": {},
   "outputs": [
    {
     "data": {
      "text/html": [
       "<div>\n",
       "<style scoped>\n",
       "    .dataframe tbody tr th:only-of-type {\n",
       "        vertical-align: middle;\n",
       "    }\n",
       "\n",
       "    .dataframe tbody tr th {\n",
       "        vertical-align: top;\n",
       "    }\n",
       "\n",
       "    .dataframe thead th {\n",
       "        text-align: right;\n",
       "    }\n",
       "</style>\n",
       "<table border=\"1\" class=\"dataframe\">\n",
       "  <thead>\n",
       "    <tr style=\"text-align: right;\">\n",
       "      <th></th>\n",
       "      <th>customer_id</th>\n",
       "      <th>birth_date</th>\n",
       "      <th>gender</th>\n",
       "      <th>age</th>\n",
       "      <th>agegroup</th>\n",
       "      <th>customer_type</th>\n",
       "      <th>customer_grade</th>\n",
       "      <th>gaip_date</th>\n",
       "      <th>taltoi_date</th>\n",
       "      <th>member_month</th>\n",
       "      <th>gaip_path</th>\n",
       "      <th>flag_member</th>\n",
       "      <th>flag_rcv_sms</th>\n",
       "      <th>flag_rcv_email</th>\n",
       "      <th>flag_rcv_post</th>\n",
       "      <th>zipcode</th>\n",
       "      <th>sigun</th>\n",
       "      <th>dong</th>\n",
       "      <th>ri</th>\n",
       "      <th>address</th>\n",
       "    </tr>\n",
       "  </thead>\n",
       "  <tbody>\n",
       "    <tr>\n",
       "      <th>0</th>\n",
       "      <td>C102666</td>\n",
       "      <td>1976-11-08</td>\n",
       "      <td>남</td>\n",
       "      <td>44</td>\n",
       "      <td>40대</td>\n",
       "      <td>일반</td>\n",
       "      <td>3Gold</td>\n",
       "      <td>2014-10-07</td>\n",
       "      <td>NaN</td>\n",
       "      <td>63</td>\n",
       "      <td>매장</td>\n",
       "      <td>Y</td>\n",
       "      <td>Y</td>\n",
       "      <td>Y</td>\n",
       "      <td>Y</td>\n",
       "      <td>690-170</td>\n",
       "      <td>제주시</td>\n",
       "      <td>연동</td>\n",
       "      <td>NaN</td>\n",
       "      <td>제주 제주시 연동</td>\n",
       "    </tr>\n",
       "    <tr>\n",
       "      <th>1</th>\n",
       "      <td>C118278</td>\n",
       "      <td>1979-06-22</td>\n",
       "      <td>여</td>\n",
       "      <td>41</td>\n",
       "      <td>40대</td>\n",
       "      <td>일반</td>\n",
       "      <td>3Gold</td>\n",
       "      <td>2011-12-11</td>\n",
       "      <td>NaN</td>\n",
       "      <td>97</td>\n",
       "      <td>인터넷</td>\n",
       "      <td>Y</td>\n",
       "      <td>Y</td>\n",
       "      <td>Y</td>\n",
       "      <td>Y</td>\n",
       "      <td>695-791</td>\n",
       "      <td>제주시</td>\n",
       "      <td>애월읍</td>\n",
       "      <td>광령2리</td>\n",
       "      <td>제주 제주시 애월읍 광령2리 제주관광대학</td>\n",
       "    </tr>\n",
       "    <tr>\n",
       "      <th>2</th>\n",
       "      <td>C118290</td>\n",
       "      <td>1963-10-17</td>\n",
       "      <td>여</td>\n",
       "      <td>57</td>\n",
       "      <td>50대</td>\n",
       "      <td>일반</td>\n",
       "      <td>3Gold</td>\n",
       "      <td>2011-12-11</td>\n",
       "      <td>NaN</td>\n",
       "      <td>97</td>\n",
       "      <td>매장</td>\n",
       "      <td>Y</td>\n",
       "      <td>Y</td>\n",
       "      <td>Y</td>\n",
       "      <td>Y</td>\n",
       "      <td>690-162</td>\n",
       "      <td>제주시</td>\n",
       "      <td>오라2동</td>\n",
       "      <td>NaN</td>\n",
       "      <td>제주 제주시 오라2동</td>\n",
       "    </tr>\n",
       "    <tr>\n",
       "      <th>3</th>\n",
       "      <td>C118292</td>\n",
       "      <td>1953-02-05</td>\n",
       "      <td>여</td>\n",
       "      <td>67</td>\n",
       "      <td>60대</td>\n",
       "      <td>일반</td>\n",
       "      <td>4Silver</td>\n",
       "      <td>2011-12-11</td>\n",
       "      <td>NaN</td>\n",
       "      <td>97</td>\n",
       "      <td>기타</td>\n",
       "      <td>Y</td>\n",
       "      <td>Y</td>\n",
       "      <td>N</td>\n",
       "      <td>Y</td>\n",
       "      <td>697-835</td>\n",
       "      <td>서귀포시</td>\n",
       "      <td>동홍동</td>\n",
       "      <td>119~434</td>\n",
       "      <td>제주 서귀포시 동홍동 119~434</td>\n",
       "    </tr>\n",
       "    <tr>\n",
       "      <th>4</th>\n",
       "      <td>C118529</td>\n",
       "      <td>1973-10-12</td>\n",
       "      <td>남</td>\n",
       "      <td>47</td>\n",
       "      <td>40대</td>\n",
       "      <td>일반</td>\n",
       "      <td>4Silver</td>\n",
       "      <td>2011-12-14</td>\n",
       "      <td>NaN</td>\n",
       "      <td>97</td>\n",
       "      <td>기타</td>\n",
       "      <td>Y</td>\n",
       "      <td>Y</td>\n",
       "      <td>Y</td>\n",
       "      <td>Y</td>\n",
       "      <td>690-817</td>\n",
       "      <td>제주시</td>\n",
       "      <td>연동</td>\n",
       "      <td>1111~1905</td>\n",
       "      <td>제주 제주시 연동 1111~1905</td>\n",
       "    </tr>\n",
       "  </tbody>\n",
       "</table>\n",
       "</div>"
      ],
      "text/plain": [
       "  customer_id  birth_date gender  age agegroup customer_type customer_grade  \\\n",
       "0     C102666  1976-11-08      남   44      40대            일반          3Gold   \n",
       "1     C118278  1979-06-22      여   41      40대            일반          3Gold   \n",
       "2     C118290  1963-10-17      여   57      50대            일반          3Gold   \n",
       "3     C118292  1953-02-05      여   67      60대            일반        4Silver   \n",
       "4     C118529  1973-10-12      남   47      40대            일반        4Silver   \n",
       "\n",
       "    gaip_date  taltoi_date  member_month gaip_path flag_member flag_rcv_sms  \\\n",
       "0  2014-10-07          NaN            63        매장           Y            Y   \n",
       "1  2011-12-11          NaN            97       인터넷           Y            Y   \n",
       "2  2011-12-11          NaN            97        매장           Y            Y   \n",
       "3  2011-12-11          NaN            97        기타           Y            Y   \n",
       "4  2011-12-14          NaN            97        기타           Y            Y   \n",
       "\n",
       "  flag_rcv_email flag_rcv_post  zipcode sigun  dong         ri  \\\n",
       "0              Y             Y  690-170   제주시    연동        NaN   \n",
       "1              Y             Y  695-791   제주시   애월읍       광령2리   \n",
       "2              Y             Y  690-162   제주시  오라2동        NaN   \n",
       "3              N             Y  697-835  서귀포시   동홍동    119~434   \n",
       "4              Y             Y  690-817   제주시    연동  1111~1905   \n",
       "\n",
       "                  address  \n",
       "0               제주 제주시 연동  \n",
       "1  제주 제주시 애월읍 광령2리 제주관광대학  \n",
       "2             제주 제주시 오라2동  \n",
       "3     제주 서귀포시 동홍동 119~434  \n",
       "4     제주 제주시 연동 1111~1905  "
      ]
     },
     "execution_count": 11,
     "metadata": {},
     "output_type": "execute_result"
    }
   ],
   "source": [
    "df_act=pd.read_csv('jeju_sleep.csv')\n",
    "df_act=df_act.drop('Unnamed: 0',axis=1)\n",
    "df_act.head()"
   ]
  },
  {
   "cell_type": "code",
   "execution_count": 17,
   "metadata": {},
   "outputs": [
    {
     "data": {
      "text/html": [
       "<div>\n",
       "<style scoped>\n",
       "    .dataframe tbody tr th:only-of-type {\n",
       "        vertical-align: middle;\n",
       "    }\n",
       "\n",
       "    .dataframe tbody tr th {\n",
       "        vertical-align: top;\n",
       "    }\n",
       "\n",
       "    .dataframe thead th {\n",
       "        text-align: right;\n",
       "    }\n",
       "</style>\n",
       "<table border=\"1\" class=\"dataframe\">\n",
       "  <thead>\n",
       "    <tr style=\"text-align: right;\">\n",
       "      <th></th>\n",
       "      <th>Unnamed: 0</th>\n",
       "      <th>customer_id</th>\n",
       "      <th>birth_date</th>\n",
       "      <th>gender</th>\n",
       "      <th>age</th>\n",
       "      <th>agegroup</th>\n",
       "      <th>customer_type</th>\n",
       "      <th>customer_grade</th>\n",
       "      <th>gaip_date</th>\n",
       "      <th>taltoi_date</th>\n",
       "      <th>...</th>\n",
       "      <th>flag_member</th>\n",
       "      <th>flag_rcv_sms</th>\n",
       "      <th>flag_rcv_email</th>\n",
       "      <th>flag_rcv_post</th>\n",
       "      <th>zipcode</th>\n",
       "      <th>sigun</th>\n",
       "      <th>dong</th>\n",
       "      <th>ri</th>\n",
       "      <th>address</th>\n",
       "      <th>ASD</th>\n",
       "    </tr>\n",
       "  </thead>\n",
       "  <tbody>\n",
       "    <tr>\n",
       "      <th>0</th>\n",
       "      <td>0</td>\n",
       "      <td>C102666</td>\n",
       "      <td>1976-11-08</td>\n",
       "      <td>남</td>\n",
       "      <td>44</td>\n",
       "      <td>40대</td>\n",
       "      <td>일반</td>\n",
       "      <td>3Gold</td>\n",
       "      <td>2014-10-07</td>\n",
       "      <td>NaN</td>\n",
       "      <td>...</td>\n",
       "      <td>Y</td>\n",
       "      <td>Y</td>\n",
       "      <td>Y</td>\n",
       "      <td>Y</td>\n",
       "      <td>690-170</td>\n",
       "      <td>제주시</td>\n",
       "      <td>연동</td>\n",
       "      <td>NaN</td>\n",
       "      <td>제주 제주시 연동</td>\n",
       "      <td>D</td>\n",
       "    </tr>\n",
       "    <tr>\n",
       "      <th>1</th>\n",
       "      <td>1</td>\n",
       "      <td>C118113</td>\n",
       "      <td>1975-08-18</td>\n",
       "      <td>여</td>\n",
       "      <td>45</td>\n",
       "      <td>40대</td>\n",
       "      <td>일반</td>\n",
       "      <td>3Gold</td>\n",
       "      <td>2011-12-06</td>\n",
       "      <td>NaN</td>\n",
       "      <td>...</td>\n",
       "      <td>Y</td>\n",
       "      <td>Y</td>\n",
       "      <td>Y</td>\n",
       "      <td>Y</td>\n",
       "      <td>690-122</td>\n",
       "      <td>제주시</td>\n",
       "      <td>아라2동</td>\n",
       "      <td>NaN</td>\n",
       "      <td>제주 제주시 아라2동</td>\n",
       "      <td>S</td>\n",
       "    </tr>\n",
       "    <tr>\n",
       "      <th>2</th>\n",
       "      <td>2</td>\n",
       "      <td>C118278</td>\n",
       "      <td>1979-06-22</td>\n",
       "      <td>여</td>\n",
       "      <td>41</td>\n",
       "      <td>40대</td>\n",
       "      <td>일반</td>\n",
       "      <td>3Gold</td>\n",
       "      <td>2011-12-11</td>\n",
       "      <td>NaN</td>\n",
       "      <td>...</td>\n",
       "      <td>Y</td>\n",
       "      <td>Y</td>\n",
       "      <td>Y</td>\n",
       "      <td>Y</td>\n",
       "      <td>695-791</td>\n",
       "      <td>제주시</td>\n",
       "      <td>애월읍</td>\n",
       "      <td>광령2리</td>\n",
       "      <td>제주 제주시 애월읍 광령2리 제주관광대학</td>\n",
       "      <td>D</td>\n",
       "    </tr>\n",
       "    <tr>\n",
       "      <th>3</th>\n",
       "      <td>3</td>\n",
       "      <td>C118290</td>\n",
       "      <td>1963-10-17</td>\n",
       "      <td>여</td>\n",
       "      <td>57</td>\n",
       "      <td>50대</td>\n",
       "      <td>일반</td>\n",
       "      <td>3Gold</td>\n",
       "      <td>2011-12-11</td>\n",
       "      <td>NaN</td>\n",
       "      <td>...</td>\n",
       "      <td>Y</td>\n",
       "      <td>Y</td>\n",
       "      <td>Y</td>\n",
       "      <td>Y</td>\n",
       "      <td>690-162</td>\n",
       "      <td>제주시</td>\n",
       "      <td>오라2동</td>\n",
       "      <td>NaN</td>\n",
       "      <td>제주 제주시 오라2동</td>\n",
       "      <td>D</td>\n",
       "    </tr>\n",
       "    <tr>\n",
       "      <th>4</th>\n",
       "      <td>4</td>\n",
       "      <td>C118291</td>\n",
       "      <td>1962-07-19</td>\n",
       "      <td>여</td>\n",
       "      <td>58</td>\n",
       "      <td>50대</td>\n",
       "      <td>일반</td>\n",
       "      <td>1Royal</td>\n",
       "      <td>2011-12-11</td>\n",
       "      <td>NaN</td>\n",
       "      <td>...</td>\n",
       "      <td>Y</td>\n",
       "      <td>Y</td>\n",
       "      <td>N</td>\n",
       "      <td>Y</td>\n",
       "      <td>690-760</td>\n",
       "      <td>제주시</td>\n",
       "      <td>노형동</td>\n",
       "      <td>부영아파트</td>\n",
       "      <td>제주 제주시 노형동 부영아파트</td>\n",
       "      <td>A</td>\n",
       "    </tr>\n",
       "  </tbody>\n",
       "</table>\n",
       "<p>5 rows × 22 columns</p>\n",
       "</div>"
      ],
      "text/plain": [
       "   Unnamed: 0 customer_id  birth_date gender  age agegroup customer_type  \\\n",
       "0           0     C102666  1976-11-08      남   44      40대            일반   \n",
       "1           1     C118113  1975-08-18      여   45      40대            일반   \n",
       "2           2     C118278  1979-06-22      여   41      40대            일반   \n",
       "3           3     C118290  1963-10-17      여   57      50대            일반   \n",
       "4           4     C118291  1962-07-19      여   58      50대            일반   \n",
       "\n",
       "  customer_grade   gaip_date  taltoi_date  ...  flag_member flag_rcv_sms  \\\n",
       "0          3Gold  2014-10-07          NaN  ...            Y            Y   \n",
       "1          3Gold  2011-12-06          NaN  ...            Y            Y   \n",
       "2          3Gold  2011-12-11          NaN  ...            Y            Y   \n",
       "3          3Gold  2011-12-11          NaN  ...            Y            Y   \n",
       "4         1Royal  2011-12-11          NaN  ...            Y            Y   \n",
       "\n",
       "  flag_rcv_email flag_rcv_post  zipcode sigun  dong     ri  \\\n",
       "0              Y             Y  690-170   제주시    연동    NaN   \n",
       "1              Y             Y  690-122   제주시  아라2동    NaN   \n",
       "2              Y             Y  695-791   제주시   애월읍   광령2리   \n",
       "3              Y             Y  690-162   제주시  오라2동    NaN   \n",
       "4              N             Y  690-760   제주시   노형동  부영아파트   \n",
       "\n",
       "                  address ASD  \n",
       "0               제주 제주시 연동   D  \n",
       "1             제주 제주시 아라2동   S  \n",
       "2  제주 제주시 애월읍 광령2리 제주관광대학   D  \n",
       "3             제주 제주시 오라2동   D  \n",
       "4        제주 제주시 노형동 부영아파트   A  \n",
       "\n",
       "[5 rows x 22 columns]"
      ]
     },
     "execution_count": 17,
     "metadata": {},
     "output_type": "execute_result"
    }
   ],
   "source": [
    "df_act=pd.read_csv('jeju_ASD.csv')\n",
    "df_act = df_act.drop('Unnamed: 0',axis=1)"
   ]
  },
  {
   "cell_type": "code",
   "execution_count": 28,
   "metadata": {},
   "outputs": [
    {
     "data": {
      "text/plain": [
       "2624"
      ]
     },
     "execution_count": 28,
     "metadata": {},
     "output_type": "execute_result"
    }
   ],
   "source": [
    "len(df_act[df_act['ASD']=='D'])"
   ]
  },
  {
   "cell_type": "code",
   "execution_count": 22,
   "metadata": {},
   "outputs": [],
   "source": [
    "df_merge=pd.merge(df_act,df_sales,how='right',left_on='customer_id',right_on='customer_id')\n",
    "df_merge = df_merge.drop('Unnamed: 0',axis=1)"
   ]
  },
  {
   "cell_type": "code",
   "execution_count": 24,
   "metadata": {},
   "outputs": [],
   "source": [
    "df_sleep=df_merge[df_merge['ASD']=='S']\n",
    "df_active=df_merge[df_merge['ASD']=='A']"
   ]
  },
  {
   "cell_type": "code",
   "execution_count": 53,
   "metadata": {},
   "outputs": [],
   "source": [
    "df_sleep_agegroup=df_sleep['agegroup'].value_counts().reset_index()"
   ]
  },
  {
   "cell_type": "code",
   "execution_count": 63,
   "metadata": {},
   "outputs": [],
   "source": [
    "df_sleep_agegroup['pct'] = (df_sleep_agegroup['agegroup']/np.sum(df_sleep_agegroup['agegroup'])*100).round(2)"
   ]
  },
  {
   "cell_type": "code",
   "execution_count": 67,
   "metadata": {},
   "outputs": [],
   "source": [
    "df_deep=df_act[df_act['ASD']=='D'].drop('Unnamed: 0',axis=1)"
   ]
  },
  {
   "cell_type": "code",
   "execution_count": 93,
   "metadata": {},
   "outputs": [],
   "source": [
    "df_hyumyun=pd.merge(df_deep['agegroup'].value_counts(),df_sleep['agegroup'].value_counts(),left_index=True,right_index=True)\n",
    "n_hyumyun=(np.sum(df_hyumyun['agegroup_x'])+np.sum(df_hyumyun['agegroup_y']))\n",
    "df_hyumyun['pct']=((df_hyumyun['agegroup_x']+df_hyumyun['agegroup_y'])/n_hyumyun*100).round(2)\n",
    "df_hyumyun.columns=['최근 2년 이상 미구매 고객','최근 1년간 미구매고객','pct']"
   ]
  },
  {
   "cell_type": "code",
   "execution_count": 95,
   "metadata": {},
   "outputs": [],
   "source": [
    "df_hyumyun['total']=df_hyumyun['최근 2년 이상 미구매 고객']+df_hyumyun['최근 1년간 미구매고객']"
   ]
  },
  {
   "cell_type": "code",
   "execution_count": 96,
   "metadata": {},
   "outputs": [
    {
     "data": {
      "text/html": [
       "<div>\n",
       "<style scoped>\n",
       "    .dataframe tbody tr th:only-of-type {\n",
       "        vertical-align: middle;\n",
       "    }\n",
       "\n",
       "    .dataframe tbody tr th {\n",
       "        vertical-align: top;\n",
       "    }\n",
       "\n",
       "    .dataframe thead th {\n",
       "        text-align: right;\n",
       "    }\n",
       "</style>\n",
       "<table border=\"1\" class=\"dataframe\">\n",
       "  <thead>\n",
       "    <tr style=\"text-align: right;\">\n",
       "      <th></th>\n",
       "      <th>최근 2년 이상 미구매 고객</th>\n",
       "      <th>최근 1년간 미구매고객</th>\n",
       "      <th>pct</th>\n",
       "      <th>total</th>\n",
       "    </tr>\n",
       "  </thead>\n",
       "  <tbody>\n",
       "    <tr>\n",
       "      <th>40대</th>\n",
       "      <td>1124</td>\n",
       "      <td>2115</td>\n",
       "      <td>49.31</td>\n",
       "      <td>3239</td>\n",
       "    </tr>\n",
       "    <tr>\n",
       "      <th>50대</th>\n",
       "      <td>622</td>\n",
       "      <td>665</td>\n",
       "      <td>19.59</td>\n",
       "      <td>1287</td>\n",
       "    </tr>\n",
       "    <tr>\n",
       "      <th>30대</th>\n",
       "      <td>553</td>\n",
       "      <td>561</td>\n",
       "      <td>16.96</td>\n",
       "      <td>1114</td>\n",
       "    </tr>\n",
       "    <tr>\n",
       "      <th>60대</th>\n",
       "      <td>243</td>\n",
       "      <td>531</td>\n",
       "      <td>11.78</td>\n",
       "      <td>774</td>\n",
       "    </tr>\n",
       "    <tr>\n",
       "      <th>70대</th>\n",
       "      <td>57</td>\n",
       "      <td>21</td>\n",
       "      <td>1.19</td>\n",
       "      <td>78</td>\n",
       "    </tr>\n",
       "    <tr>\n",
       "      <th>80대</th>\n",
       "      <td>13</td>\n",
       "      <td>31</td>\n",
       "      <td>0.67</td>\n",
       "      <td>44</td>\n",
       "    </tr>\n",
       "    <tr>\n",
       "      <th>20대</th>\n",
       "      <td>12</td>\n",
       "      <td>21</td>\n",
       "      <td>0.50</td>\n",
       "      <td>33</td>\n",
       "    </tr>\n",
       "  </tbody>\n",
       "</table>\n",
       "</div>"
      ],
      "text/plain": [
       "     최근 2년 이상 미구매 고객  최근 1년간 미구매고객    pct  total\n",
       "40대             1124          2115  49.31   3239\n",
       "50대              622           665  19.59   1287\n",
       "30대              553           561  16.96   1114\n",
       "60대              243           531  11.78    774\n",
       "70대               57            21   1.19     78\n",
       "80대               13            31   0.67     44\n",
       "20대               12            21   0.50     33"
      ]
     },
     "execution_count": 96,
     "metadata": {},
     "output_type": "execute_result"
    }
   ],
   "source": [
    "df_hyumyun\n"
   ]
  },
  {
   "cell_type": "code",
   "execution_count": 97,
   "metadata": {},
   "outputs": [
    {
     "data": {
      "text/plain": [
       "Text(0.5, 1.0, '나이대별 휴면 고객 수')"
      ]
     },
     "execution_count": 97,
     "metadata": {},
     "output_type": "execute_result"
    },
    {
     "data": {
      "image/png": "[encoded data removed]",
      "text/plain": [
       "<Figure size 432x288 with 1 Axes>"
      ]
     },
     "metadata": {
      "needs_background": "light"
     },
     "output_type": "display_data"
    }
   ],
   "source": [
    "sns.barplot(x=df_hyumyun.index,y=df_hyumyun['total'])\n",
    "plt.xlabel('나이대')\n",
    "plt.ylabel('고객 수(명)')\n",
    "plt.title('나이대별 휴면 고객 수')"
   ]
  },
  {
   "cell_type": "code",
   "execution_count": 34,
   "metadata": {},
   "outputs": [
    {
     "data": {
      "text/plain": [
       "6922.945659377071"
      ]
     },
     "execution_count": 34,
     "metadata": {},
     "output_type": "execute_result"
    }
   ],
   "source": [
    "sleep_spent = np.sum(df_sleep['purchase_amt'])/(len(df_act[df_act['ASD']=='S'])+len(df_act[df_act['ASD']=='D']))\n",
    "sleep_spent"
   ]
  },
  {
   "cell_type": "code",
   "execution_count": 36,
   "metadata": {},
   "outputs": [
    {
     "data": {
      "text/plain": [
       "644344.1889030072"
      ]
     },
     "execution_count": 36,
     "metadata": {},
     "output_type": "execute_result"
    }
   ],
   "source": [
    "active_spent=np.sum(df_active['purchase_amt'])/len(df_act[df_act['ASD']=='A'])\n",
    "active_spent"
   ]
  },
  {
   "cell_type": "code",
   "execution_count": 100,
   "metadata": {},
   "outputs": [
    {
     "data": {
      "text/plain": [
       "Text(0, 0.5, '객단가(원)')"
      ]
     },
     "execution_count": 100,
     "metadata": {},
     "output_type": "execute_result"
    },
    {
     "data": {
      "image/png": "[encoded data removed]",
      "text/plain": [
       "<Figure size 432x288 with 1 Axes>"
      ]
     },
     "metadata": {
      "needs_background": "light"
     },
     "output_type": "display_data"
    }
   ],
   "source": [
    "sns.barplot(x=['휴면 고객','최근 1년간 구매 고객'],y=[sleep_spent,active_spent])\n",
    "plt.title('휴면 고객과 최근 1년간 구매 고객의 객단가 비교 ')\n",
    "plt.xlabel('고객 구분')\n",
    "plt.ylabel('객단가(원)')"
   ]
  },
  {
   "cell_type": "code",
   "execution_count": null,
   "metadata": {},
   "outputs": [],
   "source": []
  }
 ],
 "metadata": {
  "kernelspec": {
   "display_name": "Python 3",
   "language": "python",
   "name": "python3"
  },
  "language_info": {
   "codemirror_mode": {
    "name": "ipython",
    "version": 3
   },
   "file_extension": ".py",
   "mimetype": "text/x-python",
   "name": "python",
   "nbconvert_exporter": "python",
   "pygments_lexer": "ipython3",
   "version": "3.8.5"
  }
 },
 "nbformat": 4,
 "nbformat_minor": 4
}
