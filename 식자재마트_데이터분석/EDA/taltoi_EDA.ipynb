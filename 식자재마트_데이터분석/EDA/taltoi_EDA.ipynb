{
 "cells": [
  {
   "cell_type": "code",
   "execution_count": 21,
   "metadata": {},
   "outputs": [],
   "source": [
    "# 데이터 구성: Series, DataFrame\n",
    "import pandas as pd\n",
    "import numpy as np\n",
    "# 데이터 시각화\n",
    "import matplotlib.pyplot as plt\n",
    "import seaborn as sns\n",
    "\n",
    "# jupyter notebook 사용시 그래프 자동 출력 옵션\n",
    "%matplotlib inline\n",
    "\n",
    "# 주성분 분석\n",
    "from sklearn.decomposition import PCA\n",
    "import statsmodels.api as sm\n",
    "# Scale 변환 -> 표준화 회귀계수 산출\n",
    "from sklearn.preprocessing import StandardScaler\n"
   ]
  },
  {
   "cell_type": "code",
   "execution_count": 2,
   "metadata": {},
   "outputs": [],
   "source": [
    "#matplotlib 패키지 한글 깨짐 처리\n",
    "plt.rcParams['font.family']='NanumGothic'\n",
    "plt.rc('font', family='NanumGothic')"
   ]
  },
  {
   "cell_type": "markdown",
   "metadata": {},
   "source": [
    "#### 데이터 속성 및 기술통계량 확인"
   ]
  },
  {
   "cell_type": "code",
   "execution_count": 3,
   "metadata": {},
   "outputs": [],
   "source": [
    "# 멤버 데이터 불러오기\n",
    "df_member = pd.read_csv(\"jeju_member.csv\", parse_dates=[\"gaip_date\", \"taltoi_date\"])"
   ]
  },
  {
   "cell_type": "code",
   "execution_count": 4,
   "metadata": {},
   "outputs": [
    {
     "data": {
      "text/html": [
       "<div>\n",
       "<style scoped>\n",
       "    .dataframe tbody tr th:only-of-type {\n",
       "        vertical-align: middle;\n",
       "    }\n",
       "\n",
       "    .dataframe tbody tr th {\n",
       "        vertical-align: top;\n",
       "    }\n",
       "\n",
       "    .dataframe thead th {\n",
       "        text-align: right;\n",
       "    }\n",
       "</style>\n",
       "<table border=\"1\" class=\"dataframe\">\n",
       "  <thead>\n",
       "    <tr style=\"text-align: right;\">\n",
       "      <th></th>\n",
       "      <th>customer_id</th>\n",
       "      <th>birth_date</th>\n",
       "      <th>gender</th>\n",
       "      <th>age</th>\n",
       "      <th>agegroup</th>\n",
       "      <th>customer_type</th>\n",
       "      <th>customer_grade</th>\n",
       "      <th>gaip_date</th>\n",
       "      <th>taltoi_date</th>\n",
       "      <th>member_month</th>\n",
       "      <th>gaip_path</th>\n",
       "      <th>flag_member</th>\n",
       "      <th>flag_rcv_sms</th>\n",
       "      <th>flag_rcv_email</th>\n",
       "      <th>flag_rcv_post</th>\n",
       "      <th>zipcode</th>\n",
       "      <th>sigun</th>\n",
       "      <th>dong</th>\n",
       "      <th>ri</th>\n",
       "      <th>address</th>\n",
       "    </tr>\n",
       "  </thead>\n",
       "  <tbody>\n",
       "    <tr>\n",
       "      <th>0</th>\n",
       "      <td>C102666</td>\n",
       "      <td>1976-11-08</td>\n",
       "      <td>남</td>\n",
       "      <td>44</td>\n",
       "      <td>40대</td>\n",
       "      <td>일반</td>\n",
       "      <td>3Gold</td>\n",
       "      <td>2014-10-07</td>\n",
       "      <td>NaT</td>\n",
       "      <td>63</td>\n",
       "      <td>매장</td>\n",
       "      <td>Y</td>\n",
       "      <td>Y</td>\n",
       "      <td>Y</td>\n",
       "      <td>Y</td>\n",
       "      <td>690-170</td>\n",
       "      <td>제주시</td>\n",
       "      <td>연동</td>\n",
       "      <td>NaN</td>\n",
       "      <td>제주 제주시 연동</td>\n",
       "    </tr>\n",
       "    <tr>\n",
       "      <th>1</th>\n",
       "      <td>C118113</td>\n",
       "      <td>1975-08-18</td>\n",
       "      <td>여</td>\n",
       "      <td>45</td>\n",
       "      <td>40대</td>\n",
       "      <td>일반</td>\n",
       "      <td>3Gold</td>\n",
       "      <td>2011-12-06</td>\n",
       "      <td>NaT</td>\n",
       "      <td>97</td>\n",
       "      <td>기타</td>\n",
       "      <td>Y</td>\n",
       "      <td>Y</td>\n",
       "      <td>Y</td>\n",
       "      <td>Y</td>\n",
       "      <td>690-122</td>\n",
       "      <td>제주시</td>\n",
       "      <td>아라2동</td>\n",
       "      <td>NaN</td>\n",
       "      <td>제주 제주시 아라2동</td>\n",
       "    </tr>\n",
       "    <tr>\n",
       "      <th>2</th>\n",
       "      <td>C118133</td>\n",
       "      <td>1981-03-20</td>\n",
       "      <td>남</td>\n",
       "      <td>39</td>\n",
       "      <td>30대</td>\n",
       "      <td>일반</td>\n",
       "      <td>4Silver</td>\n",
       "      <td>2011-12-07</td>\n",
       "      <td>2014-04-02</td>\n",
       "      <td>28</td>\n",
       "      <td>매장</td>\n",
       "      <td>N</td>\n",
       "      <td>Y</td>\n",
       "      <td>Y</td>\n",
       "      <td>N</td>\n",
       "      <td>699-900</td>\n",
       "      <td>서귀포시</td>\n",
       "      <td>성산읍</td>\n",
       "      <td>NaN</td>\n",
       "      <td>제주 서귀포시 성산읍</td>\n",
       "    </tr>\n",
       "    <tr>\n",
       "      <th>3</th>\n",
       "      <td>C118278</td>\n",
       "      <td>1979-06-22</td>\n",
       "      <td>여</td>\n",
       "      <td>41</td>\n",
       "      <td>40대</td>\n",
       "      <td>일반</td>\n",
       "      <td>3Gold</td>\n",
       "      <td>2011-12-11</td>\n",
       "      <td>NaT</td>\n",
       "      <td>97</td>\n",
       "      <td>인터넷</td>\n",
       "      <td>Y</td>\n",
       "      <td>Y</td>\n",
       "      <td>Y</td>\n",
       "      <td>Y</td>\n",
       "      <td>695-791</td>\n",
       "      <td>제주시</td>\n",
       "      <td>애월읍</td>\n",
       "      <td>광령2리</td>\n",
       "      <td>제주 제주시 애월읍 광령2리 제주관광대학</td>\n",
       "    </tr>\n",
       "    <tr>\n",
       "      <th>4</th>\n",
       "      <td>C118280</td>\n",
       "      <td>1959-08-28</td>\n",
       "      <td>남</td>\n",
       "      <td>61</td>\n",
       "      <td>60대</td>\n",
       "      <td>일반</td>\n",
       "      <td>3Gold</td>\n",
       "      <td>2011-12-11</td>\n",
       "      <td>2016-05-02</td>\n",
       "      <td>53</td>\n",
       "      <td>기타</td>\n",
       "      <td>N</td>\n",
       "      <td>N</td>\n",
       "      <td>N</td>\n",
       "      <td>N</td>\n",
       "      <td>699-905</td>\n",
       "      <td>서귀포시</td>\n",
       "      <td>성산읍</td>\n",
       "      <td>삼달리</td>\n",
       "      <td>제주 서귀포시 성산읍 삼달리</td>\n",
       "    </tr>\n",
       "  </tbody>\n",
       "</table>\n",
       "</div>"
      ],
      "text/plain": [
       "  customer_id  birth_date gender  age agegroup customer_type customer_grade  \\\n",
       "0     C102666  1976-11-08      남   44      40대            일반          3Gold   \n",
       "1     C118113  1975-08-18      여   45      40대            일반          3Gold   \n",
       "2     C118133  1981-03-20      남   39      30대            일반        4Silver   \n",
       "3     C118278  1979-06-22      여   41      40대            일반          3Gold   \n",
       "4     C118280  1959-08-28      남   61      60대            일반          3Gold   \n",
       "\n",
       "   gaip_date taltoi_date  member_month gaip_path flag_member flag_rcv_sms  \\\n",
       "0 2014-10-07         NaT            63        매장           Y            Y   \n",
       "1 2011-12-06         NaT            97        기타           Y            Y   \n",
       "2 2011-12-07  2014-04-02            28        매장           N            Y   \n",
       "3 2011-12-11         NaT            97       인터넷           Y            Y   \n",
       "4 2011-12-11  2016-05-02            53        기타           N            N   \n",
       "\n",
       "  flag_rcv_email flag_rcv_post  zipcode sigun  dong    ri  \\\n",
       "0              Y             Y  690-170   제주시    연동   NaN   \n",
       "1              Y             Y  690-122   제주시  아라2동   NaN   \n",
       "2              Y             N  699-900  서귀포시   성산읍   NaN   \n",
       "3              Y             Y  695-791   제주시   애월읍  광령2리   \n",
       "4              N             N  699-905  서귀포시   성산읍   삼달리   \n",
       "\n",
       "                  address  \n",
       "0               제주 제주시 연동  \n",
       "1             제주 제주시 아라2동  \n",
       "2             제주 서귀포시 성산읍  \n",
       "3  제주 제주시 애월읍 광령2리 제주관광대학  \n",
       "4         제주 서귀포시 성산읍 삼달리  "
      ]
     },
     "execution_count": 4,
     "metadata": {},
     "output_type": "execute_result"
    }
   ],
   "source": [
    "df_member.head()"
   ]
  },
  {
   "cell_type": "code",
   "execution_count": 5,
   "metadata": {},
   "outputs": [
    {
     "data": {
      "text/plain": [
       "Index(['customer_id', 'birth_date', 'gender', 'age', 'agegroup',\n",
       "       'customer_type', 'customer_grade', 'gaip_date', 'taltoi_date',\n",
       "       'member_month', 'gaip_path', 'flag_member', 'flag_rcv_sms',\n",
       "       'flag_rcv_email', 'flag_rcv_post', 'zipcode', 'sigun', 'dong', 'ri',\n",
       "       'address'],\n",
       "      dtype='object')"
      ]
     },
     "execution_count": 5,
     "metadata": {},
     "output_type": "execute_result"
    }
   ],
   "source": [
    "df_member.columns"
   ]
  },
  {
   "cell_type": "code",
   "execution_count": 6,
   "metadata": {},
   "outputs": [],
   "source": [
    "# join 데이터 불러오기\n",
    "df_join = pd.read_csv(\"sales_member_join_processed.csv\")"
   ]
  },
  {
   "cell_type": "code",
   "execution_count": 7,
   "metadata": {},
   "outputs": [],
   "source": [
    "# 탈퇴 데이터 생성\n",
    "df_taltoi = df_member[df_member[\"flag_member\"]==\"N\"]"
   ]
  },
  {
   "cell_type": "code",
   "execution_count": 8,
   "metadata": {},
   "outputs": [],
   "source": [
    "# 탈퇴 데이터 csv로 저장 - 나 따로 편하게 살펴볼라고\n",
    "df_taltoi.to_csv(\"jeju_taltoi.csv\")"
   ]
  },
  {
   "cell_type": "code",
   "execution_count": 9,
   "metadata": {},
   "outputs": [],
   "source": [
    "# 판매 데이터 불러오기\n",
    "df_sales = pd.read_csv(\"jeju_sales.csv\")"
   ]
  },
  {
   "cell_type": "code",
   "execution_count": 10,
   "metadata": {},
   "outputs": [
    {
     "data": {
      "text/html": [
       "<div>\n",
       "<style scoped>\n",
       "    .dataframe tbody tr th:only-of-type {\n",
       "        vertical-align: middle;\n",
       "    }\n",
       "\n",
       "    .dataframe tbody tr th {\n",
       "        vertical-align: top;\n",
       "    }\n",
       "\n",
       "    .dataframe thead th {\n",
       "        text-align: right;\n",
       "    }\n",
       "</style>\n",
       "<table border=\"1\" class=\"dataframe\">\n",
       "  <thead>\n",
       "    <tr style=\"text-align: right;\">\n",
       "      <th></th>\n",
       "      <th>customer_id</th>\n",
       "      <th>birth_date</th>\n",
       "      <th>gender</th>\n",
       "      <th>age</th>\n",
       "      <th>agegroup</th>\n",
       "      <th>customer_type</th>\n",
       "      <th>customer_grade</th>\n",
       "      <th>gaip_date</th>\n",
       "      <th>taltoi_date</th>\n",
       "      <th>member_month</th>\n",
       "      <th>...</th>\n",
       "      <th>purchase_time</th>\n",
       "      <th>supply_date</th>\n",
       "      <th>item_id</th>\n",
       "      <th>item_g_l</th>\n",
       "      <th>item_g_m</th>\n",
       "      <th>item_g_s</th>\n",
       "      <th>item_name</th>\n",
       "      <th>purchase_cnt</th>\n",
       "      <th>unit_cost</th>\n",
       "      <th>purchase_amt</th>\n",
       "    </tr>\n",
       "  </thead>\n",
       "  <tbody>\n",
       "  </tbody>\n",
       "</table>\n",
       "<p>0 rows × 36 columns</p>\n",
       "</div>"
      ],
      "text/plain": [
       "Empty DataFrame\n",
       "Columns: [customer_id, birth_date, gender, age, agegroup, customer_type, customer_grade, gaip_date, taltoi_date, member_month, gaip_path, flag_member, flag_rcv_sms, flag_rcv_email, flag_rcv_post, zipcode, sigun, dong, ri, address, purchase_id, store_id, purchase_yearmonth, purchase_weekday, purchase_hour, purchase_date, purchase_time, supply_date, item_id, item_g_l, item_g_m, item_g_s, item_name, purchase_cnt, unit_cost, purchase_amt]\n",
       "Index: []\n",
       "\n",
       "[0 rows x 36 columns]"
      ]
     },
     "execution_count": 10,
     "metadata": {},
     "output_type": "execute_result"
    }
   ],
   "source": [
    "# 탈퇴 데이터랑 판매 데이터를 합쳤는데\n",
    "pd.merge(df_taltoi, df_sales, how='inner', on=None)"
   ]
  },
  {
   "cell_type": "markdown",
   "metadata": {},
   "source": [
    "df_taltoi 구매 기록이 없다!!"
   ]
  },
  {
   "cell_type": "markdown",
   "metadata": {},
   "source": [
    "----"
   ]
  },
  {
   "cell_type": "markdown",
   "metadata": {},
   "source": [
    "# 탈퇴예측 EDA"
   ]
  },
  {
   "cell_type": "markdown",
   "metadata": {},
   "source": [
    "**가입 경로**"
   ]
  },
  {
   "cell_type": "code",
   "execution_count": 11,
   "metadata": {
    "scrolled": true
   },
   "outputs": [
    {
     "data": {
      "text/plain": [
       "Text(0.5, 1.0, '전체회원 가입경로')"
      ]
     },
     "execution_count": 11,
     "metadata": {},
     "output_type": "execute_result"
    },
    {
     "data": {
      "image/png": "[encoded data removed]",
      "text/plain": [
       "<Figure size 432x288 with 2 Axes>"
      ]
     },
     "metadata": {},
     "output_type": "display_data"
    }
   ],
   "source": [
    "gaip_path_taltoi = df_taltoi['gaip_path'].value_counts()\n",
    "gaip_path_member = df_member['gaip_path'].value_counts()\n",
    "\n",
    "ax1 = plt.subplot(1,2,1)\n",
    "graph1 = plt.pie(x=gaip_path_taltoi, labels=gaip_path_taltoi.index, autopct='%.1f%%', shadow=True)\n",
    "plt.title(\"탈퇴회원 가입경로\")\n",
    "\n",
    "ax2 = plt.subplot(1,2,2)\n",
    "graph2 = plt.pie(x=gaip_path_member, labels=gaip_path_member.index, autopct='%.1f%%', shadow=True)\n",
    "plt.title(\"전체회원 가입경로\")"
   ]
  },
  {
   "cell_type": "markdown",
   "metadata": {},
   "source": [
    "탈퇴 회원의 가입 경로 중 가장 많은 비율은 매장 방문 가입이다\\\n",
    "뒤로 인터넷, 전화, 기타 순이다\\\n",
    "\n",
    "전체 회원의 가입 경로는 같은 매장, 인터넷, 전화 순이다\\\n",
    "비율은 다르지만 순서는 같다"
   ]
  },
  {
   "cell_type": "markdown",
   "metadata": {},
   "source": [
    "**조합원 등급**"
   ]
  },
  {
   "cell_type": "code",
   "execution_count": 12,
   "metadata": {},
   "outputs": [
    {
     "data": {
      "text/plain": [
       "Text(0.5, 1.0, '전체회원 조합원 등급')"
      ]
     },
     "execution_count": 12,
     "metadata": {},
     "output_type": "execute_result"
    },
    {
     "data": {
      "image/png": "[encoded data removed]",
      "text/plain": [
       "<Figure size 432x288 with 2 Axes>"
      ]
     },
     "metadata": {},
     "output_type": "display_data"
    }
   ],
   "source": [
    "customer_grade_taltoi = df_taltoi['customer_grade'].value_counts()\n",
    "customer_grade_member = df_member['customer_grade'].value_counts()\n",
    "\n",
    "\n",
    "ax1 = plt.subplot(1,2,1)\n",
    "graph1 = plt.pie(x=customer_grade_taltoi, labels=customer_grade_taltoi.index, autopct='%.1f%%', shadow=True)\n",
    "plt.title(\"탈퇴회원 조합원 등급\")\n",
    "\n",
    "\n",
    "ax2 = plt.subplot(1,2,2)\n",
    "graph2 = plt.pie(x=customer_grade_member, labels=customer_grade_member.index, autopct='%.1f%%', shadow=True)\n",
    "plt.title(\"전체회원 조합원 등급\")"
   ]
  },
  {
   "cell_type": "markdown",
   "metadata": {},
   "source": [
    "탈퇴 회원의 조합원 등급은 Silver(61.2%), Gold(30.4%), Platinum(8.4%) 순이다\n",
    "\n",
    "전체 회원의 조합원 등급은 Gold(42.2%), Silver(39.7%), Platinum(16.3%), Royal(1.7%)"
   ]
  },
  {
   "cell_type": "markdown",
   "metadata": {},
   "source": [
    "**가입 일자 & 탈퇴 일자**"
   ]
  },
  {
   "cell_type": "code",
   "execution_count": 13,
   "metadata": {},
   "outputs": [
    {
     "data": {
      "text/plain": [
       "Text(0.5, 1.0, '탈퇴 일자')"
      ]
     },
     "execution_count": 13,
     "metadata": {},
     "output_type": "execute_result"
    },
    {
     "data": {
      "image/png": "[encoded data removed]",
      "text/plain": [
       "<Figure size 432x288 with 2 Axes>"
      ]
     },
     "metadata": {
      "needs_background": "light"
     },
     "output_type": "display_data"
    }
   ],
   "source": [
    "ax1 = plt.subplot(1,2,1)\n",
    "graph1 = df_taltoi[\"gaip_date\"].hist()\n",
    "plt.rcParams[\"figure.figsize\"] = (15,4)\n",
    "plt.title(\"가입 일자\")\n",
    "\n",
    "\n",
    "ax2 = plt.subplot(1,2,2)\n",
    "graph2 = df_taltoi[\"taltoi_date\"].hist()\n",
    "plt.rcParams[\"figure.figsize\"] = (15,4)\n",
    "plt.title(\"탈퇴 일자\")\n"
   ]
  },
  {
   "cell_type": "markdown",
   "metadata": {},
   "source": [
    "가입일자는 2013, 2017에 쌍봉ㅎㅎ 처럼 보인다\\\n",
    "탈퇴일자는 2018, 2019, 2020에 몰려있다"
   ]
  },
  {
   "cell_type": "markdown",
   "metadata": {},
   "source": [
    "**회원 기간(월)**"
   ]
  },
  {
   "cell_type": "code",
   "execution_count": 14,
   "metadata": {
    "scrolled": true
   },
   "outputs": [
    {
     "data": {
      "image/png": "[encoded data removed]",
      "text/plain": [
       "<Figure size 1080x288 with 1 Axes>"
      ]
     },
     "metadata": {
      "needs_background": "light"
     },
     "output_type": "display_data"
    }
   ],
   "source": [
    "df_taltoi[\"member_month\"].hist()\n",
    "plt.title(\"탈퇴회원 SMS 수신여부\")\n",
    "plt.rcParams[\"figure.figsize\"] = (6,3)"
   ]
  },
  {
   "cell_type": "markdown",
   "metadata": {},
   "source": [
    "탈퇴 회원의 약 50%가 10달 이내에 탈퇴하였다"
   ]
  },
  {
   "cell_type": "markdown",
   "metadata": {},
   "source": [
    "**SMS/Email/우편 수신 여부**"
   ]
  },
  {
   "cell_type": "code",
   "execution_count": 15,
   "metadata": {
    "scrolled": false
   },
   "outputs": [
    {
     "data": {
      "text/plain": [
       "Text(0.5, 1.0, '전체회원 우편 수신여부')"
      ]
     },
     "execution_count": 15,
     "metadata": {},
     "output_type": "execute_result"
    },
    {
     "data": {
      "image/png": "[encoded data removed]",
      "text/plain": [
       "<Figure size 576x720 with 6 Axes>"
      ]
     },
     "metadata": {},
     "output_type": "display_data"
    }
   ],
   "source": [
    "plt.rcParams[\"figure.figsize\"] = (8,10)\n",
    "\n",
    "flag_rcv_sms_taltoi = df_taltoi['flag_rcv_sms'].value_counts()\n",
    "flag_rcv_sms_member = df_member['flag_rcv_sms'].value_counts()\n",
    "flag_rcv_email_taltoi = df_taltoi['flag_rcv_email'].value_counts()\n",
    "flag_rcv_email_member = df_member['flag_rcv_email'].value_counts()\n",
    "flag_rcv_post_taltoi = df_taltoi['flag_rcv_post'].value_counts()\n",
    "flag_rcv_post_member = df_member['flag_rcv_post'].value_counts()\n",
    "\n",
    "ax1 = plt.subplot(3,2,1)\n",
    "graph1 = plt.pie(x=flag_rcv_sms_taltoi, labels=flag_rcv_sms_taltoi.index, autopct='%.1f%%', shadow=True)\n",
    "plt.title(\"탈퇴회원 SMS 수신여부\")\n",
    "\n",
    "ax2 = plt.subplot(3,2,2)\n",
    "graph2 = plt.pie(x=flag_rcv_sms_member, labels=flag_rcv_sms_member.index, autopct='%.1f%%', shadow=True)\n",
    "plt.title(\"전체회원 SMS 수신여부\")\n",
    "\n",
    "ax3 = plt.subplot(3,2,3)\n",
    "graph2 = plt.pie(x=flag_rcv_email_taltoi, labels=flag_rcv_email_taltoi.index, autopct='%.1f%%', shadow=True)\n",
    "plt.title(\"탈퇴회원 Email 수신여부\")\n",
    "\n",
    "ax4 = plt.subplot(3,2,4)\n",
    "graph2 = plt.pie(x=flag_rcv_email_member, labels=flag_rcv_email_member.index, autopct='%.1f%%', shadow=True)\n",
    "plt.title(\"전체회원 Email 수신여부\")\n",
    "\n",
    "ax5 = plt.subplot(3,2,5)\n",
    "graph2 = plt.pie(x=flag_rcv_post_taltoi, labels=flag_rcv_post_taltoi.index, autopct='%.1f%%', shadow=True)\n",
    "plt.title(\"탈퇴회원 우편 수신여부\")\n",
    "\n",
    "ax6 = plt.subplot(3,2,6)\n",
    "graph2 = plt.pie(x=flag_rcv_post_member, labels=flag_rcv_post_member.index, autopct='%.1f%%', shadow=True)\n",
    "plt.title(\"전체회원 우편 수신여부\")"
   ]
  },
  {
   "cell_type": "markdown",
   "metadata": {},
   "source": [
    "탈퇴회원과 전체회원의 SMS/우편 수신 여부에서 큰 차이를 보이지 않는다\\\n",
    "Email은 조금 많을수도?"
   ]
  },
  {
   "cell_type": "markdown",
   "metadata": {},
   "source": [
    "### 탈퇴 회원 정리\n",
    "- 조합원 유형은 모두 일반\n",
    "- 조합원 등급은 Silver(61.2%), Gold(30.4%), Platinum(8.4%) 순 (전체 멤버는 Gold, Silver, Platinium 순)\n",
    "- 가입일자는 2013, 2017년도에 가장 많고 탈퇴일자는 2018, 2019, 2020에 가장 많다\n",
    "- 회원기간은 탈퇴 회원의 약 50%가 10달 이내에 탈퇴하였다\n",
    "- 가입 경로는 매장, 인터넷, 전화 순 (전체 멤버와 순서 같음)\n",
    "- SMS/우편 수신 여부는 큰 차이를 보이지 않으나 Email은 약간의 차이를 보인다고 말할 수 있다고 판단하였다"
   ]
  },
  {
   "cell_type": "markdown",
   "metadata": {},
   "source": [
    "### 더 봐야할 점?\n",
    "- 사는 지역?"
   ]
  },
  {
   "cell_type": "markdown",
   "metadata": {},
   "source": [
    "------"
   ]
  }
 ],
 "metadata": {
  "kernelspec": {
   "display_name": "Python 3",
   "language": "python",
   "name": "python3"
  },
  "language_info": {
   "codemirror_mode": {
    "name": "ipython",
    "version": 3
   },
   "file_extension": ".py",
   "mimetype": "text/x-python",
   "name": "python",
   "nbconvert_exporter": "python",
   "pygments_lexer": "ipython3",
   "version": "3.8.5"
  }
 },
 "nbformat": 4,
 "nbformat_minor": 4
}
